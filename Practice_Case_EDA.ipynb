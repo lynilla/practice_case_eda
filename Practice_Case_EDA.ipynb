{
  "nbformat": 4,
  "nbformat_minor": 0,
  "metadata": {
    "colab": {
      "name": "Practice Case_EDA.ipynb",
      "provenance": [],
      "collapsed_sections": [
        "1dfRZavfXlzN"
      ]
    },
    "kernelspec": {
      "name": "python3",
      "display_name": "Python 3"
    },
    "language_info": {
      "name": "python"
    }
  },
  "cells": [
    {
      "cell_type": "markdown",
      "metadata": {
        "id": "H33etkRrXV-7"
      },
      "source": [
        "#Practice Case - EDA\n",
        "Stella Linda Cyrilla"
      ]
    },
    {
      "cell_type": "markdown",
      "metadata": {
        "id": "1dfRZavfXlzN"
      },
      "source": [
        "## Import Libraries"
      ]
    },
    {
      "cell_type": "code",
      "metadata": {
        "id": "tsni_ZlmXT3a"
      },
      "source": [
        "import pandas as pd\n",
        "import numpy as np\n",
        "import seaborn as sns\n",
        "from sklearn import preprocessing"
      ],
      "execution_count": null,
      "outputs": []
    },
    {
      "cell_type": "markdown",
      "metadata": {
        "id": "AW_rUdd-X0g6"
      },
      "source": [
        "## Load dataset in CSV format from URL"
      ]
    },
    {
      "cell_type": "code",
      "metadata": {
        "colab": {
          "base_uri": "https://localhost:8080/",
          "height": 361
        },
        "id": "XPOd1pL4YCHY",
        "outputId": "ccc5016b-fa58-4905-9685-f8f65e08f9be"
      },
      "source": [
        "url=\"https://raw.githubusercontent.com/Syukrondzeko/Fellowship/main/epl_1819.csv\"\n",
        "\n",
        "#download the csv file from URL and create the dataframe\n",
        "df=pd.read_csv(url)\n",
        "df.head(5)"
      ],
      "execution_count": null,
      "outputs": [
        {
          "output_type": "execute_result",
          "data": {
            "text/html": [
              "<div>\n",
              "<style scoped>\n",
              "    .dataframe tbody tr th:only-of-type {\n",
              "        vertical-align: middle;\n",
              "    }\n",
              "\n",
              "    .dataframe tbody tr th {\n",
              "        vertical-align: top;\n",
              "    }\n",
              "\n",
              "    .dataframe thead th {\n",
              "        text-align: right;\n",
              "    }\n",
              "</style>\n",
              "<table border=\"1\" class=\"dataframe\">\n",
              "  <thead>\n",
              "    <tr style=\"text-align: right;\">\n",
              "      <th></th>\n",
              "      <th>Team</th>\n",
              "      <th>category</th>\n",
              "      <th>general_league_position</th>\n",
              "      <th>finance _live_games_televised</th>\n",
              "      <th>finance _tv_revenue</th>\n",
              "      <th>general_matches_played</th>\n",
              "      <th>general_won</th>\n",
              "      <th>general_draw</th>\n",
              "      <th>general_lost</th>\n",
              "      <th>attack_scored</th>\n",
              "      <th>defence_goals_conceeded</th>\n",
              "      <th>general_goal_difference</th>\n",
              "      <th>general_points</th>\n",
              "      <th>general_squad_size</th>\n",
              "      <th>general_squad_average_age</th>\n",
              "      <th>general_squad_foreigners</th>\n",
              "      <th>finance _team_market</th>\n",
              "      <th>finance _market_average</th>\n",
              "      <th>attack_passes</th>\n",
              "      <th>attack_passes_through</th>\n",
              "      <th>attack_passes_long</th>\n",
              "      <th>attack_passes_back</th>\n",
              "      <th>attack_crosses</th>\n",
              "      <th>attack_corners_taken</th>\n",
              "      <th>attack_shots</th>\n",
              "      <th>attack_shots_on_target</th>\n",
              "      <th>attack_goals_headed</th>\n",
              "      <th>attack_goals_penalty</th>\n",
              "      <th>attack_goals_box</th>\n",
              "      <th>attack_goals_outsidebox</th>\n",
              "      <th>general_card_yellow</th>\n",
              "      <th>general_card_red</th>\n",
              "      <th>attack_goals_counter</th>\n",
              "      <th>attack_goals_freekick</th>\n",
              "      <th>defence_saves</th>\n",
              "      <th>defence_blocks</th>\n",
              "      <th>defence_interceptions</th>\n",
              "      <th>defence_tackles</th>\n",
              "      <th>defence_tackles_last_man</th>\n",
              "      <th>defence_clearances</th>\n",
              "      <th>defence_clearances_headed</th>\n",
              "      <th>defence_penalty_conceeded</th>\n",
              "      <th>attack_posession</th>\n",
              "      <th>attack_pass_accuracy</th>\n",
              "    </tr>\n",
              "  </thead>\n",
              "  <tbody>\n",
              "    <tr>\n",
              "      <th>0</th>\n",
              "      <td>Manchester City</td>\n",
              "      <td>Champions League</td>\n",
              "      <td>1</td>\n",
              "      <td>26</td>\n",
              "      <td>150986355</td>\n",
              "      <td>38</td>\n",
              "      <td>32</td>\n",
              "      <td>2</td>\n",
              "      <td>4</td>\n",
              "      <td>95</td>\n",
              "      <td>23</td>\n",
              "      <td>72</td>\n",
              "      <td>98</td>\n",
              "      <td>25</td>\n",
              "      <td>27.1</td>\n",
              "      <td>20</td>\n",
              "      <td>1003200000</td>\n",
              "      <td>39987200</td>\n",
              "      <td>26,581</td>\n",
              "      <td>112</td>\n",
              "      <td>1,814</td>\n",
              "      <td>4,240</td>\n",
              "      <td>783</td>\n",
              "      <td>298</td>\n",
              "      <td>683</td>\n",
              "      <td>260</td>\n",
              "      <td>12</td>\n",
              "      <td>3</td>\n",
              "      <td>80</td>\n",
              "      <td>15</td>\n",
              "      <td>44</td>\n",
              "      <td>1</td>\n",
              "      <td>5</td>\n",
              "      <td>2</td>\n",
              "      <td>58</td>\n",
              "      <td>63</td>\n",
              "      <td>362</td>\n",
              "      <td>518</td>\n",
              "      <td>0</td>\n",
              "      <td>543</td>\n",
              "      <td>295</td>\n",
              "      <td>4</td>\n",
              "      <td>64.0</td>\n",
              "      <td>89.0</td>\n",
              "    </tr>\n",
              "    <tr>\n",
              "      <th>1</th>\n",
              "      <td>Liverpool</td>\n",
              "      <td>Champions League</td>\n",
              "      <td>2</td>\n",
              "      <td>29</td>\n",
              "      <td>152425146</td>\n",
              "      <td>38</td>\n",
              "      <td>30</td>\n",
              "      <td>7</td>\n",
              "      <td>1</td>\n",
              "      <td>89</td>\n",
              "      <td>22</td>\n",
              "      <td>67</td>\n",
              "      <td>97</td>\n",
              "      <td>24</td>\n",
              "      <td>26.8</td>\n",
              "      <td>16</td>\n",
              "      <td>836440000</td>\n",
              "      <td>34848000</td>\n",
              "      <td>23,638</td>\n",
              "      <td>98</td>\n",
              "      <td>2,250</td>\n",
              "      <td>3,416</td>\n",
              "      <td>721</td>\n",
              "      <td>249</td>\n",
              "      <td>575</td>\n",
              "      <td>226</td>\n",
              "      <td>19</td>\n",
              "      <td>7</td>\n",
              "      <td>84</td>\n",
              "      <td>5</td>\n",
              "      <td>38</td>\n",
              "      <td>2</td>\n",
              "      <td>6</td>\n",
              "      <td>1</td>\n",
              "      <td>76</td>\n",
              "      <td>78</td>\n",
              "      <td>314</td>\n",
              "      <td>610</td>\n",
              "      <td>2</td>\n",
              "      <td>639</td>\n",
              "      <td>317</td>\n",
              "      <td>1</td>\n",
              "      <td>58.8</td>\n",
              "      <td>84.4</td>\n",
              "    </tr>\n",
              "    <tr>\n",
              "      <th>2</th>\n",
              "      <td>Chelsea</td>\n",
              "      <td>Champions League Qualification</td>\n",
              "      <td>3</td>\n",
              "      <td>25</td>\n",
              "      <td>146030216</td>\n",
              "      <td>38</td>\n",
              "      <td>21</td>\n",
              "      <td>9</td>\n",
              "      <td>8</td>\n",
              "      <td>63</td>\n",
              "      <td>39</td>\n",
              "      <td>24</td>\n",
              "      <td>72</td>\n",
              "      <td>26</td>\n",
              "      <td>28.1</td>\n",
              "      <td>19</td>\n",
              "      <td>779460000</td>\n",
              "      <td>29981600</td>\n",
              "      <td>25,070</td>\n",
              "      <td>146</td>\n",
              "      <td>1,774</td>\n",
              "      <td>3,874</td>\n",
              "      <td>692</td>\n",
              "      <td>215</td>\n",
              "      <td>607</td>\n",
              "      <td>198</td>\n",
              "      <td>8</td>\n",
              "      <td>5</td>\n",
              "      <td>54</td>\n",
              "      <td>9</td>\n",
              "      <td>49</td>\n",
              "      <td>0</td>\n",
              "      <td>1</td>\n",
              "      <td>1</td>\n",
              "      <td>85</td>\n",
              "      <td>73</td>\n",
              "      <td>351</td>\n",
              "      <td>618</td>\n",
              "      <td>2</td>\n",
              "      <td>593</td>\n",
              "      <td>330</td>\n",
              "      <td>2</td>\n",
              "      <td>59.9</td>\n",
              "      <td>87.6</td>\n",
              "    </tr>\n",
              "    <tr>\n",
              "      <th>3</th>\n",
              "      <td>Tottenham</td>\n",
              "      <td>Champions League Qualification</td>\n",
              "      <td>4</td>\n",
              "      <td>26</td>\n",
              "      <td>145230801</td>\n",
              "      <td>38</td>\n",
              "      <td>23</td>\n",
              "      <td>2</td>\n",
              "      <td>13</td>\n",
              "      <td>67</td>\n",
              "      <td>39</td>\n",
              "      <td>28</td>\n",
              "      <td>71</td>\n",
              "      <td>25</td>\n",
              "      <td>27.0</td>\n",
              "      <td>17</td>\n",
              "      <td>735240000</td>\n",
              "      <td>29409600</td>\n",
              "      <td>21,295</td>\n",
              "      <td>87</td>\n",
              "      <td>2,267</td>\n",
              "      <td>3,191</td>\n",
              "      <td>643</td>\n",
              "      <td>194</td>\n",
              "      <td>537</td>\n",
              "      <td>189</td>\n",
              "      <td>14</td>\n",
              "      <td>4</td>\n",
              "      <td>53</td>\n",
              "      <td>14</td>\n",
              "      <td>56</td>\n",
              "      <td>3</td>\n",
              "      <td>5</td>\n",
              "      <td>2</td>\n",
              "      <td>121</td>\n",
              "      <td>112</td>\n",
              "      <td>326</td>\n",
              "      <td>626</td>\n",
              "      <td>3</td>\n",
              "      <td>770</td>\n",
              "      <td>411</td>\n",
              "      <td>5</td>\n",
              "      <td>56.7</td>\n",
              "      <td>83.2</td>\n",
              "    </tr>\n",
              "    <tr>\n",
              "      <th>4</th>\n",
              "      <td>Arsenal</td>\n",
              "      <td>Europa League</td>\n",
              "      <td>5</td>\n",
              "      <td>25</td>\n",
              "      <td>142193180</td>\n",
              "      <td>38</td>\n",
              "      <td>21</td>\n",
              "      <td>7</td>\n",
              "      <td>10</td>\n",
              "      <td>73</td>\n",
              "      <td>51</td>\n",
              "      <td>22</td>\n",
              "      <td>70</td>\n",
              "      <td>26</td>\n",
              "      <td>27.5</td>\n",
              "      <td>18</td>\n",
              "      <td>701800000</td>\n",
              "      <td>26989600</td>\n",
              "      <td>20,805</td>\n",
              "      <td>65</td>\n",
              "      <td>2,062</td>\n",
              "      <td>3,102</td>\n",
              "      <td>605</td>\n",
              "      <td>209</td>\n",
              "      <td>467</td>\n",
              "      <td>170</td>\n",
              "      <td>5</td>\n",
              "      <td>4</td>\n",
              "      <td>62</td>\n",
              "      <td>11</td>\n",
              "      <td>72</td>\n",
              "      <td>2</td>\n",
              "      <td>3</td>\n",
              "      <td>3</td>\n",
              "      <td>133</td>\n",
              "      <td>118</td>\n",
              "      <td>412</td>\n",
              "      <td>609</td>\n",
              "      <td>2</td>\n",
              "      <td>762</td>\n",
              "      <td>404</td>\n",
              "      <td>7</td>\n",
              "      <td>56.1</td>\n",
              "      <td>83.3</td>\n",
              "    </tr>\n",
              "  </tbody>\n",
              "</table>\n",
              "</div>"
            ],
            "text/plain": [
              "              Team  ... attack_pass_accuracy\n",
              "0  Manchester City  ...                 89.0\n",
              "1        Liverpool  ...                 84.4\n",
              "2          Chelsea  ...                 87.6\n",
              "3        Tottenham  ...                 83.2\n",
              "4          Arsenal  ...                 83.3\n",
              "\n",
              "[5 rows x 44 columns]"
            ]
          },
          "metadata": {
            "tags": []
          },
          "execution_count": 167
        }
      ]
    },
    {
      "cell_type": "markdown",
      "metadata": {
        "id": "N5Z2R1ITY6VM"
      },
      "source": [
        "## 1.Is this data clean? "
      ]
    },
    {
      "cell_type": "code",
      "metadata": {
        "colab": {
          "base_uri": "https://localhost:8080/"
        },
        "id": "N3MiSJJ7ZDxn",
        "outputId": "cb11bfd3-76d2-4f0c-d445-b2fc863a2842"
      },
      "source": [
        "#check if there is any column that contains missing (NaN) value\n",
        "print(\"column with missing value(s): \",df.columns[df.isna().any()].tolist(),'\\n')"
      ],
      "execution_count": null,
      "outputs": [
        {
          "output_type": "stream",
          "text": [
            "column with missing value(s):  [] \n",
            "\n"
          ],
          "name": "stdout"
        }
      ]
    },
    {
      "cell_type": "code",
      "metadata": {
        "colab": {
          "base_uri": "https://localhost:8080/"
        },
        "id": "luXG7ZKVfPCr",
        "outputId": "72d240c3-18d4-4139-f489-f06950da301a"
      },
      "source": [
        "#check team data\n",
        "print('\\nNumber of rows based on each Team name: ')\n",
        "df.Team.value_counts()"
      ],
      "execution_count": null,
      "outputs": [
        {
          "output_type": "stream",
          "text": [
            "\n",
            "Number of rows based on each Team name: \n"
          ],
          "name": "stdout"
        },
        {
          "output_type": "execute_result",
          "data": {
            "text/plain": [
              "Southampton          1\n",
              "Brighton             1\n",
              "Crystal Palace       1\n",
              "Chelsea              1\n",
              "Watford              1\n",
              "Fulham               1\n",
              "Manchester City      1\n",
              "West Ham             1\n",
              "Huddersfield         1\n",
              "Wolverhampton        1\n",
              "Everton              1\n",
              "Tottenham            1\n",
              "Cardiff              1\n",
              "Arsenal              1\n",
              "Manchester United    1\n",
              "Newcastle            1\n",
              "Burnley              1\n",
              "Liverpool            1\n",
              " Bournemouth         1\n",
              "Leicester            1\n",
              "Name: Team, dtype: int64"
            ]
          },
          "metadata": {
            "tags": []
          },
          "execution_count": 141
        }
      ]
    },
    {
      "cell_type": "code",
      "metadata": {
        "colab": {
          "base_uri": "https://localhost:8080/"
        },
        "id": "PZQZMF_8fEk2",
        "outputId": "ef25ae05-e0e8-4f27-d91b-e446aee56c51"
      },
      "source": [
        "#check the data types\n",
        "df.dtypes"
      ],
      "execution_count": null,
      "outputs": [
        {
          "output_type": "execute_result",
          "data": {
            "text/plain": [
              "Team                              object\n",
              "category                          object\n",
              "general_league_position            int64\n",
              "finance _live_games_televised      int64\n",
              "finance _tv_revenue                int64\n",
              "general_matches_played             int64\n",
              "general_won                        int64\n",
              "general_draw                       int64\n",
              "general_lost                       int64\n",
              "attack_scored                      int64\n",
              "defence_goals_conceeded            int64\n",
              "general_goal_difference            int64\n",
              "general_points                     int64\n",
              "general_squad_size                 int64\n",
              "general_squad_average_age        float64\n",
              "general_squad_foreigners           int64\n",
              "finance _team_market               int64\n",
              "finance _market_average            int64\n",
              "attack_passes                     object\n",
              "attack_passes_through              int64\n",
              "attack_passes_long                object\n",
              "attack_passes_back                object\n",
              "attack_crosses                     int64\n",
              "attack_corners_taken               int64\n",
              "attack_shots                       int64\n",
              "attack_shots_on_target             int64\n",
              "attack_goals_headed                int64\n",
              "attack_goals_penalty               int64\n",
              "attack_goals_box                   int64\n",
              "attack_goals_outsidebox            int64\n",
              "general_card_yellow                int64\n",
              "general_card_red                   int64\n",
              "attack_goals_counter               int64\n",
              "attack_goals_freekick              int64\n",
              "defence_saves                      int64\n",
              "defence_blocks                     int64\n",
              "defence_interceptions              int64\n",
              "defence_tackles                    int64\n",
              "defence_tackles_last_man           int64\n",
              "defence_clearances                object\n",
              "defence_clearances_headed          int64\n",
              "defence_penalty_conceeded          int64\n",
              "attack_posession                 float64\n",
              "attack_pass_accuracy             float64\n",
              "dtype: object"
            ]
          },
          "metadata": {
            "tags": []
          },
          "execution_count": 168
        }
      ]
    },
    {
      "cell_type": "markdown",
      "metadata": {
        "id": "ozrDdzzgfUuv"
      },
      "source": [
        "1. There isn't any missing value and duplicate from the dataset. \n",
        "2. But, we could see that some columns which contain integer values are classified into object datatypes (attack_passes, attack_passes_long, attack_passes_back, defence_clearances).\n",
        "Therefore, we could say that the data isn't fully clean."
      ]
    },
    {
      "cell_type": "markdown",
      "metadata": {
        "id": "G6JdvX_IiNeZ"
      },
      "source": [
        "We'll convert these columns into int64 datatypes"
      ]
    },
    {
      "cell_type": "code",
      "metadata": {
        "colab": {
          "base_uri": "https://localhost:8080/"
        },
        "id": "HgRkaPsIiR_c",
        "outputId": "7dbe6741-33ef-46c8-ea8a-4f5b94e199aa"
      },
      "source": [
        "columnToReplace = ['attack_passes', 'attack_passes_long' , 'attack_passes_back','defence_clearances']\n",
        "df[columnToReplace] = df[columnToReplace].replace(',','', regex=True)\n",
        "\n",
        "convert_dict = {'attack_passes': int,\n",
        "                'attack_passes_long' : int, 'attack_passes_back' : int,'defence_clearances':int\n",
        "              }\n",
        "  \n",
        "df = df.astype(convert_dict)\n",
        "print(df.dtypes)"
      ],
      "execution_count": 188,
      "outputs": [
        {
          "output_type": "stream",
          "text": [
            "Team                              object\n",
            "category                          object\n",
            "general_league_position            int64\n",
            "finance _live_games_televised      int64\n",
            "finance _tv_revenue                int64\n",
            "general_matches_played             int64\n",
            "general_won                        int64\n",
            "general_draw                       int64\n",
            "general_lost                       int64\n",
            "attack_scored                      int64\n",
            "defence_goals_conceeded            int64\n",
            "general_goal_difference            int64\n",
            "general_points                     int64\n",
            "general_squad_size                 int64\n",
            "general_squad_average_age        float64\n",
            "general_squad_foreigners           int64\n",
            "finance _team_market               int64\n",
            "finance _market_average            int64\n",
            "attack_passes                      int64\n",
            "attack_passes_through              int64\n",
            "attack_passes_long                 int64\n",
            "attack_passes_back                 int64\n",
            "attack_crosses                     int64\n",
            "attack_corners_taken               int64\n",
            "attack_shots                       int64\n",
            "attack_shots_on_target             int64\n",
            "attack_goals_headed                int64\n",
            "attack_goals_penalty               int64\n",
            "attack_goals_box                   int64\n",
            "attack_goals_outsidebox            int64\n",
            "general_card_yellow                int64\n",
            "general_card_red                   int64\n",
            "attack_goals_counter               int64\n",
            "attack_goals_freekick              int64\n",
            "defence_saves                      int64\n",
            "defence_blocks                     int64\n",
            "defence_interceptions              int64\n",
            "defence_tackles                    int64\n",
            "defence_tackles_last_man           int64\n",
            "defence_clearances                 int64\n",
            "defence_clearances_headed          int64\n",
            "defence_penalty_conceeded          int64\n",
            "attack_posession                 float64\n",
            "attack_pass_accuracy             float64\n",
            "dtype: object\n"
          ],
          "name": "stdout"
        }
      ]
    },
    {
      "cell_type": "markdown",
      "metadata": {
        "id": "fiFPKTozfpzL"
      },
      "source": [
        "## 2.\tHow is the point distribution of the epl team? and which team is an anomaly?"
      ]
    },
    {
      "cell_type": "code",
      "metadata": {
        "colab": {
          "base_uri": "https://localhost:8080/",
          "height": 321
        },
        "id": "T1MZwp3Hf1TE",
        "outputId": "b8af8166-fcfb-42ba-eb47-9e83343d50d2"
      },
      "source": [
        "#Create the boxplot to see the point (general_points) distribution\n",
        "sns.set_theme(style=\"whitegrid\")\n",
        "bplot = sns.boxplot(x='general_points', \n",
        "                 data=df,\n",
        "                 width=0.5,\n",
        "                 palette=\"colorblind\")\n",
        "\n",
        "bplot.axes.set_title(\"Point Distribution of the EPL Team\",\n",
        "                    fontsize=16)\n",
        "bplot.set_xlabel(\"general_points\",\n",
        "                fontsize=14)"
      ],
      "execution_count": 189,
      "outputs": [
        {
          "output_type": "execute_result",
          "data": {
            "text/plain": [
              "Text(0.5, 0, 'general_points')"
            ]
          },
          "metadata": {
            "tags": []
          },
          "execution_count": 189
        },
        {
          "output_type": "display_data",
          "data": {
            "image/png": "[encoded data removed]",
            "text/plain": [
              "<Figure size 432x288 with 1 Axes>"
            ]
          },
          "metadata": {
            "tags": []
          }
        }
      ]
    },
    {
      "cell_type": "code",
      "metadata": {
        "colab": {
          "base_uri": "https://localhost:8080/"
        },
        "id": "mbcyck3wtulW",
        "outputId": "2a3de810-11ab-4987-a5cf-e23b887a4338"
      },
      "source": [
        "#Find the data summary\n",
        "print(\"General Points Data Summary\")\n",
        "df['general_points'].describe()"
      ],
      "execution_count": null,
      "outputs": [
        {
          "output_type": "execute_result",
          "data": {
            "text/plain": [
              "count    20.000000\n",
              "mean     53.450000\n",
              "std      21.007455\n",
              "min      16.000000\n",
              "25%      39.750000\n",
              "50%      51.000000\n",
              "75%      67.000000\n",
              "max      98.000000\n",
              "Name: general_points, dtype: float64"
            ]
          },
          "metadata": {
            "tags": []
          },
          "execution_count": 145
        }
      ]
    },
    {
      "cell_type": "markdown",
      "metadata": {
        "id": "gXj_JWErujYI"
      },
      "source": [
        "## 3.\tWhich team has the best attack? "
      ]
    },
    {
      "cell_type": "markdown",
      "metadata": {
        "id": "5xb_lKlFM37y"
      },
      "source": [
        "To find the team with best attack, we'll calculate the mean fromn all columns with attack aspects. Since each column have different value ranges, we should normalize the each column value that will be used. By normalizing, all of these columns can give same proportions into the mean calculation."
      ]
    },
    {
      "cell_type": "code",
      "metadata": {
        "id": "wUcIzuimup4Z"
      },
      "source": [
        "#list the column name that would be used in attack mean calculation\n",
        "atk = ['attack_scored', 'attack_passes',\n",
        "                   'attack_passes_through','attack_passes_long',\n",
        "                   'attack_passes_back','attack_crosses',\n",
        "                   'attack_crosses','attack_corners_taken', \n",
        "                   'attack_shots','attack_shots_on_target', \n",
        "                   'attack_goals_headed','attack_goals_penalty', \n",
        "                   'attack_goals_box','attack_goals_outsidebox', \n",
        "                   'attack_goals_counter','attack_goals_freekick','attack_posession','attack_pass_accuracy']"
      ],
      "execution_count": null,
      "outputs": []
    },
    {
      "cell_type": "code",
      "metadata": {
        "colab": {
          "base_uri": "https://localhost:8080/",
          "height": 80
        },
        "id": "JqmK9WMpx3Ub",
        "outputId": "b5687fc1-c854-4fc6-a6c4-b597085721bb"
      },
      "source": [
        "#make a copied dataframe (df_atk) so the original df doesn't change\n",
        "df_atk = df.copy(deep=True)\n",
        "df_atk[atk] = df_atk[atk].apply(lambda x: (x - x.min()) / (x.max() - x.min()))\n",
        "\n",
        "#create a new column named overall_atk that contains mean value of the attack aspects\n",
        "df_atk['overall_atk'] = df_atk[atk].mean(axis=1)\n",
        "df_atk=df_atk.sort_values(by=['overall_atk'],ascending=False).reset_index(drop=True)\n",
        "df_atk\n",
        "\n",
        "#find the team that has the highest 'overall_atk'\n",
        "best_atk = df_atk[df_atk['overall_atk']== df_atk['overall_atk'].max()]\n",
        "best_atk[['Team','overall_atk']]"
      ],
      "execution_count": 192,
      "outputs": [
        {
          "output_type": "execute_result",
          "data": {
            "text/html": [
              "<div>\n",
              "<style scoped>\n",
              "    .dataframe tbody tr th:only-of-type {\n",
              "        vertical-align: middle;\n",
              "    }\n",
              "\n",
              "    .dataframe tbody tr th {\n",
              "        vertical-align: top;\n",
              "    }\n",
              "\n",
              "    .dataframe thead th {\n",
              "        text-align: right;\n",
              "    }\n",
              "</style>\n",
              "<table border=\"1\" class=\"dataframe\">\n",
              "  <thead>\n",
              "    <tr style=\"text-align: right;\">\n",
              "      <th></th>\n",
              "      <th>Team</th>\n",
              "      <th>overall_atk</th>\n",
              "    </tr>\n",
              "  </thead>\n",
              "  <tbody>\n",
              "    <tr>\n",
              "      <th>0</th>\n",
              "      <td>Manchester City</td>\n",
              "      <td>0.802672</td>\n",
              "    </tr>\n",
              "  </tbody>\n",
              "</table>\n",
              "</div>"
            ],
            "text/plain": [
              "              Team  overall_atk\n",
              "0  Manchester City     0.802672"
            ]
          },
          "metadata": {
            "tags": []
          },
          "execution_count": 192
        }
      ]
    },
    {
      "cell_type": "markdown",
      "metadata": {
        "id": "6yq1Ru0r9URD"
      },
      "source": [
        "## 4.\tWhich team has the best defence? "
      ]
    },
    {
      "cell_type": "code",
      "metadata": {
        "colab": {
          "base_uri": "https://localhost:8080/"
        },
        "id": "CabH7l0v2obu",
        "outputId": "cb950f8a-58b9-4a5e-ca53-40055a75f043"
      },
      "source": [
        "#similar steps with question no. 3\n",
        "defence = ['defence_saves','defence_blocks','defence_interceptions','defence_tackles','defence_tackles_last_man','defence_clearances',\n",
        "           'defence_clearances_headed','defence_penalty_conceeded']\n",
        "defence"
      ],
      "execution_count": null,
      "outputs": [
        {
          "output_type": "execute_result",
          "data": {
            "text/plain": [
              "['defence_saves',\n",
              " 'defence_blocks',\n",
              " 'defence_interceptions',\n",
              " 'defence_tackles',\n",
              " 'defence_tackles_last_man',\n",
              " 'defence_clearances',\n",
              " 'defence_clearances_headed',\n",
              " 'defence_penalty_conceeded']"
            ]
          },
          "metadata": {
            "tags": []
          },
          "execution_count": 179
        }
      ]
    },
    {
      "cell_type": "code",
      "metadata": {
        "colab": {
          "base_uri": "https://localhost:8080/",
          "height": 80
        },
        "id": "90yr6A4P-li1",
        "outputId": "47d54963-839f-4a17-f25b-863dff83aa02"
      },
      "source": [
        "#make a copied dataframe (df_def) so the original df doesn't change\n",
        "df_def = df.copy(deep=True)\n",
        "df_def[defence] = df_def[defence].apply(lambda x: (x - x.min()) / (x.max() - x.min()))\n",
        "\n",
        "#create a new column named overall_def that contains mean value of the defence aspects\n",
        "df_def['overall_def'] = df_def[defence].mean(axis=1)\n",
        "df_def=df_def.sort_values(by=['overall_def'],ascending=False).reset_index(drop=True)\n",
        "df_def\n",
        "\n",
        "#find the team that has the highest 'overall_atk'\n",
        "best_def = df_def[df_def['overall_def']== df_def['overall_def'].max()]\n",
        "best_def[['Team','overall_def']]"
      ],
      "execution_count": 209,
      "outputs": [
        {
          "output_type": "execute_result",
          "data": {
            "text/html": [
              "<div>\n",
              "<style scoped>\n",
              "    .dataframe tbody tr th:only-of-type {\n",
              "        vertical-align: middle;\n",
              "    }\n",
              "\n",
              "    .dataframe tbody tr th {\n",
              "        vertical-align: top;\n",
              "    }\n",
              "\n",
              "    .dataframe thead th {\n",
              "        text-align: right;\n",
              "    }\n",
              "</style>\n",
              "<table border=\"1\" class=\"dataframe\">\n",
              "  <thead>\n",
              "    <tr style=\"text-align: right;\">\n",
              "      <th></th>\n",
              "      <th>Team</th>\n",
              "      <th>overall_def</th>\n",
              "    </tr>\n",
              "  </thead>\n",
              "  <tbody>\n",
              "    <tr>\n",
              "      <th>0</th>\n",
              "      <td>Newcastle</td>\n",
              "      <td>0.72117</td>\n",
              "    </tr>\n",
              "  </tbody>\n",
              "</table>\n",
              "</div>"
            ],
            "text/plain": [
              "        Team  overall_def\n",
              "0  Newcastle      0.72117"
            ]
          },
          "metadata": {
            "tags": []
          },
          "execution_count": 209
        }
      ]
    },
    {
      "cell_type": "markdown",
      "metadata": {
        "id": "pLFYGe7PPMTA"
      },
      "source": [
        "## 5.\tWhich team is good in the financial aspect? "
      ]
    },
    {
      "cell_type": "code",
      "metadata": {
        "id": "geM1IgkUADX1",
        "colab": {
          "base_uri": "https://localhost:8080/",
          "height": 204
        },
        "outputId": "015e3bd1-c492-4e64-c0a5-f251af5fd6e3"
      },
      "source": [
        "#similar steps with question no. 3 and 4\n",
        "fin = ['finance _tv_revenue','finance _team_market','finance _market_average']\n",
        "\n",
        "#make a copied dataframe (df_def) so the original df doesn't change\n",
        "df_fin = df.copy(deep=True)\n",
        "\n",
        "#create a new column named overall_fin that contains mean value of the financial aspects\n",
        "df_fin['overall_fin'] = df_fin[fin].mean(axis=1)\n",
        "df_fin=df_fin.sort_values(by=['overall_fin'],ascending=False).reset_index(drop=True)\n",
        "df_fin['overall_fin'] = df_fin['overall_fin'].astype('int64')\n",
        "df_fin\n",
        "\n",
        "#find the team that has the highest 'overall_atk'\n",
        "df_fin = df_fin.sort_values(by=['overall_fin'],ascending=False).reset_index(drop=True)\n",
        "best_fin=df_fin[['Team','overall_fin']]\n",
        "best_fin.head(5)"
      ],
      "execution_count": 211,
      "outputs": [
        {
          "output_type": "execute_result",
          "data": {
            "text/html": [
              "<div>\n",
              "<style scoped>\n",
              "    .dataframe tbody tr th:only-of-type {\n",
              "        vertical-align: middle;\n",
              "    }\n",
              "\n",
              "    .dataframe tbody tr th {\n",
              "        vertical-align: top;\n",
              "    }\n",
              "\n",
              "    .dataframe thead th {\n",
              "        text-align: right;\n",
              "    }\n",
              "</style>\n",
              "<table border=\"1\" class=\"dataframe\">\n",
              "  <thead>\n",
              "    <tr style=\"text-align: right;\">\n",
              "      <th></th>\n",
              "      <th>Team</th>\n",
              "      <th>overall_fin</th>\n",
              "    </tr>\n",
              "  </thead>\n",
              "  <tbody>\n",
              "    <tr>\n",
              "      <th>0</th>\n",
              "      <td>Manchester City</td>\n",
              "      <td>398057851</td>\n",
              "    </tr>\n",
              "    <tr>\n",
              "      <th>1</th>\n",
              "      <td>Liverpool</td>\n",
              "      <td>341237715</td>\n",
              "    </tr>\n",
              "    <tr>\n",
              "      <th>2</th>\n",
              "      <td>Chelsea</td>\n",
              "      <td>318490605</td>\n",
              "    </tr>\n",
              "    <tr>\n",
              "      <th>3</th>\n",
              "      <td>Tottenham</td>\n",
              "      <td>303293467</td>\n",
              "    </tr>\n",
              "    <tr>\n",
              "      <th>4</th>\n",
              "      <td>Arsenal</td>\n",
              "      <td>290327593</td>\n",
              "    </tr>\n",
              "  </tbody>\n",
              "</table>\n",
              "</div>"
            ],
            "text/plain": [
              "              Team  overall_fin\n",
              "0  Manchester City    398057851\n",
              "1        Liverpool    341237715\n",
              "2          Chelsea    318490605\n",
              "3        Tottenham    303293467\n",
              "4          Arsenal    290327593"
            ]
          },
          "metadata": {
            "tags": []
          },
          "execution_count": 211
        }
      ]
    },
    {
      "cell_type": "markdown",
      "metadata": {
        "id": "kAtaFYB9XPfG"
      },
      "source": [
        "## 6. Other Thought"
      ]
    },
    {
      "cell_type": "markdown",
      "metadata": {
        "id": "gllbm0CLd4vb"
      },
      "source": [
        "Liverpool is a worth-to-invest team, since they have higher TV revenue from the Manchester City with cheaper finance team market price."
      ]
    },
    {
      "cell_type": "markdown",
      "metadata": {
        "id": "SC7sYZm1Wmih"
      },
      "source": [
        "![revenue_vs_market.PNG](data:image/png;base64,iVBORw0KGgoAAAANSUhEUgAABToAAAK6CAYAAAAZw+ObAAAAAXNSR0IArs4c6QAAAARnQU1BAACxjwv8YQUAAAAJcEhZcwAAFiUAABYlAUlSJPAAAPUESURBVHhe7P0PdNwFne//e+Ac9nDOyvVyLroH/HOuf5B1FZWiBKxIgfYiUPmnCyJf3AJGZm+hWWKxklK2SLv9tVd6te0CUmyk5lqV2C7QKDbYLaXZAIGIUApUChWaAmkK4aSGNpH3b96f+UzymclMMumnmb4yn+fjnM+hmUwnf55Nd/vy85l5lwEAAAAAAADAOMfQCQAAAAAAAGDcY+gEAAAAAAAAMO4xdAIAAAAAAAAY9xg6AQAAAAAAAIx7DJ0AAAAAAAAAxj2GTgAAAAAAAADjHkMnAAAAAAAAgHGPoRMAAAAAAADAuMfQCYw3G+bYhAkTwuNSq38pvB0YAy/VXzrw523OhvBGAAAAAAAElT50vlRvlw6MK6M/Mv9A7rG11w3edvU9u4KHLsWue64e+H1VM3+bfqRSvGT1lw5+vEJH1Wln29RptXbbLx6zP+8NfxswhqLDUSnHpflLJkOnjoJ/L15na0v7Cyr9V+JvbWZV/u/XGhQlhs7o95m1FQAAAABQRJmHzvS/69deN3j7dWtLHCyjA2mVzfxtqSvCyENnzlF1jn1vbYf1hb8bGAsMnRWkyN+L15W4dPalW1YV+P0MnXkYOgEAAAAAJSj70Gm77rGrB24v8cynnLOeRnG21GiHzuCosst/xnKEsRN76ISOIn8vlnbWeZ9tmFM15Pf6wdCZh6ETAAAAAFCCA/AcnRtsTvYfoBPmpN8ayS675+rs/avS/3Ae+fzJnLOeSj4L1EWHzkJnvvXZnt1b7bFfzLdLJmbvlz6qZlrJJ40CoxQdjhgxx7mcAe7BweGyKv134Yh/tbXZwkmDfw42zAkfJ30wdOZh6AQAAAAAlOAgDJ15z7eZ/kfr8HtA7llPpV4SmjHS0BnRnf46pmTvO9qPA5SOobOC5A1wg/+jTAn/I07bQpsU3PcCu/05f0aC8HHSB0NnHoZOAAAAAEAJDsrQaa+usiuzv2fSv9kjw+4Bg2c9TZhwtY3i9YvSRjF0pr1w1z+G951g/3jXC+GtBez9sz1Uf6NNO/u0gTNN/UWNpt1Ybw8VfEWjHvvtzOxYO8n+bfgvOOd5TCf92yMFh+C9f37I6m+cZmefln3cKjvt7Gl2Y/1Dw76oUqHRoq9ri917W23k68k81vzf/dkKP1SpzSP3u7Q+XaO4/f16Cnnu9gvCx5hgV656Nby1iM1L7dzs53jlKsu/99DvjR8TbfLUiy1Vd5vd+9RrRb5HxcUfOkf+vg6OZoN/7oPv8byUXTx5Yvi+9Ndxca3VP9E1zP/Y0Gd7tj1mv7itzlIXT7XJ0TOfJ07OvJBX0T8nrtDnutf+/FC9zUtdPPh46ce6uLbenugaYRx02Z+/qZNtYvjY/vN3cWqe1T+0zfYUe4hR/9yWIH+AizzNRrGf3azNS8/N/L5zl9rm9NslDZ19e2zbY7+w2+rSHSNfvx8TJ0+1abW32e+G+1oiz++a82cv/b353fzBn7/o+0oZOvteqLfLs08vMmWOPVio46i//9G/Z0Y6eK5aAAAAAMDBGjrtVVt1Zfb3TLKFbeHNhQyc9ZQ+rr7HRrVzjnLo7HvwhvC+6aPIv+i7H7k19zL3IccUm37PC0MGjp7fzhz4x/2kYb/g6Bmshb433fbIrZfkDBxDjinT7Z4XCk8sOaPF73zcGO6xquzy+qFfS+nNRx7k4n49BT13u12Q/b0j/JmJfj+uzlvRuzfcbOcUeEXs/KPq5k3h7yhNuYfOu554wupnnBMZavOPKTZnQ3f4O3O1zs+OosMfE6/4mRVOFP1c77Innqi3Gedk/3wXOKak/zwV/lTS+qxr00g/f4XHuP39uR3RkDMNI/+jxqSFVvwn/Tm7/YLM7zt3qc+c0WbFBsVWmz/C1545JtoVPyvytRQaOrsfsYVfzW0yqqEzejZ81eVWX+APwv59/6N/z4x0MHQCAAAAAA7a0Jn7j+fsP/QLGTjrKX3kD1EjG93QGf1YhQaonLOWhj0KDEfRF1QKz+AqqC/9/czeb8hQ0mcv1F8+zGAVOYoMRtHve2lHobNoS20euV/BQS7+11PY4Ig0/ItXRf985H2d3WvtupJap48io3gx5R06SzyKjHKjeZwL0j/HQyeu6J+V0o5i/0NA94Y5NqXA/fOP/Byxfm5HUuCS6sEzss+1on+1Dfy+wf8xY+ShczTfywvSH7vA1Dlk6HzJfnb50OG55KGz7wWrH/j9hb9/+//9H83Xy9AJAAAAADiIQ2fOQFB0+NtsS8/NPvaVNtJVyEOVPnTm/mO80JmU0fHMz2BbbA9t7Q4v2e2zPR2PWf30KQPvn3BB+mvK2Rmil68PM4BEzmAdMvhEz1T0s7YWP2Rbu8NLPvv2WMdj9TY98jyjhYan/KGz6rTLrPa2e+2pl7Nfy1577bGlOcPE0NGl1OaR+xUa5A7A11NM9PL1os+3uuseuzq8T/6ZnznPI3v5/0m33j14SXT6c9vd6S9idZvVXnZa8Dyzo3Ewhs6J56VsXn36+7t7T+Z76JdA3zszMhwW/vnws4tPu8h/77322NZOy+bJ/Jl/yu69+auDQ3XBsTR/rJpo5wWXmG+13eE3tG/PNrt3ZuRnp9DX9Gq6VeTPZNU5M+z29GMM/nHZbVsf+4XdmjrP5ufkiPtzO4ICQ6f1rLXrwtuK/Y84A38GIt+zkobOqtPsIv/+3fuYbe3Mfh1p/vPy1L12c+TMzIKDcc7Q+ULkf2iYaJfMj/49MKj40NmdfrjB792ldxU6i/QAff8LfZ8BAAAAAMhz8IbOUkbI6D9uCzx/4shG+Bg+WL38lN1767dyLlGuuvqeoc/V+Mi/DQyQVZfXF7lM91W75+rs0DD0uTijl68XG7jaFk4a+P25O0WfPfJv2fcVu6Q8LToIFXj+0+hocdXdxZ/PMHp269BdodTmww1yB+brKSoyohZ7wavomJl/tnD0+3TDg8N90D7bsyd/GhpeeYfOc+2W9cWeR7TH1l6XvV/hn8G9e0f62qJPQ1HoMSKf67m32PrXijxeZBws9DX94dbBMazq8rvsuRK/5Qfi53ZYBQe4yPf1gtvtufDWQbvSHy/z/ugYOfLQuTfdI/xlMdHnPy70ZyMydP7jDXMy/4NG1eW29MniZ7IWHjpzz8Yu9r09YN9/hk4AAAAAQAkO4tCZe9ZdocEn/iAUHTpLPIpcIh0dIIcbQqL/sB9yNlf08vWCA1XkDNYhZ8dFXpRp2MEvOiAOPXO08Ggx1PD3OxBD54H5eoqLnElWlf4chzx+dOQbenl+9AWhJky8xG6sX2dPvRw5qzOG6Pd25GOE8XDEobPI/4gQKvV+wxl8Ea9CfUb+XDNK/LMyIfMK5aU6ID+3wykywA2O6AW+rwNnEud+TiMPnaV4we76x/BxCp0pHxk6g6PIc2pGFfq7IOdpBIZ5WokD9v1n6AQAAAAAlOCgDp05ly4PedGYkc4UK8Vohs4qO2dGvRU+sekV+9nl2fvdYMOe4Bc9M23IP8ijl68XuBQ/8grgQy47feVndnn2cW94sOAZilnRkS7/U5AZOg/Q1zOcwSG9wMgS7VToBYuGeY7OiZMvttStv7DH9vOVusfd0Ln3NXtqXeZV0qfmvPr80GPYPyv7O3RG/6wM+xj5DtTP7TCKDXCRp0XI/x9pBv485w3wpQ6de197ytbVzwteBT/7KumFjwI/mzlDZ2nPSTrsn9dhh9ID+P1n6AQAAAAAlODgDp05z8GZd1Zd9PkTRzVuRJU2dJ57w6/tqWKX1Ab248xQPwp83tHL14tfLl3gOUKj/9AfxZE/ssgMnQfo6xlWZEjPH477Nswp2iGr+8nb7YphXynax/FVJV9GnTWehs6Rvwe5x7B/Vob9OS7xz8qoRq4D93NbVNHPbfDy9Nyn3Rj8Hzvyn1Jh5KGz2568/QqbGN5n5GP4ofPc//vksP8DQ9Zwf14vu/vP4b0KOYDff4ZOAAAAAEAJDvLQmftckNEXjYmexXfBaK5VzRH9h3ZkyOl7wX52xcSBx58wZaat7Rjun/wH8B/s0cvXr1trg19x5GMUelEXhs7gGN1TGEQuX8+5jLfP/EV2Mo9Z6FXlI/q6bEt4NuPkIoNfoed0HU70ezu6rydr5PHwgAydL/1s8EWpqs6xGbf75fujebEaN/LnmlHin5VRjVwHc+j0p8u8MnzMyJ+xvvTXGXxPq2zmb3NfJGukofOln0WeE9NfjGndU/by4KtDhaJf8/BDZ6l/9oYbOv2Mzp8VfZgD+P1n6AQAAAAAlOCgD53Ry7WrZv42HP6iz584uufkyxX9h3bekNP3gtVfHrnsc5jnmct9nBEuwRxR9PL162xg242cwVrw1ZKj/9Af4VLv4UgOnTG+npEMXr4eff7IyHM+Frpsvag+27P75cxl3N86J3IJ92ieOzT3e6s8dA4+v+Kldtcwz+M45kPnfl+6fiB/bosYboCLvC971vDgmcSRn/3Q8ENn5M/spXcVeVEfN7ZDZ+bzKu2FiA7o95+hEwAAAABQgoM/dEb/AZ99zrqBs57SR6EX1CjZMEOn605/nCnZ9/s/2JcWeY5Os003Z8fJSel/7OctFKM0ePl6VfqxMv/6H3zxkgKXrQc22c3Z78mk9PdpPz8FmaHzAH09I4pcvj4w7LQtHHjhk2KXrY+sz164q7TvZb7xMXRGfnb+8S57Iby1kDEfOmO8GNGB/LktaNgBLvI9DM/eHhiPc87mzhh26Ix8nH+8a9gaZRg60/L+h6Ip6XcU+qvzgH3/GToBAAAAACUQGDoj//hP/2PYXzQm+vyJo3oF5CFGGDrT+jrW2sycsbPw2Uk5r8I97Nmfob4u+3NHkX/YRy5fzzxPX+QM1kKXrQeiZ7kWHxai+rr+bPmfwoEfOoufqdXX9Wu7Nnu/IePVgfl6Rha5fD38HAafLqH4Zet/+O0vbEvX8KegRf9M3DCK09XG3dBZNdPyrrIe0Nf1hN11dfbnd6yGzuiZucOdQTjUAf25LWSEAW6wtZ/BOTjYRp+mI6vUoXPwzPd8fdb1xF129cAoPIZDp8v5H4qq7PL6F9KfQa4D9v2Pfp8vuD39Uw0AAAAAwFASQ2f0DLtJCx+xR/4tO5yM7pLgoUYeOl3fC/WDz0WYPqZMv2fokNKT/joHBoT0MfESm39v7nPk9e3ZbS8/tc7q56XsvInDDQnRYfPf7JHuweGz4GXroZ4Ncwa+T35MvGS+3fvUyzb4KUQurU6dZxMLfM0HZuiMnmFXZV9d+JBlX8tpb3enbX0o+/Gz90kfBcarA/H1lGJw2PRXuo8Mn8Nctp4ZnSbaeal5Vu/Phbh7z8CI4523PnS7TR8YeUZ3luH4GDojL6aTPqZMr7fHBiNn/pzfeMmQF8YZ+mdl5M81Y4T75b0KfvAclQ9tHfyzMvA5XWbfjj5p5AH9uS1gpDMNB84orrKZ/2dB+DQdhQf2YYfO6IuzTZhi0+sfi/zMZX5Gbrwk8rzDwTHGQ2da7t+dF6T/vs77i/NAff+jr8qe/l6e8717betgfOvu7LCuUezTAAAAAIDKpDF09j1i/xb9x3D2KHp2Y6lKGzpd94ab7Zzo2Jn+F33+yUfdG+bYlOznVsIx3JAweKbTJPv/rvhqeAZrscvWs7ptw5wpA48/8jFWQ2f0eUZLPAqOXPG/npJEngf2/CuuGGg43GXr0dFppKNSX4zo1XuuHjizuvhRZVOmjP0Zna7Un7/87+mB/LkdYsRLqiPDevYoMrAPO3Sm/4Tdc3UJP3NVU2zKwN+lYz90upzvb4GzNg/M93+kv3P28+8GAAAAAEBF0Rg6rS9yFufgMdzZjaUpfeh0uf8g9zMVH8kbO/usY+33cgbRosfE8+xf1xUf0nLPUAqPUobdvg5b+73oC+EUPyae96+W/ykcmKEzLfqK3AWOiZfcaKue+LXdkL2t2MgV8+spzWZbem7+4w3/ausvrakNzi7L/T1Dj6qvLrRHRrocN894GTr9eRh/dkX+WYKDh59VWf9El70w7J+VAzd0+s9f16aF9tURfv6Gfk8P4M9tvhGHzugZxZnjylWFZ/Hhh07P8TO7ouifySo7Z0a9PdH1QuTvvPIMnf79jT5f7dCnFjhA3/+851TOPRg6AQAAAAAyQ2f6n8Lpf4Dnjl0jnd1YitENncE/2COvJuzjweV3PWeDF1lm9O3ZZg/V32jTpp5tpw38473KTjt7qk2rvc1+8dg225N/6fsQuc9R6Ufpw26f7dn2kNXfOM2mnn3a4OdbdZqdPXWa1d72C3ts2+Cl1lEHbOhM6+t40G5NXTTwPag67Wy7OHWr3fvUa+H3rNSRa/+/nlLlj00lvdp63x7b9tgv7LbaAp/XtFq77d4tNsLTeBY0boZO19dlT6xK/1mfnB08J9rki1N2a+RrH/7PSql/Bkq9X9reP4c/f5MHLp3P/NmbZ/UPFf/ZOzA/t3lKGDqjZxQP12OkodP5c6KuSv+cTM4OnhMnZ37mtnSFPx/Rv/PKNXSmlfDiRAfk+59u/7tbU3bxwJ/HbPsf2cP79T+CAAAAAAAqyQEYOgEAAAAAAADg4GLoBAAAAAAAADDuMXQCAAAAAAAAGPcYOgEAAAAAAACMewydAAAAAAAAAMY9hk4AAAAAAAAA4x5DJwAAAAAAAIBxj6ETAAAAAAAAwLjH0AkAAAAAAABg3GPoBAAAAAAAADDuMXQCAAAAAAAAGPcYOgEAAAAAAACMewydAAAAAAAAAMY9hk4AAAAAAAAA4x5DJwAAAAAAAIBxj6ETAAAAAAAAwLjH0AkAAAAAAABg3GPorBB79uwJf1Ueb731VvgrHEx00EELDXTQQAcdtNBABx200EAHHbTQQAcNdNARpwVDZ4Vg6EwmOuighQY6aKCDDlpooIMOWmiggw5aaKCDBjroiNOCobNCMHQmEx100EIDHTTQQQctNNBBBy000EEHLTTQQQMddMRpwdBZIRg6k4kOOmihgQ4a6KCDFhrooIMWGuiggxYa6KCBDjritGDorBAMnclEBx200EAHDXTQQQsNdNBBCw100EELDXTQQAcdcVowdFYIhs5kooMOWmiggwY66KCFBjrooIUGOuighQY6aKCDjjgtGDorBENnMtFBBy000EEDHXTQQgMddNBCAx100EIDHTTQQUecFgydFYKhM5nooIMWGuiggQ46aKGBDjpooYEOOmihgQ4a6KAjTguGzgrB0JlMdNBBCw100EAHHbTQQAcdtNBABx200EAHDXTQEacFQ2eFYOhMJjrooIUGOmiggw5aaKCDDlpooIMOWmiggwY66IjTgqGzQjB0JhMddNBCAx000EEHLTTQQQctNNBBBy000EEDHXTEacHQWSEYOpOJDjpooYEOGuiggxYa6KCDFhrooIMWGuiggQ464rRg6KwQDJ3JRAcdtNBABw100EELDXTQQQsNdNBBCw100EAHHXFaMHRWCIbOZKKDDlpooIMGOuighQY66KCFBjrooIUGOmigg444LRg6KwRDZzLRQQctNNBBAx100EIDHXTQQgMddNBCAx000EFHnBYMnRWCoTOZ6KCDFhrooIEOOmihgQ46aKGBDjpooYEOGuigI04Lhs4KwdCZTHTQQQsNdNBABx200EAHHbTQQAcdtNBABw100BGnBUNnhWDoTCY66KCFBjpooIMOWmiggw5aaKCDDlpooIMGOuiI04Khs0IwdCYTHXTQQgMdNNBBBy000EEHLTTQQQctNNBBAx10xGnB0FkhGDqTiQ46aKGBDhrooIMWGuiggxYa6KCDFhrooIEOOuK0YOisEAydyUQHHbTQQAcNdNBBCw100EELDXTQQQsNdNBABx1xWjB0VgiGzmSigw5aaKCDBjrooIUGOuighQY66KCFBjpooIOOOC0YOisEQ2cy0UEHLTTQQQMddNBCAx100EIDHXTQQgMdNNBBR5wWDJ0VgqEzmeiggxYa6KCBDjpooYEOOmihgQ46aKGBDhrooCNOC4bOCsHQmUx00EELDXTQQAcdtNBABx200EAHHbTQQAcNdNARpwVDZ4Vg6EwmOuighQY6aKCDDlpooIMOWmiggw5aaKCDhgPRoa+z0966f6113fHj4PBf+20YnTgtGDorBENnMtFBBy000EEDHXTQQgMddNBCAx100EIDHTTE6vDOO7bn4U22s262dVw/K+fw2/x9fh+UJk6Liho69+1+xprv/FebPrfJdoa3DdVvnW132/za6VZdXW2pGbNtadNW6wnfm6vHtjYttdkzUsF9p9fOt7vbOtOPUEB/p7XdPd9qp1en75uyGbOXWtPWoY+6s2lu8FjVw36OZm+uX5S5X/Vyaw9vGw5DZzLRQQctNNBBAx100EIDHXTQQgMddNBCAx00xOngQ2Ywat4w295q+o29/cyW4PBf77yhLnjfnk0t4b0xkjgtKmLozA6cM2Z83+5u/LHNGmZE3PnAPEvVLrONHb3BYLlvd7s13Jiy2oYteQNmr/1xRa2l5jXaM7v3pd/ut94Xm21xbcoWre/K3GXATntgXvoxlm20jt7gUW13e4PdmKq1hi25j+pD59ymVltTN9eaii6db9r6RTW2svk+m8vQiWHQQQctNNBBAx100EIDHXTQQgMddNBCAx007G8HvzTdz9r0kbOvY+jQ47f52On34TL20sT5maiAoXOnPfDDhbbq0Q4LNsadTTa32NDZ22rLUnXWuC13fLSeFluSyhset6+xutQSa8k7KbN/W6PV1Sy39t7whrTe1mWWqmu0oQ+7xFJ5n0tm6NyZfvi64L8FvbneFtWstM070l8LQyeGQQcdtNBABw100EELDXTQQQsNdNBBCw100LC/Hfx5OP2MTT97sxh/X3Cf9H0xsjg/E5X3HJ3DDJ29LUusekGz5Z+P6Wdrti9P5QyP2xpnWc3KzQUuU99pTXNTtrw9+55ea1lSbQuahz6q9bfb8rwBNTt0BkNqkc/TL1sPPrZ/LQydGAYddNBCAx000EEHLTTQQQctNNBBBy000EHD/nbwFx3yEdMvVS/G3+f38ftiZHF+JhI1dPp4OatxW/hWruA5Me9oC4fNzHi5pCVy2mbEloYau+m+HeFb26xx1iwr/LB+CXq13dE2OJcODJ3BYFro8vXMZesN/vPB0IkR0EEHLTTQQQMddNBCAx100EIDHXTQQgMdNOxvB4bOAy/Oz0Sihs725dXFLxdvXx55gSAfIatteZGFMXhBoYF3ttvy6uLPt5n/MQeHzsyv69ZsD349ILhsvcGCHw+GToyADjpooYEOGuiggxYa6KCDFhrooIMWGuigYX87cOn6gRfnZ4KhM+sgDJ3W1WwL6tZYdOr0M0sHzjotMnT6qFno8D8IHBwcHBwcHBwcHBwcHBwcHBzlOd586SXbMesGe2XW9+yNrVuHvN9v2/Hd7wX38fvmv59j/49CGDqzDsbQaV3WvKDOBk/q9MvWI5fBc0YnRkAHHbTQQAcNdNBBCw100EELDXTQQQsNdNAQp8OehzcFZ2z6q6v72Zt+qbofb61tCm7z9+3Z1BLeGyOJ04Ln6AyV/zk6M7qaFwxevu6XrUfP8GToxAjooIMWGuiggQ46aKGBDjpooYEOOmihgQ4aYnV4551gyNxZNzsYNaOH3xaMnOn7oDRxWiRq6OxvX26pEl913QfJ0l51PfN7R/2q61mRy9d9bM15zk6GToyADjpooYEOGuiggxYa6KCDFhrooIMWGuig4UB06OvsDJ6H0190yA//td+G0YnTIlFDp/W22rJUnTVuy5sve1psSWqB5WyV29dYXWqJtfSEb4f6tzVaXc1K2xx5iN7WZZaqa7ShD7tkyLA6ZOgMzvr0y9ez/w1vdgydGAEddNBCAx000EEHLTTQQQctNNBBBy000EEDHXTEaZGsoTOta/0iS9Uus40dvcHZmvt2t1vDjdNtzppteWdv9tuWhlpLzWu0Z3bvC97ufbHZFtdOt2Wteeunddn6RSmrXbbROnqDR7Xd7Q124/Q5tiZv/Rw6dIZncq5YkXvZumPoxAjooIMWGuiggQ46aKGBDjpooYEOOmihgQ4a6KAjTovxP3QGY2C1VQ9z5L6oUL91tt1t82unB+9LzZhtS5u2Wv50mdFjW5uW2uwZqeC+02vn291tnXmDaKi/09runm+10/1jpmzG7KXWtHXooxYaOq23xZakH3/I7QydGAEddNBCAx000EEHLTTQQQctNNBBBy000EEDHXTEaVF5Z3QmFENnMtFBBy000EEDHXTQQgMddNBCAx100EIDHTTQQUecFgydFYKhM5nooIMWGuiggQ46aKGBDjpooYEOOmihgQ4a6KAjTguGzgrB0JlMdNBBCw100EAHHbTQQAcdtNBABx200EAHDXTQEacFQ2eFYOhMJjrooIUGOmiggw5aaKCDDlpooIMOWmiggwY66IjTgqGzQjB0JhMddNBCAx000EEHLTTQQQctNNBBBy000OHguOmmm4Ijiw464rRg6KwQDJ3JRAcdtNBABw100EELDXTQQQsNdNBBCw3jvcPLL79s73//++2QQw6xVatWhbcO9eqrr9qxxx5r73rXu3IGxoPlYA2dLS0t9olPfCL4vpXbG2+8Yddcc429973vDTocfvjhduaZZ9rDDz8c3sPsl7/8ZdAz+vl1d3dbVVVV8L5yiNOCobNCMHQmEx100EIDHTTQQQctNNBBBy000EEHLTSM9w4+iJ188sk2d+5cu+SSS+yvf/1r+J5c999/v02ePNnOPvtshs6DMHS+9NJL9pnPfMa+/OUv2/PPPx/c9pe//MUaGhps5syZwdvFMHSi7Bg6k4kOOmihgQ4a6KCDFhrooIMWGuiggxYaxnuH7ND5+9//PhjDtm/fHr4n11VXXWULFy60r33tawydZR469+3bZ5deeqlddtll9vbbb4e3lo6hE2XH0JlMdNBBCw100EAHHbTQQAcdtNBABx200DDeO2SHzm3bttkFF1xQ8PJ1v2zdh7LHH398yNDpZ4CuXr3aTjzxRDvssMOCS6qPPPLI4AzR/K3Df+/Pf/5za2pqsgkTJtihhx4a/J5rr712yIDnv9cfwx8r+5g1NTUDj+mfw5w5c6ytrc1OP/304HH88S688ELbvXt3cJ8s/xzr6+vt6KOPDh7rqKOOsrvuusv6+/vDe2T4Y2U/L7+U/wMf+EAw7vrnlh0L/ffnH/51ZZXysfyxpkyZEoym/tg333yzvfvd7855nCi/33HHHTdwJudw/L7+2P4xnH+f8j9fP7KXt99xxx12yimnDNw/ys/iPeGEE4L+oxHnZ4Khs0IwdCYTHXTQQgMdNNBBBy000EEHLTTQQQctNIz3Dtmh0//rI2ehy9d98DrrrLOCS6Xzh04fyGpra23dunXB+50PcieddFLO/Zz/3ve9733B5dc+Kvr419HRYRMnTrSf/OQn4b0sGP/87EUf7LLjng+xdXV1wf2dP7Y/R+XnPvc5e/DBB23Xrl1Bi69//etDLuX2IdGfX7S1tTX42p555pngMvAf/OAH4T0yj//JT37SVq5caXv37g0+N/8cr7jiCnvllVfCe418RmcpHys7dG7cuNFmz55tH/7wh4Ov/7XXXgvvkeuWW24JBtz8LoXkD53Of13sjM4dO3YEn9/69evDWwb5Wbw+Lo9WnJ8Jhs4KwdCZTHTQQQsNdNBABx200EAHHbTQQAcdtNAw3jtEh06/bN0HsfwzB33wWrx4cfDr/KGzGB/c/IVy/AV0svz3/vSnPw3fGnTnnXcGl2Zn+fNO+viZf2ZmlH8Os2bNGhj/sh2am5uD5xLNvu1fi58N+dBDDwVvZ/nn52dv+tDnfOg744wzCp7ZGDXc0Fnqx8oOnd/+9rftS1/6knV2dga3F1Pq99yNduh03tePKB+O/c9FoQF0JHF+Jhg6KwRDZzLRQQctNNBBAx100EIDHXTQQgMddNBCw3jvEB06fTS88sorc86u9MuWTz31VHvuueeCt0sd3aKPm+W/t9DY5rf5+5x/DhdffPHAsFqMfw7RzyPbIX/o87NUffjMnm2a5e//4he/GJyt6p588sngzMZHH300eLuY4YbOUj9WdngcaczNGuuh08dM/9qzQ6zzwfgLX/iCdXV1hbeULs7PBENnhWDoTCY66KCFBjpooIMOWmiggw5aaKCDDlpoGO8d8gfJNWvW2Fe/+tXgBXCcj3Pnn3/+wNuFRrcXX3wxOCPziCOOKPg8kFmlDJ0+yk2aNCkY2oZT6tDp98k/WzHLP6afPep8YF20aJH97d/+rX30ox8NLtl++umnh1wuPtzQWerH8s/NB1G/dL0Uhb7nxezP0NnT0xN8z6MDt3/9pX7MfHF+Jhg6KwRDZzLRQQctNNBBAx100EIDHXTQQgMddNBCw3jvkD90+ll9fjl19vL16urqnAEsf3Rrb2+3D33oQ8GL9kTP/st/XOe/92AMndHxNf/IH/P8bEwfd7/1rW8FLyR0zjnn5Jx1OdLQWehjZI/sx/LPzT9Hf6xS+HN0+lmu+aNrIfszdDpvPHXq1GDQ9svW/WzTUj+/fHF+Jhg6KwRDZzLRQQctNNBBAx100EIDHXTQQgMddNBCw3jvkD9IRi9f98vWfXSMPmdn/tDpI1yhF6zZ36HT+dmh/rydw/HPIfp5ZDvkD31+FmX0+T9Hw7caHzqjn8twQ2epH2u0Q6dfWv6xj31syHOnFrK/Q6cP3P4CUv7K+v7xzj777OBMz/0R52eCobNCMHQmEx100EIDHTTQQQctNNBBBy000EEHLTSM9w6FBkk/o9EvX1+9enXOZewuf+j0X/uroef7wx/+YCeccMJ+DZ1++XwpL0ZUytDpz73pr8zur6qez0ddf3V15/8tdMakf23Rj+OPd/zxxweX6+cr9WONduj0V6H3sy39lej918MpNHT6War+QkvZS+eL8Ver96/V/+tn6O6vOD8TDJ0VgqEzmeiggxYa6KCBDjpooYEOOmihgQ46aKFhvHcoNHRmz+TMf95Glz90/uY3v7Fjjz3WWltbgzHPzwz87ne/ax/5yEfs4x//+H4NnT7m+ajng132LEYfD3107OjoCN4udej0z8mHO/8afXz1t/fu3WsPPvhg8CJL99xzT3A//6//vsceeyx4v4+S9957r33qU58Kvras7PNZfuc73wm2HL9v9mss9WONduh0f/rTn+zv//7vg+9Ldkj1AdPHS/+YWYWGTufDpZ+x6QNttlP+aOpnc/o47Yf/en/F+Zlg6KwQDJ3JRAcdtNBABw100EELDXTQQQsNdNBBCw3jvUOhodP55egf/OAHbfv27eEtGflDp49m9fX1wfNZ+vNQHn300bZ06dLgVdrzH7fUodP5TjJ37lw78sgjBx73+9///sB+UurQ6XzQ86HPH8Mf69BDD7UJEybYr371q5wzOv3r8HHW35+9T6HnCt26dWswGh5yyCF22GGH2b/8y7+E7yntY+3P0OneeOMNu+aaawa+J4cffriddtppwSCbVWzo9O+b/17/fP3z/vznP2+vvfZa+N4MP3P3vPPOC87+zH/l+NGI8zPB0FkhGDqTiQ46aKGBDhrooIMWGuiggxYa6KCDFhrooIEO8WWHzpGeH3UkcVowdFYIhs5kooMOWmiggwY66KCFBjrooIUGOuighQY6aKBDfP40ASeeeGJJL3o0nDgtGDorBENnMtFBBy000EEDHXTQQgMddNBCAx100EIDHTTQIR7fpfwV46+77rrg6QjiiNOCobNCMHQmEx100EIDHTTQQQctNNBBBy000EEHLTTQQQMd9p8/P6o/l+iFF1447CvdlypOC4bOCsHQmUx00EELDXTQQAcdtNBABx200EAHHbTQQAcNdNARpwVDZ4Vg6EwmOuighQY6aKCDDlpooIMOWmiggw5aaKCDBjroiNOCobNCMHQmEx100EIDHTTQQQctNNBBBy000EEHLTTQQQMddMRpwdBZIRg6k4kOOmihgQ4a6KCDFhrooIMWGuiggxYa6KCBDjritGDorBAMnclEBx200EAHDXTQQQsNdNBBCw100EELDXTQQAcdcVowdFYIhs5kooMOWmiggwY66KCFBjrooIUGOuighQY6aKCDjjgtGDorBENnMtFBBy000EEDHXTQQgMddNBCAx100EIDHTTQQUecFgydFYKhM5nooIMWGuiggQ46aKGBDjpooYEOOmihgQ4a6KAjTguGzgrB0JlMdNBBCw100EAHHbTQQAcdtNBABx200EAHDXTQEacFQ2eFYOhMJjrooIUGOmiggw5aaKCDDlpooIMOWmiggwY66IjTgqGzQjB0JhMddNBCAx000EEHLTTQQQctNNBBBy000EEDHXTEacHQWSEYOpOJDjpooYEOGuiggxYa6KCDFhrooIMWGuiggQ464rRg6KwQDJ3JRAcdtNBABw100EELDXTQQQsNdNBBCw100EAHHXFaMHRWCIbOZKKDDlpooIMGOuighQY66KCFBjrooIUGOmigg444LRg6KwRDZzLRQQctNNBBAx100EIDHXTQQgMddNBCAx000EFHnBYMnRWCoTOZ6KCDFhrooIEOOmihgQ46aKGBDjpooYEOGuigI04Lhs4KwdCZTHTQQQsNdNBABx200EAHHbTQQAcdtNBABw100BGnBUNnhWDoTCY66KCFBjpooIMOWmiggw5aaKCDDlpooIMGOuiI04Khs0IwdCYTHXTQQgMdNNBBBy000EEHLTTQQQctNNBBAx10xGnB0FkhGDqTiQ46aKGBDhrooIMWGuiggxYa6KCDFhrooIEOOuK0YOisEAydyUQHHbTQQAcNdNBBCw100EELDXTQQQsNdNBABx1xWiRv6OzZas13zrfa6dVWXV1t02vn291tndYfvjtXj21tWmqzZ6RGvm9/p7XdnX3clM2YvdSatvaE7xy0s2lu8FjVc5tsZ3hbIW+uX5S5X/Vyaw9vGw5DZzLRQQctNNBBAx100EIDHXTQQgMddNBCAx000EFHnBbJGjp72m157XRbsOYZ29Xrc+U+2/1Mky2uTdm8ph15A2av/XFFraXmNdozu/el3+633hebg/suWt+VucuAnfbAvJTVLttoHdnHbW+wG1O11rAl91F96Jzb1Gpr6uZaU9Gl801bv6jGVjbfZ3MZOjEMOuighQY6aKCDDlpooIMOWmiggw5aaKCDBjroiNMiUUPn9jV1VrNy85AzMvu3NVpdapHl7Jfb16RvW2IteSdlBvetWW7tveENab2tyyxV12jb8h64p2WJpfLO3MwMnTuDz8X/W9Cb621RzUrbvKOJoRPDooMOWmiggwY66KCFBjrooIUGOuighQY6aKCDjjgtEjR07rSmuTXWsCV8M4efQVlti9a/Gb5ttq1xVsFRNPM4KVvenn1Pr7UsqbYFzflneab1t9vyVO6Zm9mhMxhSi1y+7petBx97J0MnhkcHHbTQQAcNdNBBCw100EELDXTQQQsNdNBABx1xWiRs6JxljdvCN/PsuO8mq16enRQz4+WSlshpmxFbGmrspvt2hG9ts8ZZxR43M6De0TY4lw4MncHnU+jy9cxl68Egy9CJEdBBBy000EEDHXTQQgMddNBCAx100EIDHTTQQUecFgkaOnutdVnK6hq3FX4xofblVj3vAXs9eMNHyGob2D3zBC8oNPDOdlteXfz5NtuXV+dcoj44dGZ+Xbdme/DrAcFl6w0WnHjK0IkR0EEHLTTQQQMddNBCAx100EIDHXTQQgMdNNBBR5wWiXqOzv4dTTYvVWvLHnzBgtcX8tt637LXXnjUmpbdEHkl9PIMndbVbAvq1lh06vTL1mdlTw8tMnT6qFno8D8IHBwcHBwcHBwcHBwcHBwcHBwclX4Ukqih0+177VFb9YPZNiNVbdXVKZtx/U32g1Ub7fl1S616SYtlLlYv09BpXda8oM4GT+r0y9Yjl8FzRidGQAcdtNBABw100EELDXTQQQsNdNBBCw100EAHHXFaJG7oLMafo7Nm4JWKyvEcnRldzQsGL1/3y9ajZ3gydGIEdNBBCw100EAHHbTQQAcdtNBABx200EAHDXTQEacFQ2fAz6yssZWbcwfJ0l51vd/al6dG/6rrWZHL1/2y9Zzn7GToxAjooIMWGuiggQ46aKGBDjpooYEOOmihgQ4a6KAjTguGzrSetjusJu+5Mm37GqtLLbGWnvDtUP+2RqurWWmRTdR6W5dZqq7RtuWtoj0tSyy1oNmiE+iQoTM469MvX8/+N7zZMXRiBHTQQQsNdNBABx200EAHHbTQQAcdtNBABw100BGnRbKGzp3r7M67N9oLu3ozZ2ru67GXH11hN06fZ0078s/d7LctDbWWmtdozwSvXNRvvS822+La6basNW/9tC5bvyhltcs2WkevP84+293ekH7cObYmb/0cOnSGZ3KuWJF72bpj6MQI6KCDFhrooIEOOmihgQ46aKGBDjpooYEOGuigI06LZA2d/d32XPOdNv/6GZaqrrbq1Ayb/YNV1taZP3Jm9djWpqU2e0bKqtP3n1473+5u6yxwOXtaf6e13T3faqeHL3I0e6k1bc0fRAsPndbbYkvSjz/kdoZOjIAOOmihgQ4a6KCDFhrooIMWGuiggxYa6KCBDjritODS9QrB0JlMdNBBCw100EAHHbTQQAcdtNBABx200EAHDXTQEacFQ2eFYOhMJjrooIUGOmiggw5aaKCDDlpooIMOWmiggwY66IjTgqGzQjB0JhMddNBCAx000EEHLTTQQQctNNBBBy000EEDHXTEacHQWSEYOpOJDjpooYEOGuiggxYa6KCDFhrooIMWGuiggQ464rRg6KwQDJ3JRAcdtNBABw100EELDXTQQQsNdNBBCw100EAHHXFaMHRWCIbOZKKDDlpooIMGOuighQY66KCFBjrooIUGOmigg444LRg6KwRDZzLRQQctNNBBAx100EIDHXTQQgMddNBCAx000EFHnBYMnRWCoTOZ6KCDFhrooIEOOmihgQ46aKGBDjpooYEOGuigI04Lhs4KwdCZTHTQQQsNdNBABx200EAHHbTQQAcdtNBABw100BGnBUNnhWDoTCY66KCFBjpooIMOWmiggw5aaKCDDlpooIMGOuiI04Khs0IwdCYTHXTQQgMdNNBBBy000EEHLTTQQQctNNBBAx10xGnB0FkhGDqTiQ46aKGBDhrooIMWGuiggxYa6KCDFhrooIEOOuK0YOisEAydyUQHHbTQQAcNdNBBCw100EELDXTQQQsNdNBABx1xWjB0VgiGzmSigw5aaKCDBjrooIUGOuighQY66KCFBjpooIOOOC0YOisEQ2cy0UEHLTTQQQMddNBCAx100EIDHXTQQgMdNNBBR5wWDJ0VgqEzmeiggxYa6KCBDjpooYEOOmihgQ46aKGBDhrooCNOC4bOCsHQmUx00EELDXTQQAcdtNBABx200EAHHbTQQAcNdNARpwVDZ4Vg6EwmOuighQY6aKCDDlpooIMOWmiggw5aaKCDBjroiNOCobNCMHQmEx100EIDHTTQQQctNNBBBy000EEHLTTQQQMddMRpwdBZIRg6k4kOOmihgQ4a6KCDFhrooIMWGuiggxYa6KCBDjritGDorBAMnclEBx200EAHDXTQQQsNdNBBCw100EELDXTQQAcdcVowdFYIhs5kooMOWmiggwY66KCFBjrooIUGOuighQY6aKCDjjgtGDorBENnMtFBBy000EEDHXTQQgMddNBCAx100EIDHTTQQUecFgydFYKhM5nooIMWGuiggQ46aKGBDjpooYEOOmihgQ4axmOHvs5Oe+v+tdZ1x4+Dw3/tt413cVowdFYIhs5kooMOWmiggwY66KCFBjrooIUGOuighQY6aBhXHd55x/Y8vMl21s22jutn5Rx+m7/P7zNexWnB0FkhGDqTiQ46aKGBDhrooIMWGuiggxYa6KCDFhrooGE8dfAhMxg1b5htbzX9xt5+Zktw+K933lAXvG/Pppbw3uNPnBYMnRWCoTOZ6KCDFhrooIEOOmihgQ46aKGBDjpooYEOGsZLB7803c/a9JGzr2NneOsgv83HTr/PeL2MPU4Lhs4KwdCZTHTQQQsNdNBABx200EAHHbTQQAcdtNBABw3jpYM/D6efselnbxbj7wvuk77veBSnBUNnhWDoTCY66KCFBjpooIMOWmiggw5aaKCDDlpooIOG8dLBX3TIR0y/VL0Yf5/fx+87HsVpwdBZIRg6k4kOOmihgQ4a6KCDFhrooIMWGuiggxYa6KBhvHRg6BweQ2eFYOhMJjrooIUGOmiggw5aaKCDDlpooIMOWmigg4bx0oFL14fH0FkhGDqTiQ46aKGBDhrooIMWGuiggxYa6KCDFhrooGG8dBjNixH179oV3jq+xGnB0FkhGDqTiQ46aKGBDhrooIMWGuiggxYa6KCDFhrooGE8ddjz8KbgjE0fNP3sTb9U3Y+31jYFt/n79mxqCe89/sRpwdBZIRg6k4kOOmihgQ4a6KCDFhrooIMWGuiggxYa6KBhXHV4551gyPSzNn3UjB5+WzBypu8zXsVpwdBZIRg6k4kOOmihgQ4a6KCDFhrooIMWGuiggxYa6KBhPHbwy9j9eTj9RYf88F/7beNdnBYMnRWCoTOZ6KCDFhrooIEOOmihgQ46aKGBDjpooYEOGuigI04Lhs4KwdCZTHTQQQsNdNBABx200EAHHbTQQAcdtNBABw100BGnBUNnhWDoTCY66KCFBjpooIMOWmiggw5aaKCDDlpooIMGOuiI04Khs0IwdCYTHXTQQgMdNNBBBy000EEHLTTQQQctNNBBAx10xGnB0FkhGDqTiQ46aKGBDhrooIMWGuiggxYa6KCDFhrooIEOOuK0YOisEAydyUQHHbTQQAcNdNBBCw100EELDXTQQQsNdNBABx1xWjB0VgiGzmSigw5aaKCDBjrooIUGOuighQY66KCFBjpooIOOOC0YOisEQ2cy0UEHLTTQQQMddNBCAx100EIDHXTQQgMdNNDhwLnpppuCY3/FacHQWSEYOpOJDjpooYEOGuiggxYa6KCDFhrooIMWGuigoZQOL7/8sp188snBf4vx973//e+3X/7yl+EtycPQWU77XrNHV/3AZs9IWXV1tVVPr7X5dzbbc9394R2iemxr09KB+06vnW93t3VaoXtaf6e13T3faqenH7M6ZTNmL7WmrT3hOwftbJqb+bhzm2xneFshb65flLlf9XJrD28bDkNnMtFBBy000EEDHXTQQgMddNBCAx100EIDHTSU0qGUoRMMneXTv8Oa5k23G1c8ai/37Mvc1LvLnlmzwKbXLrf2nF2y1/64otZS8xrtmd1+337rfbHZFtembNH6rsxdBuy0B+alrHbZRuvo9Rl0n+1ub7AbU7XWsCV3FvWhc25Tq62pm2tNRZfON239ohpb2XyfzWXoxDDooIMWGuiggQ46aKGBDjpooYEOOmihgQ4aSunA0Fkahs4y6W1ZYtULmi1/pvRRs315jdWt2R6+nbZ9jdWlllhL3kmZ/dsara5mubX3hjek9bYus1Rdo23LO9WzJ/3xUnlnbmaGzp3ph68L/lvQm+ttUc1K27yjiaETw6KDDlpooIMGOuighQY66KCFBjrooIUGOmgopUMpQ2d3d7dNmTLFWlpagreff/55++QnP2mPP/548HbUc889ZyeccEJwnyx/7K985St22GGH2aGHHmrnnnuuvfjii+F7M/yy+K997WvBr59++mmbMGGCvec97xn4mP6++vp6mzt3rh155JH2rne9y/7n//yf9utf/9r++te/BvfJevvtt23hwoV29NFHB/fz+/vvK7Qz+cc6/fTTBz63z3/+89bePnS1Yugsk+Cy8eWFZ8P8921rnGU1KzcXuEx9pzXNTdny9ux7eq1lSbUtaB46n1p/uy1P5Z65mR06gyG1yOXrftl68LF3MnRieHTQQQsNdNBABx200EAHHbTQQAcdtNBABw2ldNifoXPfvn123nnnBWNivjvvvDN4n9/H+aB53HHH2cyZM4PPZ+/evTZv3jz79Kc/bR0dHcF9XHbo3LJlix177LH2jW98Ixgc/f7O33fUUUfZj370o+Bx+vv7rbGx0f7u7/7OVq1aFdzH+cf95je/aV/4whcGxlb/r3/+l112WTCCZrW2ttoxxxwTPKZ/HD9+/OMf2wc/+EHbuHFjeK8Mhs4y6d+80moKnHnpz8XZsiQVGSsz4+WSlshpmxFbGmrspvt2hG9ts8ZZs6xxW/hmDr8EvdruaBv8gANDZzCYFrp8PXPZesOW9C8ZOjECOuighQY6aKCDDlpooIMOWmiggw5aaKCDhlI67M/Q6XxcnDRpkvX0DF427CPj1KlT7Sc/+Ul4iwUD58UXX5wzMPr9Lr300pyh1IfOM88800499dTgzM38szR96Cz0Ykh+38mTJw98HuvXrw/ONt22LXfUev311+1zn/ucrVmzJng7O9YWGi/vuOOOIV8bQ2fZ9Fj7iuvt+sVN4fNu+nN0dtijK25M37bedgzskT5CVluRkz/zzv5st+XVxZ9vs315dc4l6oNDZ+bXOZfLu+Cy9QbznZOhEyOhgw5aaKCDBjrooIUGOuighQY66KCFBjpoKKXD/g6d27dvt8985jM5l6/7Zes+Jvr7nP++L37xi3b//fcHb0f5UOoD5V/+8pfgbR8x/+Zv/sZWrlwZvJ2v2ND5yiuv2EknnRR8bOdjZE1NTfDrfP6+q666Kvi1f47+uWZ/X5S/77Of/aw9+eST4S0MnWXWa9sf/JFdH7yiuR/X2o0//6PlPhVneYZO62q2BXVrLDp1+mXrs7KnhxYZOn3ULHT4HwQODg4ODg4ODg4ODg4ODg4OjgN/+KXi/ryU/t9C7/djx44ddsYZZ1hzc/PAbW+++WZwKfj3v//9gduWLFliF110UfA+f9sf8/jjjw8G0ux9soc/lp816QOrv/3Tn/40eB7P7O/NPy644ILgPvm3539ufj//PPLv54f//tNOO81ee+214P4+8L700ktD7uePecopp9ivfvWrgdu+973vBUf0fmNxFJKsobN/h61ffIP96915r7retNiuv7HBNg+snWUaOq3LmhfU2eBJnX7ZeuQyeM7oxAjooIMWGuiggQ46aKGBDjpooYEOOmihgQ4aSumwv2d0Or8M/KyzzgrOyvRLwc8///yBS8OdP+b73//+4AWBCh3+vuzHzT5HZzHFzujM/9z8fv48oYX47/dR1D9fv//EiRNt165d4XsHFToTlTM6y+T5VbVFXmDIT65cYKllrZZ5Vs5yPEdnhn/cgcvX/bL16BmeDJ0YAR100EIDHTTQQQctNNBBBy000EEHLTTQQUMpHeIMna+++mpw5qNf4u2XgPtw6GdDZr3xxhvB5emPPPJIeEtx+zt0+sf1S9f9EnbnYySXro9bw5+lmT8q+iBZ2quu91v78ugLGUUM96rrWZHL1/2y9Zzn7GToxAjooIMWGuiggQ46aKGBDjpooYEOOmihgQ4aSukQZ+h0PhwuXrw4OIsyOyJG+W3FBkJ/5fTsiw7tz9Dpv3f27Nk2bdq0gcfhxYjGtV5rXZayWb/cWvSMzuq5TTYwQW5fY3WpJdaS++Sd1r+t0epqVtrmyIP0ti6zVIFXc+9pWWKpBc0WnUCHDJ3BWZ9++Xr2v+HNjqETI6CDDlpooIMGOuighQY66KCFBjrooIUGOmgopUPcodOf6/J//a//FRyFXnTo2WeftWOPPTZ4hfXs5+Nnffpo+OUvfzl4bFfK0FlXVxc8v6br6uoKRs5PfOIT9qc//Sm4zfmA+c1vftO+8IUvBM8R6gPo888/H3z+/pyi0Vd/b21ttWOOOcZ++MMfBpez792713784x/bBz/4Qdu4cWN4rwyGzjLp39Fk81K1tnjNH6yjN7NK+nN0vrBxhd2Yvn3FH6OXqvfbloZaS81rDF+hvd96X2y2xbXTbVlr3vppXbZ+Ucpql20MH3ef7W5vsBunz7E1eevn0KEzPJNzxYrcy9YdQydGQAcdtNBABw100EELDXTQQQsNdNBBCw3joUOxS6HjGIvHjKOUDj5wFnsezezXMtzQ6c9x6S845Eeh57t0Tz/9tJ1++ul22GGHBY975JFHWiqVyhlXSxk6P/3pT9t73/ve4DEOP/xwu/TSS+3FF18M7zHIx0wfVo8++uiBjzd37tyCO1P0czv00EODF2Zqbx+6WjF0llF/93PWfOd8q50evup6aobN/sEqe/S1zIsT5eqxrU1LbfaMVHDf6bXz7e62zoJnhFp/p7XdnX3clM2YvdSatuYPooWHTuttsSXpxx9yO0MnRkAHHbTQQAcNdNBBCw100EELDXTQQQsNB6JDX2envXX/Wuu648fB4b/220rhzw15zTXX5IxiZ555pj388MPhPRg6xxu17+1oxWmRuKGzUjF0JhMddNBCAx000EEHLTTQQQctNNBBBy00xOrwzju25+FNtrNutnVcPyvn8Nv8fX6fYl566SX7zGc+E1wW7ZcsO78suaGhwWbOnBm87Rg6xxeGTox7DJ3JRAcdtNBABw100EELDXTQQQsNdNBBCw1xOviQGYyaN8y2t5p+Y28/syU4/Nc7b6gL3rdn09BLqJ0/P6Nfzpz/XIyFMHSOLwydGPcYOpOJDjpooYEOGuiggxYa6KCDFhrooIMWGva3g1+a7mdt+sjZ15H3VHhpfpuPnX6fQpex+3NIHnfccQNncg7Hh7Of//zn1tTUZBMmTAien9Gfp/Haa68dMpL61/Ptb387uAT+kEMOCe5f6HkcC41xbW1tA4/vv/cDH/hA8PyR+R/jgQceCD53v8+73/3ugs8p6S/sc/HFF9sRRxwRXJLvn+9XvvKVgs9T6Srp54GhE+MeQ2cy0UEHLTTQQQMddNBCAx100EIDHXTQQsP+dvDn4fQzNv3szWL8fcF90vfNd8stt9iFF14YvNL2SHw4+9u//dvgEncfI/v7+62jo8MmTpxoP/nJT8J7ZV6I50tf+lJw/9dffz24n18G/+EPf3jI2Jk/xm3bts0++clP2sqVK4NX9Pbf6x/riiuusFdeeSW8l9mqVauCV/9evXr1wOdx9tlnB6+tEv1abrvtNvv3f//3gVce9+/zddddZ6eccsrAq5dH8fOgI04Lhs4KwdCZTHTQQQsNdNBABx200EAHHbTQQAcdtNCwvx38RYd8xPRL1Yvx9/l9/L75fGgs9ZWx/b4//elPw7cG3XnnncHl71k+ep588sm2e/fu8JYM/zjTpk3LGSLzh87169fbGWecUXCEzOrq6rKTTjrJ6uvrw1syfCT1M0Eff/zx8JbC/LEnT55sGzduDG8ZxM+DjjgtGDorBENnMtFBBy000EEDHXTQQgMddNBCAx100ELD/nYo99BZ6FJov83f53zE9EvFFy9eHLwd5ZfJn3jiifbqq6+Gtwx9zCeffDJ4YaRHH300vGWoQo/jhvvY+Yp9Lfw86IjTgqGzQjB0JhMddNBCAx000EEHLTTQQQctNNBBBy007G+HuJeuH+ih08+W/OIXv2j3339/8HbUyy+/HJyJGX1+zPzH9LFy0aJFwSXyH/3oR62mpsaefvrpnLNA/f5+1qe/Mnw+/1rq6urCtzI7yYIFC4Ln+fTn8vTn6cweDJ3a4rRg6KwQDJ3JRAcdtNBABw100EELDXTQQQsNdNBBCw3722E0L0bUv2tXeOsgf45OPwsyOiQWU+rQWVVVlTMoRg9/USA/IzOr2GP6iOlj6be+9S076qij7Jxzzhm4FN7vX+ixs0f2c+np6bEpU6bYBRdcYFu3bs35Got9XH4edMRpwdBZIRg6k4kOOmihgQ4a6KCDFhrooIMWGuiggxYa4nTY8/Cm4IxNHzT97E2/VN2Pt9Y2Bbf5+/ZsGhwXo/w5MT/2sY+V/KrrIw2dPiZedNFF1tjYGLw9kmKPGeVbhw+d/lygzp9b86yzzhrxe/bII4/YqaeearsKDLwMnfritGDorBAMnclEBx200EAHDXTQQQsNdNBBCw100EELDbE6vPNOMGT6WZs+akYPvy0YOdP3KeTtt9+2qVOn2mWXXRb8ejilDJ3OnyPTX5xo37594S2D/BXShzuzMv/9WX45evYSe39uTn+OzuiZoVHZj+vvP/PMM+2NN94I3s7y7cTP9GTo1BanBUNnhWDoTCY66KCFBjpooIMOWmiggw5aaKCDDlpoOBAd/DJ2fx5Of9EhP/zXfttI/vSnP9nf//3fB2Onv3K580vHGxoabObMmcHbrtSh8/XXXw8uX7/22muDXzt/pfR///d/D16N3Z+rMyv/Me+5555ghHzsscds7969wfB577332qc+9SlrbW0N72W2fPly+/jHP26/+93vgvv40dbWFpxNevPNNwf3ee2114IXNvrhD38YPFb2azr++OPtve99L0OnuDgtGDorBENnMtFBBy000EEDHXTQQgMddNBCAx100ELDwe7gZz1ec801duSRRwbPc3n44YfbaaedFoyMWaUOnc7HTD+r0x8n+3j+XKBPPfVUeI+M/Mf0wbK+vj4YMQ899NDgmDBhgjU3N4f3yPCzPleuXBm8YJG/yJAf/uvbb789ZxvxFzLy3+/v98/hiiuuCD63Yl8LPw864rRg6KwQDJ3JRAcdtNBABw100EELDXTQQQsNdNBBCw100EAHHXFaMHRWCIbOZKKDDlpooIMGOuighQY66KCFBjrooIUGOmigg444LRg6KwRDZzLRQQctNNBBAx100EIDHXTQQgMddNBCAx000EFHnBYMnRWCoTOZ6KCDFhrooIEOOmihgQ46aKGBDjpooYEOGuigI04Lhs4KwdCZTHTQQQsNdNBABx200EAHHbTQQAcdtNBABw100BGnBUNnhWDoTCY66KCFBjpooIMOWmiggw5aaKCDDlpooIMGOuiI04Khs0IwdCYTHXTQQgMdNNBBBy000EEHLTTQQQctNNBBAx10xGnB0FkhGDqTiQ46aKGBDhrooIMWGuiggxYa6KCDFhrooIEOOuK0YOisEAydyUQHHbTQQAcNdNBBCw100EELDXTQQQsNdNBABx1xWjB0VgiGzmSigw5aaKCDBjrooIUGOuighQY66KCFBjpooIOOOC0YOisEQ2cy0UEHLTTQQQMddNBCAx100EIDHXTQQgMdNNBBR5wWDJ0VgqEzmeiggxYa6KCBDjpooYEOOmihgQ46aKGBDhrooCNOC4bOCsHQmUx00EELDXTQQAcdtNBABx200EAHHbTQ4B36OjvtrfvXWtcdPw4O/7XfhvLh50FHnBYMnRWCoTOZ6KCDFhrooIEOOmihgQ46aKGBDjpoIeCdd2xX84O2s262dVw/K+fw2/Y8vCm4D8YePw864rRg6KwQDJ3JRAcdtNBABw100EELDXTQQQsNdNBBi4PPh8xXvjPTdt4w295q+o29/cyW4PBf77yhLhg892xqCe+NscTPg444LRg6KwRDZzLRQQctNNBBAx100EIDHXTQQgMddNDi4PJL0/2szVdmfc/6OnaGtw7y23zs9PtwGfvY4+dBR5wWDJ0VgqEzmeiggxYa6KCBDjpooYEOOmihgQ46aHFw+fNw+hmbnatXh7cM5Wd2+n38vhhb/DzoiNOCobNCMHQmEx100EIDHTTQQQctNNBBBy000EEHLQ4uf9EhHzF3tz0e3jKUX8bu9/H7Ymzx86AjTguGzgrB0JlMdNBBCw100EAHHbTQQAcdtNBABx20OLgYOrXw86AjTguGzgrB0JlMdNBBCw100EAHHbTQQAcdtNBABx20OLi4dF0LPw864rRg6KwQDJ3JRAcdtNBABw100EELDXTQQQsNdNBBi4NrNC9G1L9rV3grxgo/DzritGDorBAMnclEBx200EAHDXTQQQsNdNBBCw100EGLg2/Pw5vsle/MDAZNP3vTL1X34621TcFtfjbnnk0t4b0xlvh50BGnBUNnhWDoTCY66KCFBjpooIMOWmiggw5aaKCDDloIeOcd29X8YHDWpo+a0cNvC0bO9H0w9vh50BGnBUNnhWDoTCY66KCFBjpooIMOWmiggw5aaKCDDlpo8A5+Gbs/D6e/6JAf/mu/DeXDz4OOOC0YOisEQ2cy0UEHLTTQQQMddNBCAx100EIDHXTQQgMdNNBBR5wWDJ0VgqEzmeiggxYa6KCBDjpooYEOOmihgQ46aKGBDhrooCNOC4bOCsHQmUx00EELDXTQQAcdtNBABx200EAHHbTQQAcNdNARpwVDZ4Vg6EwmOuighQY6aKCDDlpooIMOWmiggw5aaKCDBjroiNOCobNCMHQmEx100EIDHTTQQQctNNBBBy000EEHLTTQQQMddMRpwdBZIRg6k4kOOmihgQ4a6KCDFhrooIMWGuiggxYa6KCBDjritGDorBAMnclEBx200EAHDXTQQQsNdNBBCw100KHeoq+z0966f6113fHj4PBf+22Vhp8JDXTQEadFgobOndY0t9qqq4c55jal7xXVY1ubltrsGang/dNr59vdbZ3WH743R3+ntd0932qn+2OlbMbspda0tSd856CdTXOLfKxcb65fFH5ey609vG04DJ3JRAcdtNBABw100EELDXTQQQsNdNAh2+Kdd2zPw5tsZ91s67h+Vs7ht/n7/D6Vgp8JDXTQEadFeYbOvd3W2dlpnd17wxty9e3ZHby/yLvLoNdal6Wsbs328G3Xa39cUWupeY32zO596bf7rffFZltcm7JF67sydxmw0x6Yl7LaZRuto9dn0H22u73BbkzVWsOW3FnUh865Ta22pm6uNRVdOt+09YtqbGXzfTaXoRPDoIMOWmiggwY66KCFBjrooIUGOuhQbeFDZjBq3jDb3mr6jb39zJbg8F/vvKEueN+eTS3hvcc/fiY00EFHnBblGTo3zLEJEybYhDkbwhty9ay9Lnj/P971QnhLme1ssrmpZdbaG77ttq+xutQSa8k7KbN/W6PV1Sy39sh9e1uXWaqu0bblnerZ07LEUnlnbmaGzp3ph68L/lvQm+ttUc1K27wj/XkxdGIYdNBBCw100EAHHbTQQAcdtNBABx2KLfzSdD9r00fOvo6h/2b223zs9PtUymXs/ExooIOOOC0khs4R3z+m+m3zyhqrbdiSc0n6tsZZVrNyc4HL1P0S+JQtb8++p9dallTbgub8szzT+ttteSr3zM3s0BkMqUUuX/fL1oOP7QMsQyeGQQcdtNBABw100EELDXTQQQsNdNCh2MKfh9PP2PSzN4vx9wX3Sd+3EvAzoYEOOuK0EBg699qm708K3j9pYVt4Wxl1rbdFqQWWu1NmxsslLdFTPAdtaaixm+7bEb61zRpnzbLGbeGbOfwS9Gq7o21wLh0YOoPBtNDl65nL1hu2pH/J0IkR0EEHLTTQQQMddNBCAx100EIDHXQotvAXHfIR0y9VL8bf5/fx+1YCfiY00EFHnBZjN3S23mpTp07NHJMnZobOiZMHb8t/34QptrCtL/zN5dJv2xrrCpy5mXnhouVFFsbgBYUG3tluy6uLP99m+/LqnEvUB4fOzK9znxc0LbhsvcGCv9IZOjECOuighQY6aKCDDlpooIMOWmiggw7FFgydOFjooCNOi7EbOrNncY54VNlpZ0+z+Q92WLlnTutttWV5l5ZnlGfotK5mW1C3xqJTp1+2Pit7emiRodNHzUKH/0Hg4ODg4ODg4ODg4ODg4Bivx+uNjfbKd2Za5+rVBd/vh7/P7+P3LfR+Dg6OZByFaDxH50HiLwiUWtZqQy9QL9PQaV3WvKDOBk/q9MvWI5fBc0YnRkAHHbTQQAcNdNBBCw100EELDXTQodhiNC9G1L9rV3jr+MbPhAY66IjTojxD57Or7ZZbbrFbVj8b3iCgt92W10RHxqhyPEdnRlfzgsHL1/2y9egZngydGAEddNBCAx000EEHLTTQQQctNNBBh2qLPQ9vCi5N90HTX3jIL1X34621TcFt/r49m1rCe49//ExooIOOOC3KM3QK8oExtWi9FXit9IAPkqW96nq/tS9Pjf5V17Mil6/7Zes5z9nJ0IkR0EEHLTTQQQMddNBCAx100EIDHXTItnjnnWDI9LM2fdSMHn5bMHKm71Mp+JnQQAcdcVqUcejss64nVtm81EV2WlX4/Jx+KXvPBpszKf3rKQutbK9F1L/ZVtbU2MrNQ2fMAdvXWF1qibX0hG+H+rc1Wl3NSov+1t7WZZaqa7RteQ/X07LEUguac8bUIUNncNann1ma/W94s2PoxAjooIMWGuiggQ46aKGBDjpooYEOOtRb+GXsb92/NnjRIT/8135bpeFnQgMddMRpUaahs89e+NkVNjHy4kO1/3z+wHN2ti2cFNw+Z0N5ls6u9YuGDJBD9duWhlpLzWu0Z3bvC97ufbHZFtdOt2Wteetn+pHWL0pZ7bKN1tHra+c+293eYDdOn2Nr8tbPoUNneCbnihW5l607hk6MgA46aKGBDhrooIMWGuiggxYa6KCDFhrooIEOOuK0KM/QuWuNTfezOKsut6VPdGVeXd1foCgcOnvWXhec4Xnu0s3B22Oqf5s11tXY8vbCz7+Zq8e2Ni212TNSVl1dbdNr59vdbZ0FLmdP6++0trvnW+306vR9UzZj9lJr2po/iBYeOq23xZakH3/I7QydGAEddNBCAx000EEHLTTQQQctNNBBBy000EEDHXTEaVGeoTP7qus3PJgZOV1k6FR9VfbxhKEzmeiggxYa6KCBDjpooYEOOmihgQ46aKGBDhrooCNOi/IMnZtutiofMq9bawPnOEaGzl33XB0MnZMWtgVvY/QYOpOJDjpooYEOGuiggxYa6KCDFhrooIMWGuiggQ464rQoz9DZ81ubGbwA0aX2f5/sztyWHTr7XrC7LvX3VdnM3w691BulYehMJjrooIUGOmiggw5aaKCDDlpooIMOWmiggwY66IjTokwvRmT20qrsixFNtMnTau0WfzGi86+wb51TFZzNWXV5vb1Qrlddr0AMnclEBx200EAHDXTQQQsNdNBBCw100EELDXTQQAcdcVqUbej0V17vemKV3XjZaZnL2LPHxPMsdeuD1sHIGQtDZzLRQQctNNBBAx100EIDHXTQQgMddNBCAx000EFHnBblGTr7+gZfhCiw17o7O617b/hmoM9eeOGl8NcYLYbOZKKDDlpooIMGOuighQY66KCFBjrooEVhLS0tNmXKFOvuDp96b4zRQQMddMRpUZ6hc8PN9tWbhzlrs6/DHrz5q1bFq67vN4bOZKKDDlpooIMGOuighQY66KCFBjro2J8Wzz33nL3vfe8LDv91JWLoTCY66IjTojxDZ+v84Pk5q875nt3755zTOK2va5Mt/Ko/T2eVffXHz4a3YrQYOpOJDjpooYEOGuiggxYa6KCDFhrooGN/Wtx555122WWX2Ve+8pXg15WIoTOZ6KAjTosyPUdnn3VtutUumTjBJlSdY9+798/mc2f3k7fbFX7bhCk2c21H3uXtGA2GzmSigw5aaKCDBjrooIUGOuighQY66Bhti3379tn5559va9assZ/85Cc2derU4LZKw9CZTHTQEadFGV+MKHP25q2XTAzO3jznsktsSvBiRFfY7U+W5y+PSsbQmUx00EELDXTQQAcdtNBABx200EAHHaNt4ZeqT5w40Xbs2GHPP/+8nXDCCQUvX//lL39pX/va14JfP/3008ELEb/nPe8JBkT30ksvBUPiYYcdZu9617vsve99r1177bVDPh//vZ///Oft0EMPDe571VVX2RtvvBG+N+Omm26yOXPmWFtbm51++unB/fz+F154oe3evTu8l9lf//pXW716tZ144okDH/fII4+0uXPnDvn3NENnMtFBR5wWZR06A31dtunfzs+84vqUOfZgF+dxHggMnclEBx200EAHDXTQQQsNdNBBCw100DHaFn6p+rRp04LR0I+LL7644OXr2aFzy5Ytduyxx9o3vvENa29vt7179wbj4Re/+EX713/9V/vLX/4SPM7WrVvtmmuusUceeSR8BLPW1lY75phj7Ec/+lHw+/xzra6uDgbInp6e8F6ZofN//I//YZ/73OfswQcfHLjv17/+dZs5c2Z4Lws+bm1tra1bty74uM7H2pNOOil4jCiGzmSig444LcZm6NzbbZ2dncWPe7+bGTq/e2/u7bkvw45RYOhMJjrooIUGOmiggw5aaKCDDlpooIOO0bSIXraetWrVqoKXr/vQeeaZZ9qpp55q9fX1wZiZ5aOmj5Ivv/xyeMtQ/njnnXeezZ49O+f3ZkfS6OfgI+WsWbNy7ueam5tt8uTJI36NPmr65xo9U5ShM5nooCNOi7EZOjfMyQyZoz141fX9xtCZTHTQQQsNdNBABx200EAHHbTQQAcdo2nhl6j7cPnqq6+Gt5ht3749GC3zL1/3ofNv/uZvbOXKleEtg/z3++Xjfhl5/jiZ5Y/72c9+1p588snwlkE+bPol7Fn+dv4Zma7UsdIH15NPPjlneGXoTCY66IjTYmyGzmdX2y233DL6YzWvur6/GDqTiQ46aKGBDhrooIMWGuiggxYa6KBjNC38EvXowOh8qCx0+boPnf4cmcWGzF//+tfBc3YeffTR9q1vfcseeugh6+/vD9+bGRp9DI2Oqln5jz2aofPFF1+0Sy+91I444ojgOTqzx/vf/36GTtBBSJwW5X+OTowJhs5kooMOWmiggwY66KCFBjrooIUGOugotYVfSn7OOefkjIPRw98XvXw9+xydw/Hn0ty0aZPV1NTY//yf/9M+/elPBy9S5HxozB8jo0dVVdXACFnq0OnPEfqhD33IFi5caF1dXcFtjjM6kUUHHXFalGfofO2p4Al/1z31WngDDjSGzmSigw5aaKCDBjrooIUGOuighQY66Ci1RaHL1rMKXb5eytAZ5Wdz+quu++jp/MzLU045xV555ZXg7eGUOnT6VaTZx49i6EQWHXTEaVGeoTP7nJ03PGi8xvrYYOhMJjrooIUGOmiggw5aaKCDDlpooIOOUltEX209X/aFg6KXrw83dPqoWehxGhoaBn6Pvyr6WWedFdxWSPTs0VKHTr9PXV1d8OuoP/zhD3bCCScwdIIOQuK0KM/Q2fNbm1k1wSZUXWdry/P3ROIwdCYTHXTQQgMdNNBBBy000EEHLTTQQUcpLXxU9FdW91dYL8ZHzujl68MNnT4i+tmhftWnD5o+era1tQVjY/Rj+Kumf/jDHw5e0Mgvc/f7+Su2f/vb37ZvfvOb4b1KHzp/85vf2LHHHmutra3BY+3YscO++93v2kc+8hH7+Mc/ztAJOgiJ06Jsz9HZ/chC+2rVBKu6/C57bm94Iw4Yhs5kooMOWmiggwY66KCFBjrooIUGOugopcXmzZvtM5/5jD3//PPhLUP5q6P//d//fXBfN9zQ6SPjAw88ELzY0GGHHWaHHHKIffSjHw0GzfwzPX3s9KtDDz300OC5Of3Fi3zUfOONN8J7lD50+mPX19fbUUcdNfBYS5cuDS6559J1ODroiNOiPEPn3m7r7Oy0nX/4D5t72alW9dWF9tDLncFtOUc3C+j+YuhMJjrooIUGOmiggw5aaKCDDlpooIMOWmiggwY66IjTorzP0TnSMWdD+BswWgydyUQHHbTQQAcNdNBBCw100EELDXTQQQsNdNBABx1xWpRn6Hx2dfAKZyMeq58NfwNGi6EzmeiggxYa6KCBDjpooYEOOmihgQ46aKGBDhrooCNOi7I9RyfGFkNnMtFBBy000EEDHXTQQgMddNBCAx100EIDHTTQQUecFgydFYKhM5nooIMWGuiggQ46aKGBDjpooYEOOmihgQ4a6KAjTovyDZ19HdZSf6NNmzrVphY7bm0N74zRYuhMJjrooIUGOmiggw5aaKCDDlpooIMOWmiggwY66IjTokxD56t2z9VV4YsOTbTJkyfahImTM+Om/zp9+8TJDJ1xMHQmEx100EIDHTTQQQctNNBBBy000EEHLTTQQQMddMRpUZ6h86V6u9RHzkk32O+6+jKvwp59hfWeDTZn0gSbkn67O3ML9gNDZzLRQQctNNBBAx100EIDHXTQQgMddNBCAx000EFHnBblGTp92PSh84YHrS/7dnboTNu89Nz0+6fYwrbgvdgPDJ3JRAcdtNBABw100EELDXTQQQsNdNBBCw100EAHHXFalHfozI6bm262quvWWk/mrYH3T1rYFt6A0WLoTCY66KCFBjpooIMOWmiggw5aaKCDDlpooIMGOuiI06I8Q+crP7PLfej8x7vsBX971z12ddV1tja8Vv3VVVfmDqEYNYbOZKKDDlpooIMGOuighQY66KCFBjrooIUGOmigg444Lcr2YkSrrpxgEyZcaatezbztL05Udc63rK7uW3ZOlb+vymb+duAcT4wSQ2cy0UEHLTTQQQMddNBCAx100EIDHXTQQgMdNNBBR5wWZRo6zXq2/ZetW7fOHtvem7mh+xG7ddpkm+hnck48z2rrn+TFiGJg6EwmOuighQY6aKCDDlpooIMOWmiggw5aaKCDBjroiNOibEMnxhZDZzLRQQctNNBBAx100EIDHXTQQgMddNBCAx000EFHnBYMnRWCoTOZ6KCDFhrooIEOOmihgQ46aKGBDjpooYEOGuigI04Lhs4KwdCZTHTQQQsNdNBABx200EAHHbTQQAcdtNBABw100BGnxdgNnc+utltuuWV0x+pnw9+M0WLoTCY66KCFBjpooIMOWmiggw5aaKCDDlpooIMGOuiI02Lshs4Nc2yCv9DQaI45G8LfjNFi6EwmOuighQY6aKCDDlpooIMOWmiggw5aaKCDBjroiNNi7IfOSxfYuqc6bE9feDvGBENnMtFBBy000EEDHXTQQgMddNBCAx100EIDHTTQQUecFmM3dL62wW6rnWaTJ4Zna06cbNNqb7NfPLbVuveG98EBw9CZTHTQQQsNdNBABx200EAHHbTQQAcdtNBABw100BGnRRlejGivdW99zH5xW61NmzwxM3pWnWYXpeZZ/bqnrINTPQ8Ihs5kooMOWmiggwY66KCFBjrooIUGOuighQY6aKCDjjgtyjB05trbvdUe+8VtVjttsk0Mnptzok2eVmu3/eIx28qpnvuNoTOZ6KCDFhrooIEOOmihgQ46aKGBDjpooYEOGuigI06Lsg+dOfZ229bHfmFLvn0uL0YUE0NnMtFBBy000EEDHXTQQgMddNBCAx100EIDHTTQQUecFgdp6OyzPR1P2br6eZa66DSrCs7srLLTFraG78doMXQmEx100EIDHTTQQQctNNBBBy000EEHLTTQQQMddMRpUb6hs2+PdTy1zurnpeyi06oyZ3BmL1u/l+fqjIuhM5nooIMWGuiggQ46aKGBDjpooYEOOmihgQ4a6KAjTosxHTr79nTYU+vqbV7qIjutyofN9JF9IaKHDuKrr/dsteY751vt9Gqrrq626bU32Q9WtVlnf/j+AT22tWmpzZ6RCu833+5u67Qhd3P9ndZ2d/YxUzZj9lJr2toTvnPQzqa5wWNVz22yneFthby5flHmftXLrT28bTgMnclEBx200EAHDXTQQQsNdNBBCw100EELDXTQQAcdcVqM3dC56ebwkvT0MXGyTbux3tY91WEH/cTNnnZbXltri5uesV29mclyX8/L9oc1v7KHXw/eDPXaH1fUWmpeoz2ze1/67X7rfbHZFtembNH6rsxdBuy0B+alrHbZRusIHnOf7W5vsBtTtdawJXcW9aFzblOrramba01Fl843bf2iGlvZfJ/NZejEMOiggxYa6KCBDjpooYEOOmihgQ46aKGBDhrooCNOi7EbOjfMyYycly20+9ets3WlHE+9Fv7msdJrrcum27ymHYXPyozavsbqUkusJe+kzP5tjVZXs9zae8Mb0npbl1mqrtG25T1oT8sSS+WduZkZOnemH74u+G9Bb663RTUrbfOOJoZODIsOOmihgQ4a6KCDFhrooIMWGuiggxYa6KCBDjritBj7oXM0x1i/6npXsy3wAXHEldNsW+Msq1m5ucAgutOa5qZseXv2Pb3WsqTaFjTnn+WZ1t9uy1O5Z25mh85gSC1y+bpfth587J0MnRgeHXTQQgMdNNBBBy000EEHLTTQQQctNNBBAx10xGkxdkPn3m7r7Owc3THGT9rpA2JqefvIZ3OG4+WSlshpmxFbGmrspvt2hG9ts8ZZs6xxW/hmDr8EvdruaBv8iANDZzCYFrp8PXPZesOW9C8ZOjECOuighQY6aKCDDlpooIMOWmiggw5aaKCDBjroiNNiTF+MSI0PlHPXPGMvbFxlP7ip1qYHL/YTvnDQc92RAdRHyGpbXmRhDF5QaOCd7ba8uvjzbbYvr865RH1w6Mz8um7N9uDXA4LL1hvMd06GToyEDjpooYEOGuiggxYa6KCDFhrooIMWGuiggQ464rRI1NDpo2NqxvftzqZH7YVdvZlhc1+PvfzoiuCFg5a3Z5+QszxDZ3Apfd0ai06dftbprOzpoUWGTh81Cx3+B4GDg4ODg4ODg4ODg4ODg4ODg6PSj0ISN3RGR8eo3BcOKtPQaV3WvKDOBk/q9MvWI5fBc0YnRkAHHbTQQAcNdNBBCw100EELDXTQQQsNdNBABx1xWiRq6PSRMbXij+FbeXJGxXI8R2dGV/OCwcvX/bL16BmeDJ0YAR100EIDHTTQQQctNNBBBy000EEHLTTQQQMddMRpkaih07Y0WE32+S/z5Y2KPkiW9qrr/da+PDX6V13Pily+7pet5zxnJ0MnRkAHHbTQQAcNdNBBCw100EELDXTQQQsNdNBABx1xWiRr6LTttqYuZUtass/FOcjPrEwtfsjeDN+27WusLrXE8u/av63R6mpW2ubIAtrbusxSdY22LW8VDS6HX9Bs0Ql0yNAZnPXpl69n/xve7Bg6MQI66KCFBjpooIMOWmiggw5aaKCDDlpooIMGOuiI06J8Q2dfl215eJ2tWzfM8dRr4Z3HTv+21Xbj9BttxaMd1uvDZH+vdfiLEU2fZ007oktlv21pqLXUvEZ7Zve+4O3eF5ttce10W9aaP5R22fpFKatdttE6ggfdZ7vbG9KPOcfW5K2fQ4fO8EzOFStyL1t3DJ0YAR100EIDHTTQQQctNNBBBy000EEHLTTQQQMddMRpUZ6hs+8Fq7+8yiZMmDD8MWdD+BvG1r7XHrW759fa9Opqq66ebrXz77ZHX/MxM1+PbW1aarNnpNL3q7bptfPt7rbOApezp/V3Wtvd8612uj9mymbMXmpNW4eeOVpo6LTeFluSfvwhtzN0YgR00EELDXTQQAcdtNBABx200EAHHbTQQAcNdNARp0V5hs5NN1uVD5lVl9v/ubfAmZzZowxndFYqhs5kooMOWmiggwY66KCFBjrooIUGOuighQY6aKCDjjgtyjt0lumMzSRi6EwmOuighQY6aKCDDlpooIMOWmiggw5aaKCDBjroiNOiPENnz29tZtUEm3D1PbYrvAkHFkNnMtFBBy000EEDHXTQQgMddNBCAx100EIDHTTQQUecFmV6MaI+a1s4xSZMuNJWvRrehAOKoTOZ6KCDFhrooIEOOmihgQ46aKGBDjpooYEOGuigI06LMg2dZt0tt9i5EybYxMlTberUIsetreG9MVoMnclEBx200EAHDXTQQQsNdNBBCw100EELDXTQQAcdcVqUZ+jctcam+6Xr/jydEycXHjn9YOjcbwydyUQHHbTQQAcNdNBBCw100EELDXTQQQsNdNBABx1xWpRn6NwwJzNyXnqXvdAX3oYDiqEzmeiggxYa6KCBDjpooYEOOmihgQ46aKGBDhrooCNOi/IMnW0LbRKvuj6mGDqTiQ46aKGBDhrooIMWGuiggxYa6KCDFhrooIEOOuK0KNNzdD5nt18wwSacu9Q2h7fgwGLoTCY66KCFBjpooIMOWmiggw5aaKCDDlpooIMGOuiI06I8Q+febvvTr661UydMsu//vtM6O4sc3XvD34DRYuhMJjrooIUGOmiggw5aaKCDDlpooIMOWmiggwY66IjTorzP0TnSwaXt+42hM5nooIMWGuiggQ46aKGBDjpooYEOOmihgQ4a6KAjTovyDJ3PrrZbbrll5GP1s+FvwGgxdCYTHXTQQgMdNNBBBy000EEHLTTQQQctNNBBAx10xGlRpufoxFhj6EwmOuighQY6aKCDDlpooIMOWmiggw5aaKCDBjroiNOCobNCMHQmEx100EIDHTTQQQctNNBBBy000EEHLTTQQQMddMRpUb6hs6/DWupvtGlTp9rUYsetreGdMVoMnclEBx200EAHDXTQQQsNdNBBCw100EELDXTQQAcdcVqUaeh81e65uip80aGJNnnyRJswcXJm3PRfp2+fOJmhMw6GzmSigw5aaKCDBjrooIUGOuighQY66BivLfo6O+2t+9da1x0/Dg7/td82XvEzoYEOOuK0KM/Q+VK9Xeoj56Qb7HddfZlXYc++wnrPBpszaYJNSb/dnbkF+4GhM5nooIMWGuiggQ46aKGBDjpooYEOOsZdi3fesT0Pb7KddbOt4/pZOYff5u/z+4w3/ExooIOOOC3KM3T6sOlD5w0PWl/27ezQmbZ56bnp90+xhW3Be7EfGDqTiQ46aKGBDhrooIMWGuiggxYa6KBjvLXwITMYNW+YbW81/cbefmZLcPivd95QF7xvz6aW8N7jBz8TGuigI06L8g6d2XFz081Wdd1a68m8NfD+SQvbwhswWgydyUQHHbTQQAcNdNBBCw100EELDXTQMZ5a+KXpftamj5x9HTvDWwf5bT52+n3G22Xs/ExooIOOOC3KM3S+8jO73IfOf7zLXvC3d91jV1ddZ2vDa9VfXXVl7hCKUWPoTCY66KCFBjpooIMOWmiggw5aaKCDjvHUwp+H08/Y9LM3i/H3BfdJ33c84WdCAx10xGlRthcjWnXlBJsw4Upb9WrmbX9xoqpzvmV1dd+yc6r8fVU287cD53hilBg6k4kOOmihgQ4a6KCDFhrooIMWGuigYzy18Bcd8hHTL1Uvxt/n9/H7jif8TGigg444Lco0dJr1bPsvW7dunT22vTdzQ/cjduu0yTbRz+SceJ7V1j/JixHFwNCZTHTQQQsNdNBABx200EAHHbTQQAcd46kFQyfGGh10xGlRtqETY4uhM5nooIMWGuiggQ46aKGBDjpooYEOOsZTCy5dx1ijg444LRg6KwRDZzLRQQctNNBBAx100EIDHXTQQgMddIynFqN5MaL+XbvCW8cHfiY00EFHnBZlHDr7rOuJVTYvdZGdFjwnZ/jiQz0bbM6k9K+nLLS2vvCuGDWGzmSigw5aaKCDBjrooIUGOuighQY66BhvLfY8vCk4Y9MHTT970y9V9+OttU3Bbf6+PZtawnuPH/xMaKCDjjgtyjR09tkLP7si83ycE6rstLOnWe0/nz/wKuttCycFt8/ZwNK5vxg6k4kOOmihgQ4a6KCDFhrooIMWGuigY9y1eOedYMj0szZ91IweflswcqbvM97wM6GBDjritCjP0LlrjU33szirLrelT3RZMGdumDMwdPasvS44w/PcpZuDtzF6DJ3JRAcdtNBABw100EELDXTQQQsNdNAxXlv4Zez+PJz+okN++K/9tvGKnwkNdNARp0V5hk4fNf1szhsezIycLjJ0Drw/+zZGjaEzmeiggxYa6KCBDjpooYEOOmihgQ46aKGBDhrooCNOi/IMnZtutiofMq9baz3hTdGhc9c9VwdD56SFbcHbGD2GzmSigw5aaKCDBjrooIUGOuighQY66KCFBjpooIOOOC3KM3T2/NZmBi9AdKn93ye7M7dlh86+F+yuS/19VTbztwMzKEaJoTOZ6KCDFhrooIEOOmihgQ46aKGBDjpooYEOGuigI06LMr0YkdlLq7IvRjTRJk+rtVv8xYjOv8K+dU5VcDZn1eX19gKvRbTfGDqTiQ46aKGBDhrooIMWGuiggxYa6KCDFhrooIEOOuK0KNvQ6a+83vXEKrvxstMyl7Fnj4nnWerWB62DkTMWhs5kooMOWmiggwY66KCFBjrooIUGOuighQY6aKCDjjgtyjh0Ru217s5O694bvonYGDqTiQ46aKGBDhrooIMWGuiggxYa6KCDFhrooIEOOuK0GLuhs/VWmzp1qk29tTW8AWOJoTOZ6KCDFhrooIEOOmihgQ46aKGBDjpooYEOGuigI06LsRs6/cWG/NL08JXVMbYYOpOJDjpooYEOGuiggxYa6KCDFhrooGN/W9x0003BgQOj3D8TX/va1+yXv/xl+Bay+LtJR5wWDJ0VgqEzmeiggxYa6KCBDjpooYEOOmihgQ6DXn75ZXv/+99vhxxyiK1atSq8dahXX33Vjj32WHvXu951QAfG/W1xsIbOlpYW+8QnPhF838plpI/pg2FVVZV1d3eHt5TOf4//3u9973vhLRlxHrMUDJ2F8XeTjjgtGDorBENnMtFBBy000EEDHXTQQgMddNBCAx0G+Xh28skn29y5c+2SSy6xv/71r+F7ct1///02efJkO/vssxk6K2jozMrvwNB5cPB3k444LcZ+6BzNwSi63xg6k4kOOmihgQ4a6KCDFhrooIMWGugwKDt0/v73vw+Gre3bt4fvyXXVVVfZwoULg4GKoZOhMy6GzsL4u0lHnBZjP3ROnJx5UaJSDl64aL8xdCYTHXTQQgMdNNBBBy000EEHLTTQYVB26Ny2bZtdcMEFBS9f98vWffR6/PHHhwydfgbo6tWr7cQTT7TDDjssuLT9yCOPDM4Qzf83ov/en//859bU1BT8W/3QQw8Nfs+1115rb7/9dnivDP+9/hj+WNnHrKmpGXhM/xzmzJljbW1tdvrppweP44934YUX2u7du4P7ZPnnWF9fb0cffXTwWEcddZTddddd1t/fH94jwx8r+3n5pfwf+MAHgnHXPzcf/Px74L8///CvK6uUj+WPNWXKlGDA9Me++eab7d3vfnfO40Ttz9A5mu+13/enP/1p8Gv/GP5UBvlfox/R7tnPO9vnYx/7WPCx8s8I9rcfeOCBgc/Bj09/+tP2oQ99iKGzAP5u0hGnBZeuVwiGzmSigw5aaKCDBjrooIUGOuighQY6DMoOnf5fHzkLXb7ul62fddZZ9pe//CUYxaKDl49rtbW1tm7duuD97vnnn7eTTjppyBmX/nvf97732Ze//OVgVPTxz+87ceJE+8lPfhLeKzOiXXbZZcEY6O93PsTW1dVZR0dH8LY/9uGHH26f+9zn7MEHH7S9e/cGXb/+9a/bzJkzg/tk+SDnzy/a2toafG3PPPOMfeYzn7Ef/OAH4T0yj//JT37SVq5cGTyWf27+OV5xxRX2yiuvhPcaeXQs5WNlh86NGzfa7Nmz7cMf/nDw9b/22mvhPXLt79CZ/732713+99pFh86s4c7o3Ldvn33zm9+0L3zhC0Ef/zr/8z//M/g67r333vBeGf799Nv/4z/+Y+D7+uyzz9opp5zC0FkAfzfpiNOCobNCMHQmEx100EIDHTTQQQctNNBBBy000GFQdOj0y9Z93MqOi1l+2frixYuDX+cPncX4OHfmmWfaG2+8Ed5SeFDzFnfeeaddeuml4S1mDQ0NwSCXf2ZmlH8Os2bNGjLKNjc3B88lmm3sX8txxx1nDz30UPB2ln9+vhfs2LEjeHv9+vV2xhlnFBz2ooYbHUv9WNmh89vf/rZ96Utfss7OzuD2YvZ36Mz/Xrv877Ub7dDp3yv/fPL/nHg3/9739PQEb/uw6l/37373u+DtKP+YDJ1D8XeTjjgtGDorBENnMtFBBy000EEDHXTQQgMddNBCAx0GRYdOHw2vvPLKnDP+/LL1U0891Z577rng7VKHzujjZhUat7yF3+bvc/45XHzxxQPDajH+ORT6PHwU9BExO9D5Wao+vmXPNs3y93/xi18MzlZ1Tz75ZHDm5aOPPhq8Xcxwo2OpH8vf9hFxpDE3a3+HzkJDYvR7neVvj2bo9O+7j9/5fCj/7Gc/G3wvXfRM4HzFPr+k4+8mHXFajN3Q+exqu+WWW+yW1c+GN2AsMXQmEx100EIDHTTQQQctNNBBBy000GFQ/iC5Zs0a++pXvxpcnux8rDr//PMH3vaBKn9gfPHFF4OzBI844oic53T053oc7dDpw9qkSZOCMzOHU+rQWWyUc/4x/SxE5wProkWL7G//9m/tox/9aPB8oE8//fSQM0aHGx1L/Vj+ufkg6peul0Jt6PT7Fxqi878u32P86QYKKfb5JR1/N+mI02Lshk6UFUNnMtFBBy000EEDHXTQQgMddNBCAx0G5Q+dfnm1X06dvSy5uro65wxPH6iiA2N7e3vwwjL+oj1dXV3hrft/RqePZQd66IyOr/lH/mP42Yc+7n7rW98KXkjonHPOyTnrcqShs9DHyB7Zj+Wfm3+O/lilUBw6C3192SP7cf3rzf/+ZhX7/JKOv5t0xGmRuKGzv+2O4P9YFDqWt4d3GtBjW5uW2uwZqeD902vn291tnZb72nCh/k5ru3u+1U73x0rZjNlLrWlr5rkxonY2zc18vLlNtjO8rZA31y8KP6/lNuTTKoChM5nooIMWGuiggQ46aKGBDjpooYEOg/IHyejl637Zuo+O0edi9IEqOl75WXt+9mO+/Md1hcYtb5E/vvnZof5cksMpNqLlD51+FmX+c1KWyv+N60Nn9HMZbnQs9WONduj0pw3wVyrPPn1APj+70l9tPnr2abEhMf977fzt0Qydfpamdx+Jfz/yP6+sYp9f0vF3k444LRI3dO647yab1bgtfGs4vfbHFbWWmtdoz+z2ywT6rffFZltcm7JF6wf/l7KMnfbAvJTVLttoHb0+g+6z3e0NdmOq1hq25M6iPnTObWq1NXVzrano0vmmrV9UYyub77O5DJ0YBh100EIDHTTQQQctNNBBBy000GFQoUHSz2j0y9dXr16dcxm784EqOjD6rwtdnvyHP/zBTjjhhP0aOv3y+VJejKiUodOfL9Jfmd1fVT2fD3D+KuDO/1tokPOvLfpx/PGOP/744HL9fKV+rNEOnf7iPqeddlpw1mw+/x55vx/96EfhLRnFhsT877Xzt/OHTv8z4K+qHn0xqSx/nz/naKERNPp1Pv7448Fzdua/aJHfxwdQhs6h+LtJR5wWCRs6+63tjmpb0tIbvj2M7WusLrXEWvJOyuzf1mh1NcutPfIQva3LLFXXaNtyN03raVliqbwzNzND5870w9cF/y3ozfW2qGalbd7RxNCJYdFBBy000EEDHXTQQgMddNBCAx0GFRo6s2dy+hG9bN35KBYd/n7zm9/Ysccea62trcGA5Ze+f/e737WPfOQj9vGPf3y/hs63337bLrvssmAMzI5kPh766Oiv5O1KHTr9c5o5c2bwNfr46m/v3bvXHnzwweBFlu65557gfv5f/32PPfZY8H4f6+6991771Kc+FXxtWT46+vflO9/5TvBvYL9v9mss9WONduh0/ryXxxxzTDB2Zv/8+vfGH6fQKFzoe+1KHTq94yc/+clgQPXvhV/Sn/3eex8fKi+44IKBUdff7y/GdMoppwx8XT6Qf/Ob37STTjopp+M//dM/2WGHHcbQWQB/N+mI0yJhQ+cOu++mWVbKCZ3bGmdZzcrNBS5T32lNc1O2vD37nl5rWVJtC5rzz/JM62+35ancMzezQ2cwpBa5fN0vWw8+9k6GTgyPDjpooYEOGuiggxYa6KCDFhroMKjQ0On8cvQPfvCDwStpR/koFh0Yfcyrr68Pns/Sn5/x6KOPtqVLlwaXWec/bqHxzVsUGt/835dz5861I488cuBxv//97w/8u7PUodP5MOcDoT+GP9ahhx5qEyZMsF/96lcDZx/6f/3r8HHW35+9T6HnCt26dWsw3h1yyCHBYPcv//Iv4XtK+1j7M3Q6fz7U008/PfiY/tj+vbnmmmsKnnVZ6HvtSh063cMPP2wf+9jHgo91+OGH2+233x6+J9Pt2muvHejjn5N/bhs2bAj+TGRlO7773e8Ovl/HHXecNTU12UUXXcTQWQB/N+mI0yJZQ2d/m91RvcRGPqEzM14WO/NzS0ON3XTfjvCtbdY4q9h46pegV9sdbYNz6cDQGQymhS5fz1y23rAl/UuGToyADjpooYEOGuiggxYa6KCDFhrooIMWGuiggQ464rRI1tD5+gM2L3zhoewxvfYm+8GqR+21wac9SfMRstCLE2UELyg08M52W15d/Pk225dX51yiPjh0Zn5dtyb3f6HLXLbeYL5zMnRiJHTQQQsNdNBABx200EAHHbTQQAcdtNBABw100BGnReJejCjXPut57QXbuOJGS9Uut/aB5+Msz9BpXc22oG6NRadOv2x94MWSigydPmoWOvwPAgcHBwcHBwcHBwcHBwcHBwcHR6UfhSR86MzqsbY7aqwmuF7clWnotC5rXlBngyd1+mXrkcvgOaMTI6CDDlpooIMGOuighQY66KCFBjrooIUGOmigg444Lco4dPZZ1xOrbF7qIjutakLwhMAT5mww69lgcyalfz1lobX1hXc9CPrb7rDqeQ/Y68Fb5XiOzoyu5gWDl6/7ZevRMzwZOjECOuighQY6aKCDDlpooIMOWmiggw5aaKCDBjroiNOiTENnn73wsytsoo+bE6rstLOnWe0/n58ZOtPaFk4Kbp+z4eAtncHQuWi9vRm+7YNkaa+63m/ty1Ojf9X1rMjl637Zes5zdjJ0YgR00EELDXTQQAcdtNBABx200EAHHbTQQAcNdNARp0V5hs5da2y6n8VZdbktfaLLgjlzw5yBobNn7XXBGZ7nLt0cvD1Wtm/+o3UPXS7TeqxlSSp3gNy+xupSS6xl4Hk7M/q3NVpdzUrbHHmc3tZllqprtG15j93TssRSC5otOoEOGTqDsz798vXsf8ObHUMnRkAHHbTQQAcNdNBBCw100EELDXTQQQsNdNBABx1xWpRn6PRR08/mvOHBzMjpIkPnwPuzb4+R5391vU2//oe25g8v21u9mVVyX8/LtvF2v/1u+2POler9tqWh1lLzGu2Z3f6S7P3W+2KzLa6dbsta89ZP67L1i1JWu2yjdQSPu892tzfYjdPn2Jq89XPo0BmeybliRe5l646hEyOggw5aaKCDBjrooIUGOuighQY66KCFBjpooIOOOC3KM3RuutmqfMi8bq0NTISRoXPXPVcHQ+ekhW3B22On33o7HrVVP7jJaqdXW3V1taVmzLYfrHrUXvMtc4ge29q01GbPSAX3nV473+5u6yxwOXtaf6e13T0/fNyUzZi91Jq25g+ihYdO622xJenHH3I7QydGQAcdtNBABw100EELDXTQQQsNdNBBCw100EAHHXFalGfo7PmtzQxegOhS+79Pdmduyw6dfS/YXZf6+6ps5m+HDoMoDUNnMtFBBy000EEDHXTQQgMddNBCAx100EIDHTTQQUecFmV6MSKzl1ZlX4xook2eVmu3+IsRnX+FfeucquBszqrL6+2Fg/iq6+MdQ2cy0UEHLTTQQQMddNBCAx100EIDHXTQQgMdNNBBR5wWZRs6/ZXXu55YZTdedlrmMvbsMfE8S936oHUwcsbC0JlMdNBBCw100EAHHbTQQAcdtNBABx200EAHDXTQEadFGYfOqL3W3dlp3XvDNxEbQ2cy0UEHLTTQQQMddNBCAx100EIDHXTQQgMdNNBBR5wWZRo6X7L64Hk4r7RVr4Y3DXjVVl1Z7H0oFUNnMtFBBy000EEDHXTQQgMddNBCAx100EIDHTTQQUecFuUZOl+4y/7RL1O/+h7bFd4UlX3V9UvrXwpvwWgxdCYTHXTQQgMdNNBBBy000EEHLTTQQQctNNBBAx10xGlRnqHTX2Hdh05/lfVCRno/RsTQmUx00EELDXTQQAcdtNBABx200EAHHbTQQAcNdNARp0V5hs62hTbJh8xL663QOZsv1V8aDJ2TFraFt2C0GDqTiQ46aKGBDhrooIMWGuiggxYa6KCDFhrooIEOOuK0KM/Q2ddmC6f483BW2eX1L1j0Bdb7Ou616yb5+6bYwjZeen1/MXQmEx100EIDHTTQQQctNNBBBy000EEHLTTQQQMddMRpUaYXIzLr3nCznVPlg+YEm3heyupuucXqUufZRD/Tc0KVnXPzBusO74vRY+hMJjrooIUGOmiggw5aaKCDDlpooIMOWmiggwY66IjTomxDp9v759/Z/GmTw3EzHD0nT7P5v/uz7Q3vg/3D0JlMdNBBCw100EAHHbTQQAcdtNBABx200EAHDXTQEadFWYfOQXutu7PTulk3DxiGzmSigw5aaKCDBjrooIUGOuighQY66KCFBjpooIOOOC0O0tCJA42hM5nooIMWGuiggQ46aKGBDjpooYEOOmihgQ4a6KAjTovyXrre3WmdncMcnOK53xg6k4kOOmihgQ4a6KCDFhrooIMWGuiggxYa6KCBDjritCjT0NltG24+x6oiz81Z8JizIbw/RouhM5nooIMWGuiggQ46aKGBDjpooYEOOmihgQ4a6KAjTovyDJ2bl9q5wZg5xa6ou8VuuaXIsfrZ8DdgtBg6k4kOOmihgQ4a6KCDFhrooIMWGuiggxYa6KCBDjritCjP0LlhTuaMzevWWk94Ew4shs5kooMOWmiggwY66KCFBjrooIUGOuighQY6aKCDjjgtyjN0vlRvlzJ0jimGzmSigw5aaKCDBjrooIUGOuighQY66KCFBjpooIOOOC3K9Bydr9qqKyfYhKo5tqEvvAkHFENnMtFBBy000EEDHXTQQgMddNBCAx100EIDHTTQQUecFuUZOvd2287/nGdnTaiy6379cuFXXPeDV13fbwydyUQHHbTQQAcNdNBBCw100EELDXTQQQsNdNBABx1xWpT3OTpHOnjV9f3G0JlMdNBBCw100EAHHbTQQAcdtNBABx200EAHDXTQEadFeYbOZ1cXfpX1/INXXd9vDJ3JRAcdtNBABw100EELDXTQQQsNdNBBCw100EAHHXFalOk5OjHWGDqTiQ46aKGBDhrooIMWGuiggxYa6KCDFhrooIEOOuK0YOisEAydyUQHHbTQQAcNdNBBCw100EELDXTQQQsNdNBABx1xWpRv6OzrsJb6G23a1Kk2tdhxa2t4Z4wWQ2cy0UEHLTTQQQMddNBCAx100EIDHXTQQgMdNNBBR5wWZRo6X7V7rq4KX3Rook2ePNEmTJycGTf91+nbJ05m6IyDoTOZ6KCDFhrooIEOOmihgQ46aKGBDjpooYEOGuigI06L8gydL9XbpT5yTrrBftfVl3kV9uwrrPdssDmTJtiU9NvdmVuwHxg6k4kOOmihgQ4a6KCDFhrooIMWGuiggxYa6KCBDjritCjP0OnDpg+dNzxofdm3s0Nn2ual56bfP8UWtgXvxX5g6EwmOuighQY6aKCDDlpooIMOWmiggw5aaKCDBjroiNOivENndtzcdLNVXbfWejJvDbx/0sK28AaMFkNnMtFBBy000EEDHXTQQgMddNBCAx100EIDHTTQQUecFuUZOl/5mV3uQ+c/3mUv+Nu77rGrq66zteG16q+uujJ3CMWoMXQmEx100EIDHTTQQQctNNBBBy000EEHLTTQQQMddMRpUbYXI1p15QSbMOFKW/Vq5m1/caKqc75ldXXfsnOq/H1VNvO3A+d4YpQYOpOJDjpooYEOGuiggxYa6KCDFhrooIMWGuiggQ464rQo09Bp1rPtv2zdunX22PbezA3dj9it0ybbRD+Tc+J5Vlv/JC9GFANDZzLRQQctNNBBAx100EIDHXTQQgMddNBCAx000EFHnBZlGzoxthg6k4kOOmihgQ4a6KCDFhrooIMWGuiggxYa6KCBDjritGDorBAMnclEBx200EAHDXTQQQsNdNBBCw100EELDXTQQAcdcVqUdejc291pnZ3DHN17w3titBg6k4kOOmihgQ4a6KCDFhrooIMWGuiggxYa6KCBDjritCjT0NltG24+x6r8+TiHO3jV9f3G0JlMdNBBCw100EAHHbTQQAcdtNBABx200EAHDXTQEadFeYbOzUvt3GDMnGJX1N1it9xS5Fj9bPgbMFoMnclEBx200EAHDXTQQQsNdNBBCw100EELDXTQQAcdcVqUZ+jcMCdzxuZ1a60nvAkHFkNnMtFBBy000EEDHXTQQgMddNBCAx100EIDHTTQQUecFuUZOl+qt0sZOscUQ2cy0UEHLTTQQQMddNBCAx100EIDHXTQQgMdNNBBR5wWZXqOzldt1ZUTbELVHNvQF96EA4qhM5nooIMWGuiggQ46aKGBDjpooYEOOmihgQ4a6KAjTovyDJ17u23nf86zsyZU2XW/frnwK677wauu7zeGzmSigw5aaKCDBjrooIUGOuighQY66KCFBjpooIOOOC3K+xydIx286vp+Y+hMJjrooIUGOmiggw5aaKCDDlpooIMOWmiggwY66IjTojxD57OrC7/Kev7Bq67vN4bOZKKDDlpooIMGOuighQY66KCFBjrooIUGOmigg444Lcr0HJ2i+nfYfXOrrbq62pa3h7fl6LGtTUtt9oxUcJ/ptfPt7rZO6w/fm6O/09runm+10/3xUjZj9lJr2jr0pZd2Ns0NHqt6bpPtDG8r5M31izL3q15uBT+1PAydyUQHHbTQQAcNdNBBCw100EELDXTQQQsNdNBABx1xWiR66Oxav8iuX/GANc4tNHT22h9X1FpqXqM9s3tf+u1+632x2RbXpmzR+q7MXQbstAfmpax22Ubr6PUZdJ/tbm+wG1O11rAldxb1oXNuU6utqZtrTUWXzjdt/aIaW9l8n81l6MQw6KCDFhrooIEOOmihgQ46aKGBDjpooYEOGuigI06LsRk6s5eqZy9FV7x0vafFlkxfYi09O62p0NC5fY3Vpfz94duh/m2NVlez3Np7wxvSeluXWaqu0bblnerZ07LEUnlnbmaGzp3ph68L/lvQm+ttUc1K27yjiaETw6KDDlpooIMGOuighQY66KCFBjrooIUGOmigg444LcZm6My++FD2xYXkXoyox9ruqA3PzCw8dG5rnGU1KzcXuEzd759K3z/7nl5rWVJtC5rzz/JM62+35ancMzezQ2cwpBa5fN0vWw8+9k6GTgyPDjpooYEOGuiggxYa6KCDFhrooIMWGuiggQ464rQYm6Hztads3bp1tu6p1zJv7+22zs7OkY/uvZn7j7HeP66w2oGRsdDQmRkvl7RETtuM2NJQYzfdtyN8a5s1zppljdvCN3P4JejVdkfb4Fw6MHQGH7fQ5euZy9YbtqR/ydCJEdBBBy000EEDHXTQQgMddNBCAx100EIDHTTQQUecFsl7js7+bdZYV2eNA9eZFxo6C5/lmRW8oNDAO9tteXXx59tsX16dc4n64NCZ+XXdmu3BrwcEl603mO+cDJ0YCR100EIDHTTQQQctNNBBBy000EEHLTTQQQMddMRpkbChs9923DfXahu2RC5JP3hDp3U124K6NRadOv2y9VnZ00OLDJ0+ahY6/A8CBwcHBwcHBwcHBwcHBwcHBwdHpR+FjN3Qmf88na71Vps6dapNvbU1vKHMdj5g82rvsLacFxg6iEOndVnzgjobPKnTL1uPXAbPGZ0YAR100EIDHTTQQQctNNBBBy000EEHLTTQQQMddMRpUd6hs9BtZdNjLUumhy9AFFVo1CzHc3RmdDUvGLx83S9bj57hydCJEdBBBy000EEDHXTQQgMddNBCAx100EIDHTTQQUecFskZOoPRsNqqRziyI6QPkqW96nq/tS9Pjf5V17Mil6/7Zes5z9nJ0IkR0EEHLTTQQQMddNBCAx100EIDHXTQQgMdNNBBR5wWCTqjs5gil6lvX2N1qSXWknOZu7+WUaPV1ay0zZEFtLd1maXqGm3g9Y1CPS1LLLWg2aIT6JChMzjr0y9fz/43vNkxdGIEdNBBCw100EAHHbTQQAcdtNBABx200EAHDXTQEacFQ2fR5+Psty0NtZaa12jP7N4XvN37YrMtrp1uy1rz1k/rsvWLUla7bKN19Prauc92tzfYjdPn2Jq89XPo0BmeybliRe5l646hEyOggw5aaKCDBjrooIUGOuighQY66KCFBjpooIOOOC3Gfug8/5/tlltuyRz/fP7Q26LH6mfD31xOw73wUI9tbVpqs2ekgsvap9fOt7vbOgtczp7W32ltd8+32ul+CXzKZsxeak1b8wfRwkOn9bbYkshl8wMYOjECOuighQY6aKCDDlpooIMOWmiggw5aaKCDBjroiNNi7IfO0RxSZ3qOLwydyUQHHbTQQAcNdNBBCw100EELDXTQQQsNdNBABx1xWozd0Lm32zo7O0d3dO8NfzNGi6EzmeiggxYa6KCBDjpooYEOOmihgQ46aKGBDhrooCNOi7EbOlFWDJ3JRAcdtNBABw100EELDXTQQQsNdNBBCw100EAHHXFaMHRWCIbOZKKDDlpooIMGOuighQY66KCFBjrooIUGOmigg444LRg6KwRDZzLRQQctNNBBAx100EKDeoe+zk576/611nXHj4PDf+23Kenu7rYpU6ZYS0tLeMv+idPipptuCg7Ex99NOmihgQ4a6KAjTguGzgrB0JlMdNBBCw100EAHHbTQINvhnXdsz8ObbGfdbOu4flbO4bf5+/w++Z577jn7h3/4B3vyySfDWwb5+973vvdZVVVVME7mu/POO+2MM86wv/zlL+EtpWHojO9rX/uazOfP3006aKGBDhrooCNOC4bOCsHQmUx00EELDXTQQAcdtNCg2sGHzGDUvGG2vdX0G3v7mS3B4b/eeUNd8L49m4YOi/71TJw40RoaGsJbBjU2NtrkyZPtzDPPDEbPfFddddV+jW0MnfExdKIQWmiggwY66IjTgqGzQjB0JhMddNBCAx000EEHLTQodvBL0/2sTR85+zp2hrcO8tt87PT7FLqMvaamJhgt8/ntftbmN77xDVu1alV4a8Ybb7xhX/jCF+z+++8PbykdQ2d8DJ0ohBYa6KCBDjritGDorBAMnclEBx200EAHDXTQQQsNih38eTj9jE0/e7MYf19wn/R98/mZm6ecckrO5en+dZ599tnBGOljp4+eUX6p+2c/+1nbvn17eEtGc3OzTZgwwQ499FA77LDD7Ctf+Yq9+OKL4Xsz8ofOrq4uO+mkk2zNmjXB21G7du2yk08+2davXx/eYvbyyy8Hj+uP7x/n3HPPHfIxfvnLXwZjoHv66aeDz+k973nPwMf0kXDOnDnW1tZmp59++sBjXXjhhbZ79+7gPu6vf/2rrV692k488cTgPu9617vsyCOPtLlz5w75/9n949XX19vtt99uH/3oR+2QQw6xo446yn79618Hw/A111wT/F6/3b/el156Kfydg9+TpqYmq66utsMPPzy436c//Wn7r//6r/Bema/LP4f844gjjsgZjv17dOmllw48znHHHRc8tn89WdmP+Z//+Z+2YsWKgc/53e9+t/3gBz/Iue9w+LtJBy000EEDHXTEacHQWSEYOpOJDjpooYEOGuiggxYaFDv4iw75iOmXqhfj7/P7+H3z+WXpPqhFL0/3X/sI5kPjI488YmeddVbOEOpnePpl7dHn5/TbjjnmmGAY7O/vD75Xs2fPtk984hP2pz/9KbxX4TM6Z86cadOmTRsyrvlw6meO+hjqfND00c7v39HRYXv37rV58+YFn7+/nZUdOrds2WLHHntscFZqe3t7cH/nQ6ePgJ/73OfswQcfDG73z/frX/968NhZ/rnW1tbaunXrBr7W559/Phgq88+o9I/33/7bf7Pvfve7tmPHjuBr8e/Jf//v/93+7u/+zn70ox8FX4d/LL/PeeedZ/v27Qt+r38cH5s/8pGP2P/7f/8vuI8fP/zhD4Pf29raGtwva7gzOqPfI/+avMW9995rH/7wh23lypXhvTIf84tf/GIwxv7TP/2Tbd26Nficn3rqKTv++ONzxuXh8HeTDlpooIMGOuiI04Khs0IwdCYTHXTQQgMdNNBBBy00KHaIO3T61+SDl5/ZmeUDnY+DzsdOHyajQ6if4Rkd2rJnZeY/16cPZ9ddd13OiFlo6PRf+1mXPhBG+ceJDo/+64svvtjefvvtgRY+FvrZiwsXLgzedj50+nOLnnrqqcFZlvkDqn/us2bNGnK7D6s+4I7U2T9ff3w/UzPLx8f8r9/f72eMbty4Mbwlw3+/fw/8e+EKfU+cf34+FuePwMMNnf498u9HdkTN+t3vfmef+cxnBr7H/jH9a/39738fvB3l3/dbbrklfGt4/N2kgxYa6KCBDjritGDorBAMnclEBx200EAHDXTQQQsNih3iXrrufNiKXp7uv/ZL1rOiz9Pp34NJkyblPD+nD3T+okY+iubz9/ml36+++mrwdqFRz2/zsTV6+bo/lj9m9n7Z+2Q/brRF/hmmPnT+zd/8Tc4ZjFE+EhYaCv1jRQfIYvzScL+k3v+b5eOjf9yoQl+ry/84xe7n/IxaH2yj39tiQ6c/jrfxwTafvy/6/RvuYxb7/hTC3006aKGBDhrooCNOC4bOCsHQmUx00EELDXTQQAcdtNCg2GE0L0bUX2CIdNlXWPeh0Acwv1TdB7as6PN0+pmdfsl39Pk5feA755xzhpxF6HwM9DMJ/Xk9XbGBzc/IjJ656GOdj3Z+f5f/ONEW/ljRMyz98/Hn28w/YzNrNEOnXwruZ0j682BGnxfz/e9/f1mGzmKjaqHP3+/jo3L07Nso/32LFy8Ofj3cx2ToHJ9ooYEOGuigI04Lhs4KwdCZTHTQQQsNdNBABx200KDaYc/Dm4IzNn3Q9LM3/VJ1P95a2xTc5u/bs2nooJXlw1j2eTr98AEsegZh9Hk6/YxA/3X0+TkPxND5+OOPW1VV1cCZnz6sRi9H98fxcTE6NkaP6PDon4+PesWUOnT683p+6EMfCj6P7POEOv845Tqjs9jHYuhEPlpooIMGOuiI04Khs0IwdCYTHXTQQgMdNNBBBy00yHZ4551gyPSzNn3UjB5+WzBypu9TjH9d2cvRo8/PmRV9ns66urohI5iPZXEuXXc+nPqA6p+DP85pp50WjJ9Zframn3WaPdN0uBYHauj056mMXtKfVc6hs9DzhhYbOv1xuHQ9uWihgQ4a6KAjTguGzgrB0JlMdNBBCw100EAHHbTQoN7BL2P35+H0Fx3yw3/tt5XCBz0fMa+66qqc5+d0fgn4JZdcYitWrBgYI6PivhhRlp9t6B/fh7pzzz0356xR5+/LDnD5LfzVxbMf40ANnX4f/57k+8Mf/mAnnHDCmA+d/qJL/uJL0TNbnX8fCn1ebjQvRlSsQ7HvTyH83aSDFhrooIEOOuK0YOisEAydyUQHHbTQQAcNdNBBCw2V3MHHSx8r/YzA7GXmUT5+nnfeeXbKKafkPD9nlp8Jeswxx9ivf/1r27t3b/C98lcM/8QnPmF/+tOfwnsNP7D5GaP+wjtf//rXBy6xjnr22Wft2GOPDYa/jo6O4DYf7nyU+/KXvzwwHB6oofM3v/lN8PFaW1uDEdU/1ne/+137yEc+Yh//+McP6NDp3/elS5cO3OYf65vf/GZwFubu3buD27L8RZs++tGPWltbW/D266+/PvBn059T9LjjjgsGTx+gfQC+99577cMf/nDOizMV+9wcQ+f4RAsNdNBABx1xWjB0VgiGzmSigw5aaKCDBjrooIWGSu7gI+P73vc+O/7444tegu4vyHPGGWcMOdMyy8/EnDBhgh166KF22GGH2Ve+8pVgeIsabmDzsxD9uT798yj2PJNPP/20nX766cHj+3NzHnnkkZZKpXJGxwM1dPq4WV9fb0cddVTwsY4++uhgjPTP7UBfuu6Dpp8lmn3RI/+6rrnmmoEXWIry8dLH3ne/+93BfX149e9Lln9eflbn4YcfboccckgwfDY1NQ2c8eqG68DQOT7RQgMdNNBBR5wWDJ0VgqEzmeiggxYa6KCBDjpooYEOOiqpxXCjozp+JnTQQgMdNNBBR5wWDJ0VgqEzmeiggxYa6KCBDjpooYEOOiqpBUMnDgRaaKCDBjroiNOCobNCMHQmEx100EIDHTTQQQctNNBBRyW1YOjEgUALDXTQQAcdcVowdFYIhs5kooMOWmiggwY66KCFBjroqKQWDJ04EGihgQ4a6KAjTguGzgrB0JlMdNBBCw100EAHHbTQQAcdtNBABx200EAHDXTQEacFQ2eFYOhMJjrooIUGOmiggw5aaKCDDlpooIMOWmiggwY66IjTgqGzQjB0JhMddNBCAx000EEHLTTQQQctNNBBBy000EEDHXTEacHQWSEYOpOJDjpooYEOGuiggxYa6KCDFhrooIMWGuiggQ464rRg6KwQDJ3JRAcdtNBABw100EELDXTQQQsNdNBBCw100EAHHXFaMHRWCIbOZKKDDlpooIMGOuighQY66KCFBjrooIUGOmigg444LRg6KwRDZzLRQQctNNBBAx100EIDHXTQQgMddNBCAx000EFHnBYMnRWCoTOZ6KCDFhrooIEOOmihgQ46aKGBDjpooYEOGuigI04Lhs4KwdCZTHTQQQsNdNBABx200EAHHbTQQAcdtNBABw100BGnBUNnhWDoTCY66KCFBjpooIMOWmiggw5aaKCDDlpooIMGOuiI04Khs0IwdCYTHXTQQgMdNNBBBy000EEHLTTQQQctNNBBAx10xGnB0FkhGDqTiQ46aKGBDhrooIMWGuiggxYa6KCDFhrooIEOOuK0YOisEAydyUQHHbTQQAcNdNBBCw100EELDXTQQQsNdNBABx1xWjB0VgiGzmSigw5aaKCDBjrooIUGOuighQY66KCFBjpooIOOOC0YOisEQ2cy0UEHLTTQQQMddNBCAx100EIDHXTQQgMdNNBBR5wWDJ0VgqEzmeiggxYa6KCBDjpooYEOOmihgQ46aKGBDhrooCNOC4bOCsHQmUx00EELDXTQQAcdtNBABx200EAHHbTQQAcNdNARpwVDZ4Vg6EwmOuighQY6aKCDDlpooIMOWmiggw5aaKCDBjroiNOCobNCMHQmEx100EIDHTTQQQctNNBBBy000EEHLTTQQQMddMRpwdBZIRg6k4kOOmihgQ4a6KCDFhrokKuvs9Peun+tdd3x4+DwX/tt5UALDXTQQQsNdNBABx1xWjB0VgiGzmSigw5aaKCDBjrooIUGOoTeecf2PLzJdtbNto7rZ+Ucfpu/z+8zlmihgQ46aKGBDhrooCNOC4bOCsHQmUx00EELDXTQQAcdtNBAhwwfMoNR84bZ9lbTb+ztZ7YEh/965w11wfv2bGoJ7z02aKGBDjpooYEOGuigI06LZA2d/d320sbVtnT+LKudXm3V1eljeq3d9INV9uhr+8I7RfXY1qalNntGKrjv9Nr5dndbp/WH783R32ltd88PHzdlM2YvtaatPeE7B+1smpv5uHObbGd4WyFvrl+UuV/1cmsPbxsOQ2cy0UEHLTTQQQMddNBCAx0yl6v7WZs+cvZ1DP3/gv02Hzv9PmN5GTstNNBBBy000EEDHXTEaZGsobN9hV2/cJVtfOE16wl3zf7eXfZM02KrTc2zph3RCbPX/rii1lLzGu2Z3X7nfut9sdkW16Zs0fquzF0G7LQH5qWsdtlG6+j1x9hnu9sb7MZUrTVsyZ1Ffeic29Rqa+rmWlPRpfNNW7+oxlY232dzGToxDDrooIUGOmiggw5aaKBD+ntw/9rgjE0/e7MYf19wn/R9xwotNNBBBy000EEDHXTEaZGwMzr7C5+Nmb516y9nWU3DlvDttO1rrC61xFryTsrs39ZodTXLrb03vCGtt3WZpeoabVveg/e0LLFU3pmbmaFzZ/rh64L/FvTmeltUs9I272hi6MSw6KCDFhrooIEOOmihgQ4WvOiQj5h+qXox/j6/j993rNBCAx100EIDHTTQQUecFjxHZ2jHfTdZasUfw7fMtjXOspqVmwsMozutaW7Klrdn39NrLUuqbUFz/lmeaf3ttjyVe+ZmdugMhtQil6/7ZevBx97J0Inh0UEHLTTQQQMddNBCAx0YOpGLDjpooYEOGuigI04Lhk7X027La6OXmWfGyyUtkdM2I7Y01NhN9+0I39pmjbNmWeO28M0cfgl6td3RNjiXDgydwWBa6PL1zGXrwcmlDJ0YAR100EIDHTTQQQctNNAh/T3g0nVE0EEHLTTQQQMddMRpkeChs99633rZ/tB0p/3rjOvt9pboiwz5CFlty4ssjMELCg28s92WVxd/vs325dU5l6gPDp2ZX9et2R78ekBw2XqDBf9bN0MnRkAHHbTQQAcNdNBBCw10GN2LEfXv2hXeeuDRQgMddNBCAx000EFHnBYJHDozI2bmFc2r7dpb6q1le2/eJerlGTqtq9kW1K2x6NTpl63Pyp4eWmTo9FGz0OF/EDg4ODg4ODg4ODgUj13ND9or35lpO777Petcvdp2tz0eHJ2/Xh3c5u/z+xT6vRwcHBwcHBwc+Uchib50fV/PG/bylgdt1cLrbcaCNbZ14IWHyjR0Wpc1L6izwZM6/bL1yGXwnNGJEdBBBy000EEDHXTQQgMdQu+8Y3s2tQRnbfol6tHDb/P3+X3GEi000EEHLTTQQQMddMRpwXN0BvbZn9fMtdSyVss8K2c5nqMzo6t5weDl637ZevQMT4ZOjIAOOmihgQ4a6KCDFhrokMsvY/fn4fQXHfLDf+23lQMtNNBBBy000EEDHXTEacHQmZU3KvogWdqrrvdb+/LU6F91PSty+bpftp7znJ0MnRgBHXTQQgMdNNBBR1JbHMwhrRB+JnTQQgMddNBCAx000EFHnBYJGjr7bd++obNlVv/mlVYTPZty+xqrSy2xloHL2TP6tzVaXc1K2xx5qN7WZZaqa7RteQ/f07LEUguaLTqBDhk6g7M+/fL17H/Dmx1DJ0ZABx200EAHDXTQkbgWfmn0w5uKXxqdft9YXxpdCD8TOmihgQ46aKGBDhrooCNOiwQNnTutad71tnDVg7bl5besNztK7uuxl//wC1swvdaWt0dXzX7b0lBrqXmN9szufcHbvS822+La6basNW/9tC5bvyhltcs2WkfwwPtsd3uD3Th9jq3JWz+HDp3hmZwrVuRetu4YOjECOuighQY6aKCDjqS18CEzGDVvmG1vNf3G3n5mS3D4r/0Vvf19wfNAlhk/EzpooYEOOmihgQ4a6KAjTotEXbre3/2SbVy91ObPut5mpMJXXp9eazf9YJVtfKm7wGXqPba1aanNnpEK7ju9dr7d3dZZ4H5p/Z3Wdvd8q53uj5uyGbOXWtPgqxsNKDR0Wm+LLUk//pDbGToxAjrooIUGOmigg44ktfBL0/2sTR85+zry/n+qNL/Nx06/T7kvY+dnQgctNNBBBy000EEDHXTEacFzdFYIhs5kooMOWmiggwY66EhSC38eTj9j08/eLMbfF9wnfd9y4mdCBy000EEHLTTQQQMddMRpwdBZIRg6k4kOOmihgQ4a6KAjSS38RYd8xPRL1Yvx9/l9/L7lxM+EDlpooIMOWmiggwY66IjTgqGzQjB0JhMddNBCAx000EFHklowdKIUtNBABx200EAHDXTQEacFQ2eFYOhMJjrooIUGOmigg44kteDS9dF7+eWX7f3vf7+9613vKnjcdNNN4T3Lzz/21772tfCtA4e/nzTQQQctNNBBAx10xGnB0FkhGDqTiQ46aKGBDhrooCNJLUbzYkT9u3aFt5aHagcfOk8++eTgv2oYOisbHXTQQgMdNNBBR5wWDJ0VgqEzmeiggxYa6KCBDjqS1mLPw5uCMzZ90PSzN/1SdT/eWtsU3Obv27OpJbx3+ah2YOjEwUIHHbTQQAcNdNARpwVDZ4Vg6EwmOuighQY6aKCDjsS1eOedYMj0szZ91IweflswcqbvU26qHUodOn/yk5/YpEmTrKenJ7xl0J133mnnnXee7du3L7zF7IEHHrDjjjvODjnkEHv3u99tc+fOzfn/Vbu7u23KlCnW0tJib7/9tt18883B/XzY9NuOOOKIgpfS//KXvwwfIfM9vfbaa+3II48M3nf00UfbXXfdZf39/eE9Mvwxf/7zn1tTU5NNmDDBDj30UDvssMOC3+sfGwcH/3dCBy000EEDHXTEacHQWSEYOpOJDjpooYEOGuigI6kt/DJ2fx5Of9EhP/zXftvBotqh1KHz+eeft09+8pP2+OOPh7dk+Lg5derUYAjNWrVqlR1zzDG2evXqYHTs6Oiws88+26qrq+2vf/1rcJ/s0Llx40abPXu2ffjDHw4e47XXXgve74Y7o9N//5e+9KXg/a+//nrwuG1tbfapT30q+H3Zj+P8Pu973/vsy1/+cnCfN954I/icJk6cmPN5o7z4vxM6aKGBDhrooCNOC4bOCsHQmUx00EELDXTQQAcdtNCg2qHUodOHw4svvtgWLlwY3pLx3HPP2QknnBAMoa6rq8tOOukkq6+vD97O2rZtW3A2ZXYozQ6d3/72t4PBsrPACD3c0OkD5SmnnBI8TtSWLVvsH/7hH3IGWX+Mn/70p+Fbgy38TNRLL700+DXKj7+bdNBCAx000EFHnBYMnRWCoTOZ6KCDFhrooIEOOmihQbWDD5zDvep69FJxP1Mz//J1Hwt9AM2eQemXnZ944on26quvBm9nZYfSxYsXB2/7QFlVVRWcVbl79+7gtnzFhs7sY/nHzpf/cZw/Rv4l785vKzakYuzxd5MOWmiggwY66IjTgqGzQjB0JhMddNBCAx000EEHLTSodij1jE63Y8eO4GzN7NmS2cvWfQDN8vHwjDPOsL/85S/hLYN8uKyrqwt+7UPn5MmTg0vXiyk2dPrv9cG1ubk5vCWX/76rrroqfIuhUxV/N+mghQY6aKCDjjgtGDorBENnMtFBBy000EEDHXTQQoNqh9EMnX625LRp0wbOlvTL1v2MTB9As3w8LHRmaPbIDovZS9f9DNBiGDorG3836aCFBjpooIOOOC0YOisEQ2cy0UEHLTTQQQMddNBCg2qH0Qyd7v7777ezzjorOGPTLx334TN72brzMzT9/SN9vXGGTi5drwz83aSDFhrooIEOOuK0YOisEAydyUQHHbTQQAcNdNBBCw2qHUY7dPpzb/qLAPmrl59//vnB8Bnl7/fn6Cw2YPrl7q6UodPHygsvvDBnSM0a7YsRMXTq4e8mHbTQQAcNdNARpwVDZ4Vg6EwmOuighQY6aKCDDlpoUO0w2qHT1dTU2NVXX22nnnrqkBcdcsuXL7ePf/zj9rvf/c76+/uDw4fRiy66yG6++ebgPqUMnT5WfuQjH7H/+I//CMZOf0X37AsX+e/3V2v3odIvnff3+8f41Kc+FZwJGh1HGTo18XeTDlpooIMGOuiI04Khs0IwdCYTHXTQQgMdNNBBBy00qHbwgXO4V1330TCfPzfm4YcfHgyehfjIuHLlSvvoRz9qhxxySHD4r2+//faB/3+1lKHTH8fHyKOOOir4XI488khbt25d+N7M9/Taa68Nbvf3H3300XbXXXcFw2oUQ6cm/m7SQQsNdNBABx1xWjB0VgiGzmSigw5aaKCDBjrooIUGOuighQY66KCFBjpooIOOOC0YOisEQ2cy0UEHLTTQQQMddNBCAx100EIDHXTQQgMdNNBBR5wWDJ0VgqEzmeiggxYa6KCBDjpooYEOOmihgQ46aKGBDhrooCNOC4bOCsHQmUx00EELDXTQQAcdtNBABx200EAHHbTQQAcNdNARpwVDZ4Vg6EwmOuighQY6aKCDDlpooIMOWmiggw5aaKCDBjroiNOCobNCMHQmEx100EIDHTTQQQctNNBBBy000EEHLTTQQQMddMRpwdBZIRg6k4kOOmihgQ4a6KCDFhrooIMWGuiggxYa6KCBDjritGDorBAMnclEBx200EAHDXTQQQsNdNBBCw100EELDXTQQAcdcVowdFYIhs5kooMOWmiggwY66BjPLfo6O+2t+9da1x0/Dg7/td82HvEzoYMWGuiggxYa6KCBDjritGDorBAMnclEBx200EAHDXTQMS5bvPOO7Xl4k+2sm20d18/KOfw2f5/fZzzhZ0IHLTTQQQctNNBBAx10xGnB0FkhGDqTiQ46aKFBpcPu3bvt8ssvt8MOO8ze9a532U033RS+Z2y9/PLLdvLJJwf/PZj4edAxHlv4kBmMmjfMtreafmNvP7MlOPzXO2+oC963Z1NLeO/xgZ8JHbTQQAcdtNBABw100BGnBUNnhWDoTCY66KDFwfHcc8/ZP/zDP9iTTz4ZvB3t4O973/veZ1VVVdbd3R3eOujOO++0M844w/7yl7+Et5TGR8RPfOIT1tJSeGj561//atXV1XbBBRfY66+/Hty2b9++4L9jrdShc6wvCebnQcd4a+F/Dv2sTR85+zp2hrcO8tt87PT7jKfL2PmZ0EELDXTQQQsNdNBABx1xWjB0VgiGzmSigw5aHBz+fZ84caI1NDQMvJ3V2NhokydPtjPPPDMYPfNdddVV+3Wm5UhDp4+q/nE3btwY3lI+Iw6dZbokmJ8HHeOthY/u/ufRz94sxt8X3Cd93/GCnwkdtNBABx200EAHDXTQEacFQ2eFYOhMJjrooMXBU1NTE4yWLtrBb/ezNr/xjW/YqlWrwlsz3njjDfvCF75g999/f3hL6UoZOqdMmVL0/WNppKGzXJcE8/OgY7y18DOM/c+h/7ksxt/n9/H7jhf8TOighQY66KCFBjpooIOOOC0YOisEQ2cy0UEHLQ4eP3PzlFNOCQbGbAf/79lnnx2MjT52+ugZ5Ze6f/azn7Xt27eHt5g9++yzdvHFF9sRRxwRPK+mP7/mV77yFXvxxRfDe5h97WtfC96Xf/jl8a+88krw30Lvj545+vTTT9vpp58ePP6hhx5qn//85629vT18b4Z/3j6W+tfko+W5554b3PeXv/xleI/M3/sLFiywo48+OvgYhx9+uH3xi1+0j3/84wWHzlIuCe64/rv2yv+ebp0//FGsS9r5edAx3lowdGKs0UIDHXTQQgMdNNBBR5wWDJ0VgqEzmeiggxYHj1+W/ulPfzr4b7aD/9qHwl27dtkjjzxiZ511Vs7zdPoZnn55efT5OW+77Tb793//d3vttdeCt/2xrrvuuoERNSvOGZ2tra12zDHH2I9+9CPbu3dvcPz4xz+2D37wgzmXumeHzj/96U/Bpfn+6/Xr1w98vm+//bZddtllwe1btmwJnhfU3/cf//EfdvzxxxccOoe9JDi8pH3H/77G/vz/fdNeufqfg/v6sT+XtPPzoGO8teDSdYw1Wmiggw5aaKCDBjroiNOCobNCMHQmEx100OLg8e+9n8noZ3ZmO/iQ6ZesOx87fRCMPk+nn+FZyvNz+miZ/3yb+zt0+gsSnXfeeQU/7h133GGTJk2ynp6e4G3/vaeddlpwVurs2bOtv78/uD3r3nvvtZNOOmngxY6y/HMrdun6cGfKZS9p77iu1l5J/W97/f+3MLjf/l7Szs+DjvHWYjQvRtSf/tkeL/iZ0EELDXTQQQsNdNBABx1xWjB0VgiGzmSigw5aHFw+XPqR7ZB9fs6s6PN0+n18VCz1+Tn9cvXoJeP7O3T6ZfKf+9znCr4wkr/PL6XPvnq8/973vOc9wSjqZ2vm8+ckXbx4cfjWoP0ZOqPD0p6NDwf3iV4SvD+vcs3Pg47x2GLwuWTrgrHd/8wGw/vapuC20Q7vCviZ0EELDXTQQQsNdNBABx1xWjB0VgiGzmSigw5aHFzZV1j3y859aPRL1f2S9azo83T60OiDY/T5OV32OS8/8IEP2CGHHJLzHJsHYuj0t/0ydD/DNJ//Hj8rNTu++n391eL9RZPy+Z81//oKvar7cENnsUuCo7cXuyS42O3F8POgY1y28KdS2NQSjOv+5y56+G3ByDmKp1JQwM+EDlpooIMOWmiggwY66IjTgqGzQjB0JhMddNDi4PLx0p+n84knnsh5fs6s6PN0+pjov44+P6dfMu6/54ILLrCtW7fmnEV5oM7oHO3Q6Y/ht+cr9vhuuKGz2CXB2TM9/WzOYpcE+9l0fp9SX/yFnwcN3vz1xsagmx8+VJd6Vq4C/1z9cx6vn38UPxM6aKGBDjpooYEOGuigI04Lhs4KwdCZTHTQQYuDy7//fjn6r371q5zn58yKPk9nXV3dkOfJ9CH01FNPLThCHqxL14sNnT7CXnjhhdbQ0BDeMmi4odMVuiTYn48zePGhf6nNDJ4FLglm6BxnwheX8tH6le/MDNplj+CMyFG+uBTi42dCBy000EEHLTTQQQMddMRpwdBZIRg6k4kOOmhx8Pml6TNnzgyevzL6/JzOx8FLLrnEVqxYEZzNmf/8nD4sFrpU3P9u9cExOnS++uqrNmHChIKXjrtiQ+doX4yo2NDpFi5caBdffHHw6utRL774YvAiRcWGzkKXBPvIGbzS+v++puglwVy6Pr4MDtqzrXP16sHnuEx3HK/PcTne8TOhgxYa6KCDFhrooIEOOuK0YOisEAydyUQHHbQ4+Hy8PPHEE4PBMHtmZJSPnz40nnLKKUOen9Of2/Mzn/mM/fCHP7S9e/cGl7X7GZPHH3+8vfe9780ZOn00nTZtWnCZuw+j/oroO3bsCIZMN9yl5a2trXbMMccEH8c/hn+sH//4x/bBD34wZzgdaej0QfPYY4+16667Lviz55/D73//+2CA9ccqOnSGopcE7/rhj2zH/74mGL8O1Ktc8/Nw8Hhbb5V9ioL8Fvvz4lKIj58JHbTQQAcdtNBABw100BGnBUNnhWDoTCY66KDFweeXhPso6eNkoUvQfTw84ogj7Iwzzsh5fs6sp59+OhgK/YWIDj/8cLviiiuCwTD/0nXX2dlp559/vh166KHBcdFFFw085nBDp/OPc/rpp9thhx0W/N7Pf/7z1t7eHr43Y6Sh0/nYee655waP4Y/1la98xR566KFhL10v5kC/yjU/DwePD9jeyzsGbxdoMdozdBEfPxM6aKGBDjpooYEOGuigI04Lhs4KwdCZTHTQQQsNdNhPBS5pzx5+W7FL2ouhw8HjZ+l6Nx+qXaEW/j6/T6nPuYr4+JnQQQsNdNBBCw100EAHHXFaMHRWCIbOZKKDDlpooEM8B+pVrulw8DB0auJnQgctNNBBBy000EEDHXTEacHQWSEYOpOJDjpooYEOGuhw8HDpuiZ+JnTQQgMddNBCAx000EFHnBbJGzr7u+255jtt/vUzLFVdbdXV0612/p3W/Fy39Yd3GdRjW5uW2uwZqfT9qm167Xy7u62zwP3S+jut7e75VjvdHzNlM2YvtaatmVfPjdrZNDd4rOq5TTb0JR8Gvbl+UeZ+1cst95nbCmPoTCY66EhKiwN1xt9Y4WdCAx0OHv95LPXFiEp9cSnEx8+EDlpooIMOWmiggwY66IjTIllD586H7IfXz7B/vXujvfBajwWvj9vfax1/+LnNS9Xaij/2BnfL6LU/rqi11LxGe2a337Pfel9stsW1KVu0vitzlwE77YF5KatdttE6en0G3We72xvsxvRjNmzJnUV96Jzb1Gpr6uZaU9Gl801bv6jGVjbfZ3MZOjEMOuio+Bb+HI4Pbyr+HI7p943mORzHCj8TGuhwcEVfXKpz9ergUnU/9vfFpRAfPxM6aKGBDjpooYEOGuigI06LRA2d/X98wNYUOMvSdTUvsOolLTYwdW5fY3WpJdaSd/f+bY1WV7Pc2iObaG/rMkvVNdq2vFM9e1qWWCrvzM3M0Lkz/fB1wX8LenO9LapZaZt3NDF0Ylh00FHpLQaHk9m5r8qd/rXScMLPhAY6HGSRF5d65Tszg5/P7BH8DxOjfHEpxMfPhA5aaKCDDlpooIMGOuiI04Ln6Az1t91h1fMesNfDt7c1zrKalZsLXKa+05rmpmx5e/Y9vdaypNoWNOef5ZnW327LU7lnbmaHzmBILXL5ul+2HnzsnQydGB4ddFRyi/xLYfNFL4U92Jex8zOhgQ4a/Ofx9cZG2aeaSBJ+JnTQQgMddNBCAx000EFHnBYMnYEea1mSsro128O3M+PlkpbopeyDtjTU2E337Qjf2maNs2ZZ47bwzRx+CXq13dE2OJcODJ3BYFro8vXMZesN/mKpDJ0YAR10VHKL/Bc3KUTlxU34mdBABx200EAHHbTQQAcdtNBABw100BGnBUPnvj9b82J/Ls4m2zGwR/oIWW3LiyyMwQsKDbyz3ZZXF3++zfbl1TmXqA8OnZlfD46roeCy9QbznZOhEyOhg45KbuFngvmI6ZeqF+Pv8/v4fQ8mfiY00EEHLTTQQQctNNBBBy000EEDHXTEaZHoobNna5P98Prpdv0Pm+3PwSsTZZVn6LSuZltQt8aiU6dftj4re3pokaHTR81Ch/9B4ODg4DjQx6tLlwXP87e77fGC7/fD3+f38fsWej8HBwcHBwcHBwcHBwcHx4E8Cknm0Nnfbc+tWWDTU9fb7Rtfy7z6eo4yDZ3WZc0L6mzwpE6/bD1yGTxndGIEdNBRyS24dB2jRQcdtNBABx200EAHHbTQQAcNdNARp0Xyhs7+HbbeL1W/scH+2D30pYYyyvEcnRn+au8Dl6/7ZevRMzwZOjECOuio5BajeTGi/l27wlsPDn4mNNBBBy000EEHLTTQQQctNNBBAx10xGmRsKGz37Y0+PNx3pd3qfpQPkiW9qrr/da+PDX6V13Pily+7pet5zxnJ0MnRkAHHZXeYs/Dm4IzNn3Q9LM3/Tk5/XhrbVNwm79vz6aW8N4HDz8TGuiggxYa6KCDFhrooIMWGuiggQ464rRI1tDpo2L1Aiu0SQ6xfY3VpZZYS0/4dqh/W6PV1ay0zZEFtLd1maXqGm1b3ira07LEUguaLfrhhgydwVmffvl69r/hzY6hEyOgg46Kb/HOO8GQ6Wdt/v/bu/8gKeo7/+MprfvhH1KnKXOeekmVP+44q+KZ0jMkhyk1p7lLNMbzcnpqmajJlpPbCMUGzm8WRfwK4eCLRlkSEHIghAuXuFebNc4FXQ4JQiFusogiEgJGkUWEJWKtrrAb3995f6Z7p6ene3aGnoX3TD8fVa07M73zo1/zmV1e++luLTWDi17nSs7cOscbY8IGcrCDLGwgBzvIwgZysIMsbCAHG8jBjiRZpKrofGvVDGmat0Gid0gP82d/tsvLB3X655AMvNolD7U0y/yNofZT+mTNnIy0zF8nvQPadh6Rgz0r5J7me6Uj1H6WFp3eTM4lS4p3W1cUnRgBOdiRlix0N3Y9DqeeXV0X/Vqvs4IxYQM52GEhiy9/+cvy4x//2LuUTowJO8jCBnKwgyxsIAcbyMGOJFmkqujc88Q0aWpqil+mZ6W4guyXHdk2mToh425vbpkpy7r3R+zOnjO0X7qXzZSWZr2vjEyY2ibZHeFCNLrolIENMi93/yXXU3RiBORgB1nYQA42pCGH3bt3y1lnnSV/9md/Jtu2bfOuLTh06JCMGzfuuBd8xyKLadOmuTIzDkUnn02WkIUN5GAHWdhADjaQgx1JskjfyYgaFEVnOpGDHWRhAznYkIYctOj81Kc+JXfccYdMmjRJfv/733u35FF0FlB08tlkCVnYQA52kIUN5GADOdiRJAuKzgZB0ZlO5GBHPWVhfffzJBgTNqQhB7/oXLt2rVxyySXS01O8/wVFZwFFJ59NlpCFDeRgB1nYQA42kIMdSbKg6GwQFJ3pRA521EUWekKhZ9fHn1Aod5uFEwolwZiwIQ05+EWn/n/u3LluZmdwVmdc0fn+++/L/fffL6eeeqp86EMfkvPOO0+y2ezw9x44cEA++clPSldXl7vs27Bhg4wZM0a+9rWvedfk6eNceuml0tHR4V0jMjQ0JD/4wQ/kjDPOcI9x0kknyS233CJ79+YPkaP5TJ8+Xf78z/9cTjjhBLeMHTu26Hko/bqtrW34fv7wD/9QLr744uHn5j8nvS28BF93VNE50nZoNHw22UEWNpCDHWRhAznYQA52JMmCorNBUHSmEznYUQ9ZaJHpSs1vT5V3sv8j77+8zS369d5vt7rb3NnT6xhjwoY05BAsOnt7e92sTi3+fFFF55EjR+QrX/mK/O3f/q38+te/dqXeM888I2effbZ0dnZ6a4krM3WWZNBDDz0k1113nfzDP/yD/O53v/OuFXnhhRfkE5/4hLz2Wv50hnqf+r0f//jHpbu7W95++2156623ZMaMGbJ582a3zi9/+Uv51re+Ja+88oorRXVpb2+Xj33sY0WvYcWKFfLXf/3X8uKLL7r7fe+999x1kydP9tbIq3ZGZ6XboZHw2WQHWdhADnaQhQ3kYAM52JEkC4rOBkHRmU7kYIf1LHTXdJ21qSXnYG/oxGc5ep2WnbpOPe/GzpiwIQ05BItOtXDhQjdrUks8FVV0rlmzRs4//3xX7gVpeXjllVdKf3/+JIYrV650l7VYVFoEfvWrX5X//u//lquvvtqVmz5d95prrhl+XC0qL7jgguHHqCYLLSxbW1u9S+IKzXDhGqXaorPS7dBI+GyygyxsIAc7yMIGcrCBHOxIkgVFZ4Og6EwncrDDehZ6HE6dsamzN+PobW6d3Lr1ijFhQxpyCBedOmtSZyhqiaeiik4tBMO7niudjamzMv0Cc/v27fI3f/M3w7M033zzTVdm6v8nTpwoixYtctcrvT+d7ekLP0Y1WehzDRaWer/6uMEZpFGqLTor3Q6NhM8mO8jCBnKwgyxsIAcbyMGOJFlQdDYIis50Igc7rGehJx3SElN3VY+jt+k6um69YkxECxdYoy0NOYSLTvUf//Ef8sUvftEdfzKq6NQMgqWkT9fVmYzr1q1zl3X7XX755fKzn/3MXdZZmv/yL//iZm3qdbrbtwp/n9LHCBahUVnoDNFVq1a5423qcTeDx9YMvk8OHjzoXs8f//Efy6c//Wl55JFHXKEbVm3RWel2aCR8NtlBFjaQgx1kYQM52EAOdiTJgqKzQVB0phM52GE9i9EqOrXkOeuss4qKEl0+/OEPy0033SSvvvqqt+axkeYxoeWRFk5RKDprL6ro1KLus5/9rDz11FOxRWd4rASX4Lo6c9PfjVxLQb8Y1NmeV111lTtpkc581AJSZ3r69DFGKjr15El/8Rd/4crOw4cPe9fGv0/27Nkjjz76qDs+6MknnyyzZ892ZanvaIrOqNfvL8F1GwU/r+0gCxvIwQ6ysIEcbCAHO5JkQdHZICg604kc7LCexWjtuh5V9mgB8vrrr7tZZ3ocPj1Ry7GS5jGh5RFF57ET9d5XepzJz3/+8+59Hy46tbh84IEHvEvl6czNv//7v3fHq9Tjc/onCdLjdupJifSyPtYNN9xQVDrq/WtJ6gtnoZd11mT4rO6qkvfJli1b5MILL3SFq6/aorOa7dAo0vzZZA1Z2EAOdpCFDeRgAznYkSQLis4GQdGZTuRgh/UsqjkZ0dCBA961I4sre5TOONNCRM/mfKykeUxQdB5bce99LSa1SFy2bFlJ0anl5aWXXupme4ZpWalnP/fp8Sr1OJ1r16512el48mnOOmtTj3MZnL2p9IzqepzLuJMRxe0ero8/b968oveJf4KjID1e59/93d8VnZ1dZ5v+4z/+Y1HhGhQuOqvZDo2Cn9d2kIUN5GAHWdhADjaQgx1JsqDobBAUnelEDrWhJaDOYtRdtnXRr6s983g9ZPHus+vdjE0tNHX2pu6qrss7T2bddXrbu+sL5UUlyhWdUbvuqpdeekmuuOIKd2zAE088US655BLp6enxbs2Lu9+o+wyWeM8995xcdNFF8id/8ifDRYze9qMf/Uiy2ay7TR9TH/uuu+5yx1IM0sv333+/nHrqqW4X2vPOO899X7DA0fvVXYfXr1/vZtOddNJJ7j616NEySncH9h9Hd/PV3YTDBZC+Lt21X7/3hBNOkLFjx5Y8jr5WfZxgoeTT1+SXmvr6w7v+6jJmzJjh7/W3kZZfwcf95Cc/Kb/97W/dOrWUhs+mcu/9zs5OVzbqjObge1XfX/o+0RmZu3btctfpDE09c7rugh7MWktGPRHQN77xDTejM/je0NmYX/rSl+Rzn/tcyYl7dD19b3z84x+X7u5uefvtt91xNWfMmCGbN29262QyGfcc9HotFXU9va9zzjlneCwpnZX9b//2b26Gtt6v5jp16lRXdAZLSi1X9Xt/+tOfuvX6+vrc8T19ep9Hux0aBT+v7SALG8jBDrKwgRxsIAc7kmRB0dkgKDrTiRwS+uADV/7pLEYt+YKLXqe36TqVqIss9PWu3xD/erXkrPD1+sqVPVpeatETLDE3btwoZ555pjupiR4bUBc99t9HP/rRohlmcfdbrujctm2bnHvuuXLzzTe7x/SPPai3/emf/qk7vqAWOlrs6G7F48ePdyeP8WmxpMWOnjlbC0EtbJ555hk5++yzXXHl0xLmlFNOcUXW6tWr3ePoLDctb7Vc1MLIfxwtoXQb+GfiVnrcUi02J0+e7N43up7evz7O8uXLvbUqLzp9Udf5dBtpuauPq7s7a6mkz1t3IdayKWrmXhJp+Gwq997XIk9LSi2cg+9VpdtGS3a/TNdc9L2jMzeDZabSmZK6TnjWps721DGjYyFYOPr0PfWDH/xAzjjjDPf9+lj/+q//Kvu9P+Doc/j6179e9McGfXwtGvV95NP39Te/+U35yEc+4u5HC3ItysOvWZ+3vs7TTjtt+PGefvpp79bSolNVsx0aQRrGRL0gCxvIwQ6ysIEcbCAHO5JkQdHZICg604kckinMcJxaPMMx93W1MxzrKYtazGD1RZU9+/btc0Wmliy6+65fWmiZdu2110aWcQsXLnRnmdbdflVciRRXdOoMs8985jOyYMGCkpJES5bHHnvMu1Sg5ZGWNj4tI7WU9Hf59WkxqLv6+s9Ni0d9PC2BgnS9qN13wyWPFpz6uOFyUU9go7v664lfVK2LTt32WoAF6XEWdVbnG2+84V1TG3w22UEWNpCDHWRhAznYQRY2kIMN5GBHkiwoOhsERWc6kcPRq+aYlZWUgGnNQovIqLOua2kZ3qXWP+Zg8CQmPr1NZ0j631Nt0flHf/RHbjZkVA5Rs8mUXqe3+bQk1GMehoWfmxaPWkCGZ9KF788XfHz9Ht02USeC0dv0uIV6/EL/ci2LzqjnFredk+KzyQ6ysIEc7CALG8jBDrKwgRxsIAc7kmRB0dkgKDrTabRyiCtFouhx2G699Va326EWXMGiRd+Xumui7u6ot8XdZy1nGFZKH0NnbNbqLOTVZHE8Xu9oiSrKdLdonR2pu3DfeOONw9tGCzvdXTx4UhVfuOSLK+B0vaii059JGZWDvu+C6/vC73P9WncVDtPHDJ68JUnRqa/n4osvjix7VfA5UHSiFsjCBnKwgyxsIAc7yMIGcrCBHOxIkgVFZ4Og6GwcUcdE091kn332WW+NgtHKIaoU0cvh67RYampqGj6phQrujquli55YQo+HqEqOA1jDY2RWSwtGfRzdVT2O3qbr6LojqSiL4/h6R0u5osw/TqFf3I1m0em/N6Ny0NuC6/vC73P92p+RGrX490HROTJ+RthBFjaQgx1kYQM52EEWNpCDDeRgR5IsKDobBEVnY9CzH+sx+vSkKf5xAnV2nB77T4/rFzZaOcSVImFaxARnugXp8/7sZz/rnnucWh4js1rHo+g8nq93tIxUlGnx5r+XRnPXdf8xonLQ24Lr+8Lvcz0xzwMPPOBdipek6NTvYdd1HEtkYQM52EEWNpCDHWRhAznYQA52JMmCorNBUHTWP53tqCcoueWWW9xMuEqMVg5xpUhYuSJGbwsXUkG6q7bOYqzVMTKrdax3XT/er3e0lCvKwicfCl8OqvRkRDrjWc8QHXxfBd+vUTnobVHvw/D7XAtGLRr1vRums5f9E/kkKTpV0pMR6XPRXfXD21GPL6plbZS451YuvyT4GWEHWdhADnaQhQ3kYAdZ2EAONpCDHUmyoOhsEBSd9U/LjLFjx5ac8TnKK6+8IjfccIOcfPLJbpdaPT7mF7/4RXn11Ve9NfK0CPHLkFWrVsl5553nThwTLDX0e7R08Y+jqWfK1iIpXIoE78svMYO79fqLrqPfG3Vb8D5rXTRWq5ricShiV+uwkcbE8X69oyWuKNOyTo/Pevrpp0tPT493rcjGjRvlzDPPlIcfftjN+j18+LA8+uij8tGPfrRoZrC+x7R01N24tWD0Zzb/5V/+pZx44olFxWGwxIvKQW8Lru8Ll3/6BwYtEPVQDLt27XLX6eOuXLnSHYLBLxyTFp065nSsa+HZ19fnXl9nZ6ecffbZ7oRKPi00dZxPnDjRfcbrtlq9erWbFfsHf/AHw+PR19HRIeeee650d3e7y3o4CX97xD03is7GRxY2kIMdZGEDOdhBFjaQgw3kYEeSLCg6GwRFZ/3TXWb9E6qM5Pvf/75873vfk507d7rLmsekSZNcGRMsX/xyUk8Mo+VSS0uLK0n9mWm/+c1v5Pzzz5epU6e6wkXt27fPzQoLlyL+fQXFzThTfhkaVTCpWu86fjQKu5K3upJxeFfyJ7PuOr2t0l3JRxoTFl7vaNCCLOqs62PGjHGzN1966SVvzQK97oorrnAFvZaWWqwHy1CflqJaCJ5wwgnu/rSQ1xJvtHZdV/r9WtCeeuqp7nXoc9Tnunbt2uGxmbToVLrd/D8w6OvT15nNZkvGvx7OQse1bif/eL26Da6//vqS8ajjevbs2cN/ADnnnHOGt3/cc6PobHxkYQM52EEWNpCDHWRhAznYQA52JMmCorNBUHTWPy0hwsXFSII5aOkSPl6m3t/NN9/sjn2oZWeQFip6IiEtSMPlSlQp0ohFpzs50PoNbtamPk5w0etcyVnhyYFGGhONWnRaw2eTDeRgB1nYQA52kIUN5GAHWdhADjaQgx1JsqDobBAUnfUvadGpwjPH9P5OOeWUyJMFvfnmm26mmH/yl6BjUXRa2pVbd2PXx9CCURf9utrjZI40Jiy93kbGZ5MN5GAHWdhADnaQhQ3kYAdZ2EAONpCDHUmyoOhsEBSd9a+aolPznjVrlttlWHd7De4yHC46405O8txzz7kZoHpyl7BjUXTW+hiZx9tIY6LRXq9VfDbZQA52kIUN5GAHWdhADnaQhQ3kYAM52JEkC4rOBkHRWf/0GJ164pGRjtGpZ6XWclFPmLJ58+ai9aNmdMaVp3HHGVTHouhUtTxG5vFWyZhopNdrFZ9NNpCDHWRhAznYQRY2kIMdZGEDOdhADnYkyYKis0FQdNY/PYamnhV9pLOu60zMz3zmM3LgwIGSHKopOvXMz3r25vCZ2tWxKjpreYzM462iMdFAr9cqPptsIAc7yMIGcrCDLGwgBzvIwgZysIEc7EiSBUVng6DorH/vv/++XHPNNXLLLbe4r+NoqahnXtZdzoM56HtAS8dKi06dGaq7ri9dutS7pmDFihXHpuj01OIYmcdbNWOiEV6vVXw22UAOdpCFDeRgB1nYQA52kIUN5GADOdiRJAuKzgZB0dkYfvOb38hf/dVfubJz165d7rr33nvPFY+TJ092l/ft2ycXXnihPPzww25Wp3/7BRdcIB/5yEcqLjrVypUr5fTTT5f29nYZGhpyuT7yyCNy2mmnHdOisxEwJmwgBxvIwQ6ysIEc7CALG8jBDrKwgRxsIAc7kmRB0dkgKDobh87U/OY3vymnnnqqO7nQSSedJJdddpl0dnZ6a4i89NJLctFFF7kTEentt99+u+zevbuqXdeVHt8zm826Xeb1sfQxp0+f7mZ5UnRWhzFhAznYQA52kIUN5GAHWdhADnaQhQ3kYAM52JEkC4rOBkHRmU7kYAdZ2EAONpCDHWRhAznYQRY2kIMdZGEDOdhADnYkyYKis0FQdKYTOdhBFjaQgw3kYAdZ2EAOdpCFDeRgB1nYQA42kIMdSbKg6GwQFJ3pRA52kIUN5GADOdhBFjaQgx1kYQM52EEWNpCDDeRgR5IsKDobBEVnOpGDHWRhAznYQA52kIUN5GAHWdhADnaQhQ3kYAM52JEkC4rOBkHRmU7kYAdZ2EAONpCDHWRhAznYQRY2kIMdZGEDOdhADnYkyYKis0FQdKYTOdhRbRblzliPo8eYsIEc7CALG8jBDrKwgRzsIAsbyMEGcrAjSRYUnQ2CojOdyKE6u3fvlrPOOks+9KEPFS0f/vCH5aabbpJXX33VW7MyP/7xj9396f1Wm0W1ReeXv/xlmTZtmncJcRgTNpCDHWRhAznYQRY2kIMdZGEDOdhADnYkyYKis0FQdKYTOVRHC8lPfepT7v++3//+9/L666/LV77yFTn//POlt7fXu6U61WZB0Tk6GBM2kIMdZGEDOdhBFjaQgx1kYQM52EAOdiTJgqKzQVB0phM5VCeq6PQdOHBALrzwQmlvb/euqU61WVB0jg7GhA3kYAdZ2EAOdpCFDeRgB1nYQA42kIMdSbKg6GwQFJ3pRA7VKVd0avE4btw4tzu6T4tFv1xctWqVnHfeecO7qistKbWs1O8NZqFf33XXXXLqqae6XeP1/7pr/J133unWVX7R+cwzz8iSJUvk3HPPlRNOOEFOPvlkmTt3rptpqvT5hHe112XMmDFFJak+J32Mk046yd3P2LFjJZvNDt+PqvQx6xljwgZysIMsbCAHO8jCBnKwgyxsIAcbyMGOJFlQdDYIis50IofqlCs6e3p63K7r+n+fX3SuWbNGzjzzTGlpaZFXXnlFhoaG3O1RRefBgwfl0ksvleuuu0527drlrtPb29ra5PLLLy8qOj/96U+7wvKrX/2q7NixwxWNL774olxwwQXuMYPKzejUY4tqsTl58mT3PPT5dXZ2ytlnny3Lly/31so/pj630047raLHrEeMCRvIwQ6ysIEc7CALG8jBDrKwgRxsIAc7kmRB0dkgKDrTiRyqE1V07tu3Tx555BE544wzZNmyZUWzGrVYvPnmm+UTn/hEZAkYVXTOnj1brrnmGnn//ffdZV9wXaX/v/LKK+V///d/3eWgiRMnygMPPOBdyitXdGrBqbM5jxw54l2T99RTT7nd8ffs2eMuV/uY9YgxYQM52EEWNpCDHWRhAznYQRY2kIMN5GBHkiwoOhsERWc6WcphcP9+eednT0rfwkfdol/rdZZowRl11nWdafnCCy94axVosXjKKafIunXrvGuKhYtOXfS+fvazn3lrFEQVnXpZrw/Txw2XmnFFp96PPmZXV5d3TYHepjM4/edT7WPWIz6bbCAHO8jCBnKwgyxsIAc7yMIGcrCBHOxIkgVFZ4Og6EwnEzl88IG8++x62ds6VXqn3F206HV6m65jQdSMzvfee8/N1vzc5z4nN954Y9E21eKvtbXVu1QqXHS+8cYbbnd03ZU8bLSKTn0tF198sWzfvt27pph+30MPPeS+pujEsUIOdpCFDeRgB1nYQA52kIUN5GADOdiRJAuKzgZB0ZlOFnLQItOVmt+eKu9k/0fef3mbW/Trvd9udbe9u760WDseoopOn+5qrruc+6WgGqn8Cxed5e6fovPY4LPJBnKwgyxsIAc7yMIGcrCDLGwgBxvIwY4kWVB0NgiKznQ63jnoruk6a1NLzsHevd61BXqdlp26joXd2MsVkUqLPi0GfSOVf+Gi83e/+51cccUVkbu6j1bRqffDrusFfDbZQA52kIUN5GAHWdhADnaQhQ3kYAM52JEki5QWnUMy0LtJVs6eIpnFhTMsl+qXHdk2mTohI01NTdLcMlOWde/PfXeEof3SvWymtDQ35dbNyISpbZLd0e/dWLA3O93dV9P0rJTWQgVvr5mTX69psZR7hj6KznQ63jnocTh1xqbO3oyjt7l1cuseb+WKTj2Rz7XXXltU9o1U/oWLTvW1r31NJk2aVHRSI6Xlp54ISNdV1ZaOer9xu9FXczIiik4cC+RgB1nYQA52kIUN5GAHWdhADjaQgx1JskhZ0VkoOCd8u006lv+7NMUWnQOyZUmLZGa0y8sHtTzIfe+rXfJQS0bmrOnLrzJsr6yakZGW+eukd0Br0CNysGeF3JNpkRXbimtRLTqnZzdKR+t0ycY2nW/LmjkTZXnXEzKdohNlHO8c9KRDWmLqrupx9DZdR9c93uKKTi0C77rrLjn99NOlp6cw4kYq/6KKTv1+PeHRww8/LIcPH3bLkiVL5GMf+5g7fufRFp0dHR1y7rnnSnd3t7v81ltvDT+mHhN07NixrvDs6+uToaEh6ezslLPPPluWL1/u1lEUnThWyMEOsrCBHOwgCxvIwQ6ysIEcbCAHO5JkkbKis0eW3bdIul4+KG7eU8/i+KLztQ5pzcyTDaFJmUO72qV14mLpGfCuyBnYOF8yre2yKzTVs3/DPMmEZm7mi869ubtvdf+P9PYamTNxuWzdk6XoRFnHO4d6LDqjzro+ZswYN5vzpZde8tbMG6n8iyo6lZadl1xyiZx44oly0kknudnZ2Wx2eF1Vbemo5eXs2bPl5JNPds/5nHPOKXq++tp0Vqc+3gknnOCKT33M4MxSik4cK+RgB1nYQA52kIUN5GAHWdhADjaQgx1Jskj3MTrLFJ272u+Wicu3Ruymvley0zOyuMe/ZUA2zGuSWV3hWZ45Qz2yOFM8c9MvOl2RGrP7uu627h57L0UnyjveOdTbruujaaQswruuY3Tw2WQDOdhBFjaQgx1kYQM52EEWNpCDDeRgR5IsKDoji858eTlvQ2DaZsC2FRNl2hP5Y96J7JL2u++W9l3exSK6C3qTLOwu1KXDRacrTKN2X8/vtr5CJ8hRdGIExzuHak5GNHTggHdtYxopC52NqTMuMbr4bLKBHOwgCxvIwQ6ysIEc7CALG8jBBnKwI0kWFJ2RRaeWkE0St1e7O6HQ8I09srgp/nibPYubinZRLxSd+a9bO15zXw9zu62vELcjMEUnRmAhh3efXe9mbGqhqbM3dVd1Xd55Muuu09veXV+6q3Sj8bP47ne/K3PmzBk+AZAeo/Oxxx5zx8uMOhs7aovPJhvIwQ6ysIEc7CALG8jBDrKwgRxsIAc7kmRB0Xkci07p65JZrR0SrDp1t/W7/emhMUWnlppRi74RWFiO+XLokBzoWi177v62vPGtyUWLXqe36TqR39uAyy9/+Uu58cYb5bTTTnPH0tTjdOqZz/XkQFHrs7CwsLCwsLCwsLCwsLCwVL9Eoeg8nkWn9EnXrFYpTOrU3dYDu8EzoxMjsJSD7saux+HUkw7pol/rdWnBmLCBHGwgBzvIwgZysIMsbCAHO8jCBnKwgRzsSJIFRWdkm3ksjtGZ19c1q7D7uu62HpzhSdFZJO1FWhQ+iO0gCxvIwQZysIMsbCAHO8jCBnKwgyxsIAcbyMGOJFlQdMZM29RCsrKzrg/l7iZT/VnXfYHd13W39aJjdlJ05n3wgTsOpJ7QRo/3GFz0Or1N10kjPojtIAsbyMEGcrCDLGwgBzvIwgZysIMsbCAHG8jBjiRZUHTG7Z/+Woe0ZubJhn7vsmdoV7u0TlwuWwMN6MDG+ZJpbZddoVa0f8M8yczqkmAFWlJ0ulmfuvu6/3/vakXR6RROdjO1+GQ3ua/TdLKbKHwQ20EWNpCDDeRgB1nYQA52kIUN5GAHWdhADjaQgx1JsqDojCs6ZUi2rWiRzIx2efngEXd54NUueailWeZvDLWf0idr5mSkZf466R3QtvOIHOxZIfc03ysdofaztOj0ZnIuWVK827qi6HS7puusTS05B3uLt5vS67Ts1HXSuBs7H8R2kIUN5GADOdhBFjaQgx1kYQM52EEWNpCDDeRgR5Is0lV0arHZ1FRmCZ9UqF92ZNtk6oSMu725ZaYs694fsTt7ztB+6V42U1qa9X4yMmFqm2R3hAvR6KJTBjbIvNz9l1xP0emOw6kzNnX2Zhy9za2TWzdt+CC2gyxsIAcbyMEOsrCBHOwgCxvIwQ6ysIEcbCAHO5Jkke4ZnQ2kUYtOPemQlpi6q3ocvU3X0XXThg9iO8jCBnKwgRzsIAsbyMEOsrCBHOwgCxvIwQZysCNJFhSdDYKik6ITxxdZ2EAONpCDHWRhAznYQRY2kIMdZGEDOdhADnYkyYKis0Gw6zq7ruP4IgsbyMEGcrCDLGwgBzvIwgZysIMsbCAHG8jBjiRZUHQ2CE5GNFWGDhzwrk0PPojtIAsbyMEGcrCDLGwgBzvIwgZysIMsbCAHG8jBjiRZUHQ2iEYtOtW7z653Mza10NTZm7qrui7vPJl11+lt767f4K2dLnwQ20EWNpCDDeRgB1nYQA52kIUN5GAHWdhADjaQgx1JsqDobBCNXHTKBx+4IlNnbWqpGVz0Oldy5tZJIz6I7SALG8jBBnKwgyxsIAc7yMIGcrCDLGwgBxvIwY4kWVB0NoiGLjo9uhu7HodTTzqki36t16UZH8R2kIUN5GADOdhBFjaQgx1kYQM52EEWNpCDDeRgR5IsKDobRBqKTpQiBzvIwgZysIEc7CALG8jBDrKwgRzsIAsbyMEGcrAjSRYUnQ2CojOdyMEOsrCBHGwgBzvIwgZysIMsbCAHO8jCBnKwgRzsSJIFRWeDoOhMJ3KwgyxsIAcbyMEOsrCBHOwgCxvIwQ6ysIEcbCAHO5JkQdHZICg604kc7CALG8jBBnKwgyxsIAc7yMIGcrCDLGwgBxvIwY4kWVB0NgiKznQiBzvIwgZysIEc7CALG8jBDrKwgRzsIAsbyMEGcrAjSRYUnQ2CojOdyMEOsrCBHGwgBzvIwgZysIMsbCAHO8jCBnKwgRzsSJIFRWeDoOhMJ3KwgyxsIAcbyMEOsrCBHOwgCxvIwQ6ysIEcbCAHO5JkQdHZICg604kc7CALG8jBBnKwgyxsIAc7yMIGcrCDLGwgBxvIwY4kWVB0NgiKznQiBzvIwgZysIEc7CALG8jBDrKwgRzsIAsbyMEGcrAjSRYUnQ2CojOdyMEOsrCBHGwgBzvIwgZysIMsbCAHO8jCBnKwgRzsSJIFRWeDoOhMJ3KwgyxsIAcbyMEOsrCBHOwgCxvIwQ6ysIEcbCAHO5JkQdHZICg604kc7CALG8jBBnKwgyxsIAc7yMIGcrCDLGwgBxvIwY4kWVB0NgiKznQiBzvIwgZysIEc7CALG8jBDrKwgRzsIAsbyMEGcrAjSRYUnQ2CojOdyMEOsrCBHGwgBzvIwgZysIMsbCAHO8jCBnKwgRzsSJIFRWeDoOhMJ3KwgyxsIAcbyMEOsrCBHOwgCxvIwQ6ysIEcbCAHO5JkQdHZICg604kc7CALG8jBBnKwgyxsIAc7yMIGcrCDLGwgBxvIwY4kWVB0NgiKznQiBzvIwgZysIEc7CALG8jBDrKwgRzsIAsbyMEGcrAjSRYUnQ2CojOdyMEOsrCBHGwgBzvIwgZysIMsbCAHO8jCBnKwgRzsSJIFRWeDoOhMJ3KwgyxsIAcbyMEOsrCBHOwgCxvIwQ6ysIEcbCAHO5JkQdHZICg604kc7CALG8jBBnKwgyxsIAc7yMIGcrCDLGwgBxvIwY4kWVB0NgiKznQiBzvIwgZysIEc7CALG8jBDrKwgRzsIAsbyMEGcrAjSRYUnQ2CojOdyMEOsrCBHGwgBzvIwgZysIMsbCAHO8jCBnKwgRzsSJIFRWeDoOhMJ3KwgyxsIAcbyMEOsrCBHOwgCxvIwQ6ysIEcbCAHO5JkQdHZICg604kc7CALG8jBBnKwgyxsIAc7yMIGcrCDLGwgBxvIwY4kWVB0NgiKznQiBzvIwgZysIEc7CALG8jBDrKwgRzsIAsbyMEGcrAjSRYUnQ1Ci04WFhYWFhYWFhYWFhYWFhYWFpY0LFEoOnFU4t5QOLbIwQ6ysIEcbCAHO8jCBnKwgyxsIAc7yMIGcrCBHOxIkgVFJ44KHwA2kIMdZGEDOdhADnaQhQ3kYAdZ2EAOdpCFDeRgAznYkSQLik4cFT4AbCAHO8jCBnKwgRzsIAsbyMEOsrCBHOwgCxvIwQZysCNJFhSdOCp8ANhADnaQhQ3kYAM52EEWNpCDHWRhAznYQRY2kIMN5GBHkiwoOgEAAAAAAADUPYpOAAAAAAAAAHWPohMAAAAAAABA3aPoBAAAAAAAAFD3KDoBAAAAAAAA1D2KTgAAAAAAAAB1j6ITAAAAAAAAQN2j6AQAAAAAAABQ9yg6AQAAAAAAANQ9is4UGtrfLSvnTpUJmSZpasrIhKltkt3R790aNCTdC3WdqGWx9Hhrqb3Z6fnrp2dlr3ddlLfXzIn8/jQYGuiVTStny5RM+dfevyMrbVMnSEa3U3OLzFzWLfuHvBuLDMn+7mUys6XZbdPMhKnSlt0hpUn2yGK3zTOyuCfyjjzbZMVEXa9JpmfLpVj/ap3FUPdC731duiwuegCyCKo0B3Xk4MvSteg+aS77GcOYOBq1zoHxcPQqy+KI7Nu0UuZOa5Fmb/tNmDpXVm7al7sljDFxNGqdA2Pi6I2cRS6HzVl5bO40mTIhk9+umQkyZeYi6dp+KDcCwhgTR6PWOTAmjl41P7Pz+nP/nptYZtswJo5GrXNgTBydinLY84RMC2zP4FK6bdI3Hmq9Da28lyk6U2ZoT1ZmNE+RBet2S7/+Jj40IL2blsg9mZbcGyw8hPfIE9PulvZd3sUytOicnt0oHa3TJf7997asmTNRlnc9IdNTVHQOf3hM+La0dSyXfy/z2ge2LJGWzAxpf/mg+4fS0MCr0vVQi2TmrJG+/CrD9q6aIZmW+bKud8D9AnnkYI+suCcjLSu2hX6h1A+RxbJh43xpzn26xH6MbFshE2d1Sdfixv2BOFpZ7HlimtxdyUAhC6eaHPxibcKE/yvL2h+Vu8sUbIyJ6oxWDoyH6lWcxcA2+cl9E2TKwx2yefc7MuA22hE5uHO1zG/JyIxVxduHMVGd0cqBMVG9irPYm5VZ9y2S7Obd8k4+iFwU/bI75ndbxkR1RisHxkT1qvmZHTSU2zZTZqySbMy2YUxUZ7RyYExUp5ocXPE2b4MMeJfLSdN4GK1taOW9TNGZKgOycX5GZnWFaxqR/g3zcoN6hWwLvsOGumVh0zzZUME7Ol907pXXOlrj34Bvr5E5E5fL1j3ZVBWdPcvuk0VdL8tBN8UjP6CjX/tr0tGakXkbQoXz0C5pb52Y+yUxEMTARpmfaZX2XaGPhP4NMi8TLpu9x9Tvac79P+ZTZNuKie690dOgPxDVqGSR+1jWmc/zKhkoZOFUnsNeWfXwbFm5qTdfJOT+ITU9rmBjTFRtVHJgPByVirPY+wvp2LA/8pfBoa3LZeLd7TL8qyVjomqjkgNj4qhUnMXQUGQOqn/dd6Vpzhp527vMmKjeqOTAmDgqlf/MDnC/t+bf85HbhjFRtVHJgTFRtWpyqLh4S9l4GJVtaOi9TNGZKvpmmiNrCr9pBOiU4ImyYpt3UekU5aJf1uP5Rae81iGtMf8A1t3WJy7fKkP6j+QyA6mxlfkQ2dUud2sRHDHIdftmAn/pGNgwT5pmdZXMLNQPl57FmdCHgP+YWnQ3S/TUcM1/luQ+Qxr2B2Kp2mSRGygVz3wmiyhlcggrU7AxJpKqTQ6Mh1qoIosg/ZmdWSJbvIuMiaRqkwNjohaOLgs3A2XGKnnLu8yYSKo2OTAmaqGSLIZyH0fTh2eiRW0bxkRStcmBMZFUuRwqL97SPR5qsw0tvZcpOlNF30xxMzTzb+Dgm6eqad5+0Zn7p292evgvHiq/27orUik6I1+7+3CN2946ZXvaE7mPjrxd7XfH/lXFHQd1Ybf7YZpXeMyhnsXRU8P1/r2/tqfjB6KqTRbVzHwmiyjxOZQoU7AxJpKqTQ6Mh1qoIothQ7kx0CqZ+RuHP7cYE0nVJgfGRC0cRRZDeyQ7o1nmrCn8k5UxkVRtcmBM1EIFWexdJTNacut42zlq2zAmkqpNDoyJpMrlUHnxlu7xUJttaOm9TNGZKjG743rcTLUlhTkIb62aUXTw2KamZmmZFn2g/ULRmf+6teM19/Uwt9v6CnETRvdSdEa9dt1uTbkBHim0zcoO9NwHRfFJoQKPOZT7unm+bAx9+OiU8DneVN90/EBUtckiN1BkRtE4aZLmlmkyd+Um2RceKGQRIT6HErrtYwo2xkRStcmB8VALVWShhg7JlhX3SEb/IRX48c6YSKo2OTAmaqHyLI7075Od61bK7CkTZFZH8QkkGBNJ1SYHxkQtjJRFv2yY11z0b76obcOYSKo2OTAmkiqXwxZZ4k7AXFgyE6bIzEVdsv1Qca2W7vFQm21o6b1M0Zky/blBqidY+dFm71hrOUf6fye7t62WFQ9MjC931JF+2bdznSzRA/Lm1gv+0hIsOqWvS2a1dkiw6tS/ggz/hYSiM/K1H5OiU4Zk6/IWmV/0KaJTwgt/eUnHD0RVmyxKHZH+fTtl3ZKIf/CSRYT4HEqMRtFJDp7a5FCK8VC9yrMY2t8ty+5rlub7VsqWWv3CThae2uRQijFRvZGz0G0x/A+rKY/I/2w9UPJHecZEUrXJoRRjonrls+jvXigtc4pPnhm1bRgTSdUmh1KMieqUz6HYkAy8s1s2dzzkOpHsnsLP7HSPh9psw1LH771M0Zk6Q3Joe5csmtkize4XkWZpuXumLMpulud/MjV2unaR/m5ZGDqeZ1HRmfs475rVKoVJnbrbemC6M0Vn5Gs/NkVn7h2wdbm0BHer0ynhgd200/EDUdUmi3j90r1wokwsOvAtWZSKz6HEqBSd5JBXmxziMR4qV0kWR2TfugUyJdMsszq2S1S3xphIqjY5xGNMVK6SLPKGBt6RfTs3SXbRfTJhygLZsL8W/4gli7za5BCPMVG5MlkMbJElLdPliVD5ELVtGBNJ1SaHeIyJypTJIVb+2KnBE6WlezzUZhvGO/bvZYpOePLH6PSnBpeXX3fGqsJhxYuLTp3UOauw+7ruth6c4UnRGfnaj8UxOp2hrbK8pTA1fNuK4r+epOMHoqpNFuWUHoCfLErF51CiTMHGmEiqNjmUw3io1EhZ9MtWt4v0Q9L1evxcKcZEUrXJoRzGRKVGyiLKkBzatFAmBn7/ZEwkVZscymFMVCoui/xxgv0T3wRFbRvGRFK1yaEcxkQl4nIYQejkgekeD7XZhuUc6/cyRSfy9I3lndFqZKWlaLjoDO6+rh8MRcfspOiMfu26XSo807cesDdT9VnhfMGp4dtkReADRaXjB6KqTRbluA/0or9ykUWpMjmElSnYGBNJ1SaHchgPlSqfRV/uZ6ru/tM9wvRBxkRStcmhHMZEpcpnEU+/r3CCTMZEUrXJoRzGRKXistDrA4cPiFu8vZYYE0nVJodyGBOViMthBFrS+ecQyUn3eKjNNiznWL+XKTqRk592XHSWUHlNtm45lLslQv8GmZcp/oWlpOjMvYXXzNHd1/3/e1cris6Y1x5zsqihXdLeOlGWB1u3gY0yP9Mq7btCCblswoV1xGNuW5GfGu7/37ta8UuiqjyL17ZuidldUQ9APtIPxZzUZ1Euh5ByBRtjIqHa5MB4qIUyWbg/SoZ+HsRhTCRUmxwYE7UQn8WRI2Vm0+of3TOBfygxJhKqTQ6MiVqIzyJO5LZhTCRUmxwYE0nF5/D2ti0SvdNFftZt0eSVVI+H2mxDS+9lis602fITebhjs+zuz79bhwYOyMvZh6Sl5OCwv5afTGmWKQ93yObd73gnLjoi/bvXyQK9ftmWojdeadHpzeRcsqR4t3VF0Rn72od0UGdmSPvLB3NbW/N5VboeapHm3EAPVW7ebJL5sq53wH24HDnYIyvuaZZ7O3YVPrCdqMfM/5VkyWL/ryYF6fiBqGqTxa9/MkWapzwsHZt3yzveGb6O9O+WdQv0+mWypWjzkkWp8jkUGWEmIWMiidrkwHiohTJZbFkimbvbJXrHqlKMiSRqkwNjohbis+hZ3Cz3LcrKpp37xPvVVn9gy4Gdq93vqzOye4re64yJJGqTA2OiFuKziBO3bRgTSdQmB8ZEUvE5vP3sw9LcfJ8sW7dT9gX7j45ZuetnydOhTZPe8VCbbWjpvUzRmTZH9smmlXNlWktzfsp8c4vMXNQlO8Itmsr9gtK7aaXMneafuCgjE6bOlZWb9rniJyiq6JSBDTIv930l16eq6NQBHNhFIWIJb5/+HVlpmzpBMnq75rOsW6KP4T4k+7uXyUwvy8yEqdKW3VFSiMZ9cOlxSJoyuetD9924PxBHK4shGejdJCvnTpOW5vz9aBZzV26SfeGBQhY5VeTgPiui1/GX4r1+GBOVG60cGA/VqzwLt9tPxO2FJbw9GROVG60cGBPVqzwL/b12c/ax3O+qdw9v36bMBJkyc5FkN5f+vsqYqMZo5cCYqF4VWcSI3zaMicqNVg6MiepUl8ORgy9L16KZMmVCJn+7139sj5x6mJbxMFrb0M57maITAAAAAAAAQN2j6AQAAAAAAABQ9yg6AQAAAAAAANQ9ik4AAAAAAAAAdY+iEwAAAAAAAEDdo+gEAAAAAAAAUPcoOgEAAAAAAADUPYpOAAAAAAAAAHWPohMAAAAAAABA3aPoBAAAAAAAAFD3KDoBAAAAAAAA1D2KTgAAAAAAAAB1j6ITAAAAAAAAQN2j6AQAAAAAAABQ9yg6AQAAAAAAANQ9ik4AAAAAAAAAdY+iEwAAAAAAAEDdo+gEAAAAAAAAUPcoOgEAAFBq7b1y0UUXyUX3rvWuAAAAAGyj6AQAAEgTv8CMXO6V4VozrUVn2e3jL4HtdDQiH2O8XHlDRh7s3CZ9g956AAAAqApFJwAAQJpUWnSm1XErOgvLVfeulUPeqgAAAKgcRScAAECaeCXbTUt/612Bctbeq+XjTVLTzRWVweC70vv8Umm+Sh/vOlmw3bseAAAAFaPoBAAASJNKi86o9X67VG5y1+2Uvm2dMvO2K2V87vJF4y6TWx58rngW4uF98vzKGZK5/jIZp+vklvFX3iYzn3pdDnurON7j3Lv2sLz+iwXS4q8//lppeXynhPfiHuz7lSxtuV4uG6f3OU4uuz4jD67uLaw32Cfrv5+R6y8bV3jM4O1Vii86fytLb8rddvl35LnwnW9tk6tzj335d56LftwyGRx4/E53252PH/CuyRvsWy/fz/ive7xcedtMWd1buPfB3H3qdrtj5ZveNb5+eXKSfs8dUrhpUPrWf7+Qzfgr5baZqyVwdzne67tpqezs2yadM2+TK8fr/eS2+S0PynPBsIffF6HXE/M6D2//qdwTeO9c37JUXmAKKwAAqAGKTgAAgDQpU7IViVrPK7TGjR8/XF4WlnEy+ef93oo53veXLpfLvWtL1xufu8/SdYtnNg7u/KHc7sq20HLTUsk/y0Py88lR9zNO7nw8XABWptyMzu0LrsvddrnM7vau8Px26U2R1w8rk8GbK+9wt016MrCNDv1cJke97nF3yvDL6s+toyXonY9LUUU6uFbuDV1/6OeT8yVjaBmXW6ewlbyic9x4Ge/K1dC6k38uw8+wiqJzcOsC+XLE/V101WzpPto2GgAAwEPRCQAAkCaxBWRuGS4Mc6LKOL/o/MLX5cH/el52HNK5mYfl9f+80xWfV7dtza+nNv8ov87Bd/OzGgfflV2dk+UqfZxJTxZKMr/ovPEeWfr0i9L7bm7twT7ZMEtLxGDh96Y8fqfO0hwn/3T/U7JL18s5fGiH/OLJblfiDT73Hblcn9+tbfL8Pn1ug9L3qza5VYu1y2dLXO9YTtld17cvkOvCr3t4pmeZx4vatocPyY6n7pd/0ucaLDBzr+G571zuXvetbc9L/mX1ya/abnXb/PLhNrVffj5Zt88kCXak/kzP4Rmig8/Jdy7Xx7hV2p7f52bX6izZtlv1e4PlrF90fkG+/uB/yfM7Drl1D7/+n3KnPser22T4VVdcdL4pK+/Ife9FV8nkzl3iIjz8unROvsqtF57FCgAAUC2KTgAAgDTxyqfIpcKis6TQ8q4f+QztO+UH/xz9OCXfGn78A4/LnfoYd6wMzDostv5+LevCx7cclBe+e3Xu+qulqI+sUPljdG6Vtqtzt1+3QIYf0nuesbutq3IZXHSVNBftsr9e7tdiMfgYavAF+a4+dqBw7H9yUu77i2fWds/WkjSw2/r6+13xeV3oIKCDL3zX7W5fKG0Lu64Xv3Tv+uAJmSotOt/4odyau1w0G1Qd6pS7ctcXFeAAAABHgaITAAAgTaIKzChR61VVdB6W1596UDI3eMdiDC5HU3R6BV38835Dfnhr7r6jZlLGPUYFRjoZ0dY2LVELt/tl471rY2vO4ecTXr70je/LU6/rvMkArxwszNwsyD+3QOHY/6RMyq07LvdC84/uFbGB7f3GD2/NfU/UbvVr5V59HsMbaRSKTi/D0pmbcY8FAABQHYpOAACANAmXT3Gi1qu46ByUrW3Xud2j/98vdojbw92JKLTiSsiYkiz+efsFXPwyGkWndM92u8vnTwLknfhn3L1SrucMv7ZDucu6S/+4f5pdfJIf5W/b2CVQOMoBefzO3HX+CZK8kyIFt1n++KHh+wgso1l0epdjF4pOAACQEEUnAABAmoTLpzhR61VcdHbLbD0OZEmzmKDorHTX9XGTJXhOpKRGLDr916on+/FO/FOYURmjZNsOys6l+WNujrt1qews+ub8ruslu3vHyJ+1PT9jM19qhp67K4xDJ46KNApFpzc7NbzbPAAAQK1QdAIAAKRJVIEZJWq9iotObzfoq+6V1X3a2h2WQzt+IUvvuTG/G/vRFJ0VnIyo/+eTXVk4/vYF8nyvdxKk3H/f7X1Rnl7QIt/b6K6oyshFp38czEnS+aSe+KeCEjEyg0O5q/Mn5bkqtzEKEzv9kwyNl9sXPJ8/WZMafFd6X3xaFrR8T4pellcIX932ZL6QDB/b0z87+/jbZcHzvfkTAuUMvtsrLz69QFqGN1L1Ree4O/9T3J73emKl5/9LHrw9/3oKr3O7LLgu973jviD/pzMw09dbf+Z9P5E3vKsAAACOBkUnAABAmhyTotMv57QQCyzjvyBf0NmPR1V0igzu/KHcPj50n7r49ze4U5a6s4dHrJNbSh6jApUUncNnex9X4YzSuAyGn/84uXVp4YREgzuX5s8cH3gthSW467ryzmyeey5a+pbOnizMHo28v+GNVEXR6Zenofty2yP3/+Dr9HfTD6/rlpLHAgAAqA5FJwAAQJrElWxhUetVXHTmHHpBlrZcm5/BOf5KuW1mp/z6UER55j1OJUWnGuz7Ve5+r5fLXLE2Ti67PiMPru4dLgVlsFdWP5iR6y/zC8/xcuUNuXU6t4mbXFqlSopO8XZZd49XyZnDy2VwKHdfV+VfW1HZ2btaHsz4rzu35LbpDZkHpXNbX+G1ewrH4Yw70/yg9K5+UDLXXzZceI6/8gbJPNgp24Y3UhVFZ86h5x6UW7xtPv5ab3uvjn6dh15YKffcVjhJ1bjLPi+33bNUfhE+ERMAAECVKDoBAAAAAAAA1D2KTgAAAAAAAAB1j6ITAAAAAAAAQN2j6AQAAAAAAABQ9yg6AQAAAAAAANQ9ik4AAAAAAAAAdY+iEwAAAAAAAEDdo+gEAAAAAAAAUPcoOgEAAAAAAADUPYpOAAAAAAAAAHVO5P8DwObBBJ95iOgAAAAASUVORK5CYII=)"
      ]
    }
  ]
}